{
 "cells": [
  {
   "cell_type": "markdown",
   "id": "4c77e191-4931-4e15-8f12-8375e116e60b",
   "metadata": {},
   "source": [
    "# Welcome to numpy tutorial \n"
   ]
  },
  {
   "cell_type": "code",
   "execution_count": 1,
   "id": "9a1c76bd-2c82-4a7c-b222-6475c1aa7f1e",
   "metadata": {},
   "outputs": [],
   "source": [
    "import numpy as np\n",
    "import pandas as pd"
   ]
  },
  {
   "cell_type": "code",
   "execution_count": 2,
   "id": "d6eca6cf-980c-4687-97d6-762801b1bea3",
   "metadata": {},
   "outputs": [
    {
     "name": "stdout",
     "output_type": "stream",
     "text": [
      "Hello World\n"
     ]
    }
   ],
   "source": [
    "print(\"Hello World\")"
   ]
  },
  {
   "cell_type": "code",
   "execution_count": 3,
   "id": "680ffe3c-6e61-47b4-bb51-5b93b24ab797",
   "metadata": {},
   "outputs": [],
   "source": [
    "myarr=np.array([[10,20,30,40]],np.int64)"
   ]
  },
  {
   "cell_type": "code",
   "execution_count": 4,
   "id": "66d3b0fa-2af2-4e9b-9036-922e44d5ccd3",
   "metadata": {},
   "outputs": [
    {
     "data": {
      "text/plain": [
       "array([[10, 20, 30, 40]])"
      ]
     },
     "execution_count": 4,
     "metadata": {},
     "output_type": "execute_result"
    }
   ],
   "source": [
    "myarr"
   ]
  },
  {
   "cell_type": "code",
   "execution_count": 5,
   "id": "fdd2534d-c311-4b12-b2a8-d279cfdbbccb",
   "metadata": {},
   "outputs": [
    {
     "data": {
      "text/plain": [
       "np.int64(20)"
      ]
     },
     "execution_count": 5,
     "metadata": {},
     "output_type": "execute_result"
    }
   ],
   "source": [
    "myarr[0,1]"
   ]
  },
  {
   "cell_type": "code",
   "execution_count": 6,
   "id": "d2417b6f-9081-406d-88ed-1d6015546552",
   "metadata": {},
   "outputs": [
    {
     "data": {
      "text/plain": [
       "(1, 4)"
      ]
     },
     "execution_count": 6,
     "metadata": {},
     "output_type": "execute_result"
    }
   ],
   "source": [
    "myarr.shape"
   ]
  },
  {
   "cell_type": "code",
   "execution_count": 7,
   "id": "8c090403-ba02-4d9c-bf55-99af2449f0d0",
   "metadata": {},
   "outputs": [
    {
     "data": {
      "text/plain": [
       "dtype('int64')"
      ]
     },
     "execution_count": 7,
     "metadata": {},
     "output_type": "execute_result"
    }
   ],
   "source": [
    "myarr.dtype"
   ]
  },
  {
   "cell_type": "code",
   "execution_count": 8,
   "id": "ce3f7743-c805-4080-8089-fbde85f3ed63",
   "metadata": {},
   "outputs": [
    {
     "data": {
      "text/plain": [
       "array([[10, 20, 30, 40]])"
      ]
     },
     "execution_count": 8,
     "metadata": {},
     "output_type": "execute_result"
    }
   ],
   "source": [
    "myarr"
   ]
  },
  {
   "cell_type": "code",
   "execution_count": 9,
   "id": "7cd0b5a7-8cec-440f-b91b-0ef8e3b7d595",
   "metadata": {},
   "outputs": [],
   "source": [
    "myarr[0,1]=45"
   ]
  },
  {
   "cell_type": "code",
   "execution_count": 10,
   "id": "afdfd147-a6d5-486f-9571-464059880784",
   "metadata": {},
   "outputs": [
    {
     "data": {
      "text/plain": [
       "array([[10, 45, 30, 40]])"
      ]
     },
     "execution_count": 10,
     "metadata": {},
     "output_type": "execute_result"
    }
   ],
   "source": [
    "myarr"
   ]
  },
  {
   "cell_type": "markdown",
   "id": "771ae402-5bf0-450d-b044-01892413416a",
   "metadata": {},
   "source": [
    "# Array Creation:Conversion from other Python structures"
   ]
  },
  {
   "cell_type": "code",
   "execution_count": 11,
   "id": "e9acccc9-04d9-4777-8e43-2ee668edf8bf",
   "metadata": {},
   "outputs": [],
   "source": [
    "listarray = np.array([[1,2,3],[5,8,5],[0,3,1]])"
   ]
  },
  {
   "cell_type": "code",
   "execution_count": 12,
   "id": "82d5f08a-7e20-4e08-9869-7ea6e5355e18",
   "metadata": {},
   "outputs": [
    {
     "data": {
      "text/plain": [
       "array([[1, 2, 3],\n",
       "       [5, 8, 5],\n",
       "       [0, 3, 1]])"
      ]
     },
     "execution_count": 12,
     "metadata": {},
     "output_type": "execute_result"
    }
   ],
   "source": [
    "listarray"
   ]
  },
  {
   "cell_type": "code",
   "execution_count": 13,
   "id": "98ad3849-849c-453b-ae86-482e22c5c49b",
   "metadata": {},
   "outputs": [
    {
     "data": {
      "text/plain": [
       "dtype('int64')"
      ]
     },
     "execution_count": 13,
     "metadata": {},
     "output_type": "execute_result"
    }
   ],
   "source": [
    "listarray.dtype"
   ]
  },
  {
   "cell_type": "code",
   "execution_count": 14,
   "id": "b39dc381-5607-41d6-ad42-74338c7e4e0c",
   "metadata": {},
   "outputs": [
    {
     "data": {
      "text/plain": [
       "(3, 3)"
      ]
     },
     "execution_count": 14,
     "metadata": {},
     "output_type": "execute_result"
    }
   ],
   "source": [
    "listarray.shape"
   ]
  },
  {
   "cell_type": "code",
   "execution_count": 15,
   "id": "562da1f8-fbbe-4214-a47b-b7c4530e5271",
   "metadata": {},
   "outputs": [
    {
     "data": {
      "text/plain": [
       "9"
      ]
     },
     "execution_count": 15,
     "metadata": {},
     "output_type": "execute_result"
    }
   ],
   "source": [
    "listarray.size"
   ]
  },
  {
   "cell_type": "markdown",
   "id": "b4c4be3f-a2b8-4cbf-9489-94c483d93936",
   "metadata": {},
   "source": [
    "# Intrinsic NumPy array creation functions (e.g. arange, ones, zeros, etc.)"
   ]
  },
  {
   "cell_type": "code",
   "execution_count": 16,
   "id": "9cd10100-8e19-4931-b405-295e3577a1a7",
   "metadata": {},
   "outputs": [
    {
     "data": {
      "text/plain": [
       "array({34, 23}, dtype=object)"
      ]
     },
     "execution_count": 16,
     "metadata": {},
     "output_type": "execute_result"
    }
   ],
   "source": [
    "np.array({34,23,23})"
   ]
  },
  {
   "cell_type": "code",
   "execution_count": 17,
   "id": "e15fb215-ce51-44cd-bb73-99062198321e",
   "metadata": {},
   "outputs": [],
   "source": [
    "zeros=np.zeros((2,5))"
   ]
  },
  {
   "cell_type": "code",
   "execution_count": 18,
   "id": "4c98063c-a520-438c-81ab-e7b72a4d4503",
   "metadata": {},
   "outputs": [
    {
     "data": {
      "text/plain": [
       "array([[0., 0., 0., 0., 0.],\n",
       "       [0., 0., 0., 0., 0.]])"
      ]
     },
     "execution_count": 18,
     "metadata": {},
     "output_type": "execute_result"
    }
   ],
   "source": [
    "zeros"
   ]
  },
  {
   "cell_type": "code",
   "execution_count": 19,
   "id": "b6fffbd5-bee9-4a37-a976-a47e033bead4",
   "metadata": {},
   "outputs": [
    {
     "data": {
      "text/plain": [
       "dtype('float64')"
      ]
     },
     "execution_count": 19,
     "metadata": {},
     "output_type": "execute_result"
    }
   ],
   "source": [
    "zeros.dtype"
   ]
  },
  {
   "cell_type": "code",
   "execution_count": 20,
   "id": "5758eaed-df30-4fb1-a904-c20c6deb4f67",
   "metadata": {},
   "outputs": [
    {
     "data": {
      "text/plain": [
       "(2, 5)"
      ]
     },
     "execution_count": 20,
     "metadata": {},
     "output_type": "execute_result"
    }
   ],
   "source": [
    "zeros.shape"
   ]
  },
  {
   "cell_type": "code",
   "execution_count": 21,
   "id": "22e01572-8557-4044-96b8-21ac5f72f937",
   "metadata": {},
   "outputs": [],
   "source": [
    "rng=np.arange(5)"
   ]
  },
  {
   "cell_type": "code",
   "execution_count": 22,
   "id": "429152ef-7166-41cc-b200-4fba90111213",
   "metadata": {},
   "outputs": [
    {
     "data": {
      "text/plain": [
       "array([0, 1, 2, 3, 4])"
      ]
     },
     "execution_count": 22,
     "metadata": {},
     "output_type": "execute_result"
    }
   ],
   "source": [
    "rng"
   ]
  },
  {
   "cell_type": "code",
   "execution_count": 23,
   "id": "91cb050e-09ad-4596-b760-32a22e1d7d20",
   "metadata": {},
   "outputs": [],
   "source": [
    "lspace=np.linspace(1,50,10)"
   ]
  },
  {
   "cell_type": "code",
   "execution_count": 24,
   "id": "4caa6cac-ae89-417a-8ae2-33fe222ac5e2",
   "metadata": {},
   "outputs": [
    {
     "data": {
      "text/plain": [
       "array([ 1.        ,  6.44444444, 11.88888889, 17.33333333, 22.77777778,\n",
       "       28.22222222, 33.66666667, 39.11111111, 44.55555556, 50.        ])"
      ]
     },
     "execution_count": 24,
     "metadata": {},
     "output_type": "execute_result"
    }
   ],
   "source": [
    "lspace"
   ]
  },
  {
   "cell_type": "code",
   "execution_count": 25,
   "id": "ccf1156c-31f7-4bad-a306-ff2cccf22a28",
   "metadata": {},
   "outputs": [],
   "source": [
    "emp=np.empty((4,6))"
   ]
  },
  {
   "cell_type": "code",
   "execution_count": 26,
   "id": "2d8bf341-7a86-48b8-aefa-67388d226ca9",
   "metadata": {},
   "outputs": [
    {
     "data": {
      "text/plain": [
       "array([[6.23042070e-307, 4.67296746e-307, 1.69121096e-306,\n",
       "        1.24610994e-306, 1.42413555e-306, 1.78019082e-306],\n",
       "       [1.37959740e-306, 6.23057349e-307, 1.02360935e-306,\n",
       "        1.69120416e-306, 1.78022342e-306, 6.23058028e-307],\n",
       "       [1.06811422e-306, 9.45699680e-308, 1.11258854e-306,\n",
       "        1.11261502e-306, 1.42410839e-306, 7.56597770e-307],\n",
       "       [6.23059726e-307, 8.90104239e-307, 1.86918699e-306,\n",
       "        6.23057349e-307, 1.69119330e-306, 8.34451079e-308]])"
      ]
     },
     "execution_count": 26,
     "metadata": {},
     "output_type": "execute_result"
    }
   ],
   "source": [
    "emp"
   ]
  },
  {
   "cell_type": "code",
   "execution_count": 27,
   "id": "4f777ba6-dda9-4e4c-8140-7533adbd976a",
   "metadata": {},
   "outputs": [],
   "source": [
    "emp_like=np.empty_like(lspace)"
   ]
  },
  {
   "cell_type": "code",
   "execution_count": 28,
   "id": "b9b1759a-4973-467c-927f-6a49d15406fa",
   "metadata": {},
   "outputs": [
    {
     "data": {
      "text/plain": [
       "array([ 1.        ,  6.44444444, 11.88888889, 17.33333333, 22.77777778,\n",
       "       28.22222222, 33.66666667, 39.11111111, 44.55555556, 50.        ])"
      ]
     },
     "execution_count": 28,
     "metadata": {},
     "output_type": "execute_result"
    }
   ],
   "source": [
    "emp_like"
   ]
  },
  {
   "cell_type": "code",
   "execution_count": 29,
   "id": "29a251b9-ed97-4d53-9c2f-310c4bc8ca9f",
   "metadata": {},
   "outputs": [],
   "source": [
    "ide=np.identity(45)"
   ]
  },
  {
   "cell_type": "code",
   "execution_count": 30,
   "id": "2c114ef2-ac43-43fe-aa49-c6f38443682c",
   "metadata": {},
   "outputs": [
    {
     "data": {
      "text/plain": [
       "array([[1., 0., 0., ..., 0., 0., 0.],\n",
       "       [0., 1., 0., ..., 0., 0., 0.],\n",
       "       [0., 0., 1., ..., 0., 0., 0.],\n",
       "       ...,\n",
       "       [0., 0., 0., ..., 1., 0., 0.],\n",
       "       [0., 0., 0., ..., 0., 1., 0.],\n",
       "       [0., 0., 0., ..., 0., 0., 1.]], shape=(45, 45))"
      ]
     },
     "execution_count": 30,
     "metadata": {},
     "output_type": "execute_result"
    }
   ],
   "source": [
    "ide"
   ]
  },
  {
   "cell_type": "code",
   "execution_count": 31,
   "id": "aec5bcc5-926f-46d1-a35a-237b1332a659",
   "metadata": {},
   "outputs": [
    {
     "data": {
      "text/plain": [
       "(45, 45)"
      ]
     },
     "execution_count": 31,
     "metadata": {},
     "output_type": "execute_result"
    }
   ],
   "source": [
    "ide.shape"
   ]
  },
  {
   "cell_type": "code",
   "execution_count": 32,
   "id": "2731a03b-a68b-4f0b-bcfa-12702bf7b082",
   "metadata": {},
   "outputs": [],
   "source": [
    "arr=np.arange(99)"
   ]
  },
  {
   "cell_type": "code",
   "execution_count": 33,
   "id": "fd0d1a84-65e9-4881-aa15-c60aef858453",
   "metadata": {},
   "outputs": [
    {
     "data": {
      "text/plain": [
       "array([ 0,  1,  2,  3,  4,  5,  6,  7,  8,  9, 10, 11, 12, 13, 14, 15, 16,\n",
       "       17, 18, 19, 20, 21, 22, 23, 24, 25, 26, 27, 28, 29, 30, 31, 32, 33,\n",
       "       34, 35, 36, 37, 38, 39, 40, 41, 42, 43, 44, 45, 46, 47, 48, 49, 50,\n",
       "       51, 52, 53, 54, 55, 56, 57, 58, 59, 60, 61, 62, 63, 64, 65, 66, 67,\n",
       "       68, 69, 70, 71, 72, 73, 74, 75, 76, 77, 78, 79, 80, 81, 82, 83, 84,\n",
       "       85, 86, 87, 88, 89, 90, 91, 92, 93, 94, 95, 96, 97, 98])"
      ]
     },
     "execution_count": 33,
     "metadata": {},
     "output_type": "execute_result"
    }
   ],
   "source": [
    "arr"
   ]
  },
  {
   "cell_type": "code",
   "execution_count": 34,
   "id": "d3893f8a-0308-4332-af33-3966a9d353b5",
   "metadata": {},
   "outputs": [],
   "source": [
    "arr=arr.reshape(3,33)"
   ]
  },
  {
   "cell_type": "code",
   "execution_count": 35,
   "id": "1925467c-b825-4999-a0e5-b00ae35bc6c1",
   "metadata": {},
   "outputs": [
    {
     "data": {
      "text/plain": [
       "array([[ 0,  1,  2,  3,  4,  5,  6,  7,  8,  9, 10, 11, 12, 13, 14, 15,\n",
       "        16, 17, 18, 19, 20, 21, 22, 23, 24, 25, 26, 27, 28, 29, 30, 31,\n",
       "        32],\n",
       "       [33, 34, 35, 36, 37, 38, 39, 40, 41, 42, 43, 44, 45, 46, 47, 48,\n",
       "        49, 50, 51, 52, 53, 54, 55, 56, 57, 58, 59, 60, 61, 62, 63, 64,\n",
       "        65],\n",
       "       [66, 67, 68, 69, 70, 71, 72, 73, 74, 75, 76, 77, 78, 79, 80, 81,\n",
       "        82, 83, 84, 85, 86, 87, 88, 89, 90, 91, 92, 93, 94, 95, 96, 97,\n",
       "        98]])"
      ]
     },
     "execution_count": 35,
     "metadata": {},
     "output_type": "execute_result"
    }
   ],
   "source": [
    "arr"
   ]
  },
  {
   "cell_type": "code",
   "execution_count": 36,
   "id": "254ab306-f87d-474a-91ca-fca68554ffbb",
   "metadata": {},
   "outputs": [],
   "source": [
    "arr=arr.ravel()"
   ]
  },
  {
   "cell_type": "code",
   "execution_count": 37,
   "id": "e3d6a200-fdc2-4203-8be8-621784f8d230",
   "metadata": {},
   "outputs": [
    {
     "data": {
      "text/plain": [
       "array([ 0,  1,  2,  3,  4,  5,  6,  7,  8,  9, 10, 11, 12, 13, 14, 15, 16,\n",
       "       17, 18, 19, 20, 21, 22, 23, 24, 25, 26, 27, 28, 29, 30, 31, 32, 33,\n",
       "       34, 35, 36, 37, 38, 39, 40, 41, 42, 43, 44, 45, 46, 47, 48, 49, 50,\n",
       "       51, 52, 53, 54, 55, 56, 57, 58, 59, 60, 61, 62, 63, 64, 65, 66, 67,\n",
       "       68, 69, 70, 71, 72, 73, 74, 75, 76, 77, 78, 79, 80, 81, 82, 83, 84,\n",
       "       85, 86, 87, 88, 89, 90, 91, 92, 93, 94, 95, 96, 97, 98])"
      ]
     },
     "execution_count": 37,
     "metadata": {},
     "output_type": "execute_result"
    }
   ],
   "source": [
    "arr"
   ]
  },
  {
   "cell_type": "code",
   "execution_count": 38,
   "id": "3ad7f815-1655-4af5-b940-bdd4aa0eac5d",
   "metadata": {},
   "outputs": [
    {
     "data": {
      "text/plain": [
       "(99,)"
      ]
     },
     "execution_count": 38,
     "metadata": {},
     "output_type": "execute_result"
    }
   ],
   "source": [
    "arr.shape"
   ]
  },
  {
   "cell_type": "code",
   "execution_count": 39,
   "id": "352a6d89-a8d2-42d1-8211-c1893688e2f1",
   "metadata": {},
   "outputs": [],
   "source": [
    "x = [[1,2,3],[4,5,6],[7,8,9]]"
   ]
  },
  {
   "cell_type": "code",
   "execution_count": 40,
   "id": "ecc6e881-5ca1-40ab-a9a3-0143b06a1c7e",
   "metadata": {},
   "outputs": [],
   "source": [
    "arr1=np.array(x)"
   ]
  },
  {
   "cell_type": "code",
   "execution_count": 41,
   "id": "5d05ec5c-9c93-4eda-9bf4-b7ed5289d78d",
   "metadata": {},
   "outputs": [
    {
     "data": {
      "text/plain": [
       "array([[1, 2, 3],\n",
       "       [4, 5, 6],\n",
       "       [7, 8, 9]])"
      ]
     },
     "execution_count": 41,
     "metadata": {},
     "output_type": "execute_result"
    }
   ],
   "source": [
    "arr1"
   ]
  },
  {
   "cell_type": "code",
   "execution_count": 42,
   "id": "21cec482-9abe-4416-ae4b-6c6c86435f7b",
   "metadata": {},
   "outputs": [
    {
     "data": {
      "text/plain": [
       "array([12, 15, 18])"
      ]
     },
     "execution_count": 42,
     "metadata": {},
     "output_type": "execute_result"
    }
   ],
   "source": [
    "arr1.sum(axis=0)"
   ]
  },
  {
   "cell_type": "code",
   "execution_count": 43,
   "id": "fd3600dd-64d4-4dee-8a2a-37d4592b59a4",
   "metadata": {},
   "outputs": [
    {
     "data": {
      "text/plain": [
       "array([ 6, 15, 24])"
      ]
     },
     "execution_count": 43,
     "metadata": {},
     "output_type": "execute_result"
    }
   ],
   "source": [
    "arr1.sum(axis=1)"
   ]
  },
  {
   "cell_type": "code",
   "execution_count": 44,
   "id": "4cc54b08-5b14-44b2-99c6-3581fd1694ec",
   "metadata": {},
   "outputs": [
    {
     "data": {
      "text/plain": [
       "array([[1, 4, 7],\n",
       "       [2, 5, 8],\n",
       "       [3, 6, 9]])"
      ]
     },
     "execution_count": 44,
     "metadata": {},
     "output_type": "execute_result"
    }
   ],
   "source": [
    "arr1.T"
   ]
  },
  {
   "cell_type": "code",
   "execution_count": 45,
   "id": "b809d506-8723-4890-94ce-f0f6ad6b9573",
   "metadata": {},
   "outputs": [
    {
     "data": {
      "text/plain": [
       "<numpy.flatiter at 0x1e34a4e7b10>"
      ]
     },
     "execution_count": 45,
     "metadata": {},
     "output_type": "execute_result"
    }
   ],
   "source": [
    "arr1.flat"
   ]
  },
  {
   "cell_type": "code",
   "execution_count": 46,
   "id": "bf382d1d-253c-4abb-a9f6-b95a695aae97",
   "metadata": {},
   "outputs": [
    {
     "name": "stdout",
     "output_type": "stream",
     "text": [
      "1\n",
      "2\n",
      "3\n",
      "4\n",
      "5\n",
      "6\n",
      "7\n",
      "8\n",
      "9\n"
     ]
    }
   ],
   "source": [
    "for item in arr1.flat:\n",
    "    print(item)"
   ]
  },
  {
   "cell_type": "code",
   "execution_count": 47,
   "id": "27a5d47a-8722-4f66-bd53-507bff0632cd",
   "metadata": {},
   "outputs": [
    {
     "data": {
      "text/plain": [
       "2"
      ]
     },
     "execution_count": 47,
     "metadata": {},
     "output_type": "execute_result"
    }
   ],
   "source": [
    "arr1.ndim"
   ]
  },
  {
   "cell_type": "code",
   "execution_count": 48,
   "id": "98da3f8c-8fbe-45e4-ba8b-1d5a93729495",
   "metadata": {},
   "outputs": [
    {
     "data": {
      "text/plain": [
       "9"
      ]
     },
     "execution_count": 48,
     "metadata": {},
     "output_type": "execute_result"
    }
   ],
   "source": [
    "arr1.size"
   ]
  },
  {
   "cell_type": "code",
   "execution_count": 49,
   "id": "52fff999-28de-417a-a7e1-53965e420060",
   "metadata": {},
   "outputs": [
    {
     "data": {
      "text/plain": [
       "72"
      ]
     },
     "execution_count": 49,
     "metadata": {},
     "output_type": "execute_result"
    }
   ],
   "source": [
    "arr1.nbytes"
   ]
  },
  {
   "cell_type": "code",
   "execution_count": 50,
   "id": "264bd186-26ae-42fe-9c97-10d10d373ccc",
   "metadata": {},
   "outputs": [],
   "source": [
    "one=np.array([1,3,4,634,2])"
   ]
  },
  {
   "cell_type": "code",
   "execution_count": 51,
   "id": "5c4155ea-fede-4e5d-8b52-669681b235a4",
   "metadata": {},
   "outputs": [
    {
     "data": {
      "text/plain": [
       "np.int64(3)"
      ]
     },
     "execution_count": 51,
     "metadata": {},
     "output_type": "execute_result"
    }
   ],
   "source": [
    "one.argmax()"
   ]
  },
  {
   "cell_type": "code",
   "execution_count": 52,
   "id": "99420908-e997-4da8-a9a0-4a981d18ed36",
   "metadata": {},
   "outputs": [
    {
     "data": {
      "text/plain": [
       "np.int64(0)"
      ]
     },
     "execution_count": 52,
     "metadata": {},
     "output_type": "execute_result"
    }
   ],
   "source": [
    "one.argmin()"
   ]
  },
  {
   "cell_type": "code",
   "execution_count": 53,
   "id": "8d026936-83d6-4358-8535-c9a3d6c096b4",
   "metadata": {},
   "outputs": [
    {
     "data": {
      "text/plain": [
       "array([0, 4, 1, 2, 3])"
      ]
     },
     "execution_count": 53,
     "metadata": {},
     "output_type": "execute_result"
    }
   ],
   "source": [
    "one.argsort()"
   ]
  },
  {
   "cell_type": "code",
   "execution_count": 54,
   "id": "ce4b65b7-f967-420e-bdda-43dec49f7b5b",
   "metadata": {},
   "outputs": [
    {
     "data": {
      "text/plain": [
       "array([[1, 2, 3],\n",
       "       [4, 5, 6],\n",
       "       [7, 8, 9]])"
      ]
     },
     "execution_count": 54,
     "metadata": {},
     "output_type": "execute_result"
    }
   ],
   "source": [
    "arr1"
   ]
  },
  {
   "cell_type": "code",
   "execution_count": 55,
   "id": "98eda786-fdd2-401a-afd4-3378be0295bf",
   "metadata": {},
   "outputs": [
    {
     "data": {
      "text/plain": [
       "np.int64(0)"
      ]
     },
     "execution_count": 55,
     "metadata": {},
     "output_type": "execute_result"
    }
   ],
   "source": [
    "arr1.argmin()"
   ]
  },
  {
   "cell_type": "code",
   "execution_count": 56,
   "id": "ade95d09-c3bc-4614-9c37-f661ba526f87",
   "metadata": {},
   "outputs": [
    {
     "data": {
      "text/plain": [
       "np.int64(8)"
      ]
     },
     "execution_count": 56,
     "metadata": {},
     "output_type": "execute_result"
    }
   ],
   "source": [
    "arr1.argmax()"
   ]
  },
  {
   "cell_type": "code",
   "execution_count": 57,
   "id": "97ea6783-a761-46ea-a249-8ddddfa68e27",
   "metadata": {},
   "outputs": [
    {
     "data": {
      "text/plain": [
       "array([2, 2, 2])"
      ]
     },
     "execution_count": 57,
     "metadata": {},
     "output_type": "execute_result"
    }
   ],
   "source": [
    "arr1.argmax(axis=0)"
   ]
  },
  {
   "cell_type": "code",
   "execution_count": 58,
   "id": "7a5c12d8-5a2b-4f8f-b6bc-b58da0c17042",
   "metadata": {},
   "outputs": [
    {
     "data": {
      "text/plain": [
       "array([2, 2, 2])"
      ]
     },
     "execution_count": 58,
     "metadata": {},
     "output_type": "execute_result"
    }
   ],
   "source": [
    "arr1.argmax(axis=1)"
   ]
  },
  {
   "cell_type": "code",
   "execution_count": 59,
   "id": "9b88c34a-9f9b-48c9-a430-4533df4a5236",
   "metadata": {},
   "outputs": [
    {
     "data": {
      "text/plain": [
       "array([ 0,  1,  2,  3,  4,  5,  6,  7,  8,  9, 10, 11, 12, 13, 14, 15, 16,\n",
       "       17, 18, 19, 20, 21, 22, 23, 24, 25, 26, 27, 28, 29, 30, 31, 32, 33,\n",
       "       34, 35, 36, 37, 38, 39, 40, 41, 42, 43, 44, 45, 46, 47, 48, 49, 50,\n",
       "       51, 52, 53, 54, 55, 56, 57, 58, 59, 60, 61, 62, 63, 64, 65, 66, 67,\n",
       "       68, 69, 70, 71, 72, 73, 74, 75, 76, 77, 78, 79, 80, 81, 82, 83, 84,\n",
       "       85, 86, 87, 88, 89, 90, 91, 92, 93, 94, 95, 96, 97, 98])"
      ]
     },
     "execution_count": 59,
     "metadata": {},
     "output_type": "execute_result"
    }
   ],
   "source": [
    "arr.argsort(axis=0)"
   ]
  },
  {
   "cell_type": "code",
   "execution_count": 60,
   "id": "448acc06-5d8f-4238-a112-34fa8130c81c",
   "metadata": {},
   "outputs": [
    {
     "data": {
      "text/plain": [
       "array([1, 2, 3, 4, 5, 6, 7, 8, 9])"
      ]
     },
     "execution_count": 60,
     "metadata": {},
     "output_type": "execute_result"
    }
   ],
   "source": [
    "arr1.ravel()"
   ]
  },
  {
   "cell_type": "code",
   "execution_count": 61,
   "id": "89a31b3d-0fa6-4ce4-875d-76774f1fa77e",
   "metadata": {},
   "outputs": [
    {
     "data": {
      "text/plain": [
       "array([[1],\n",
       "       [2],\n",
       "       [3],\n",
       "       [4],\n",
       "       [5],\n",
       "       [6],\n",
       "       [7],\n",
       "       [8],\n",
       "       [9]])"
      ]
     },
     "execution_count": 61,
     "metadata": {},
     "output_type": "execute_result"
    }
   ],
   "source": [
    "arr1.reshape((9,1))"
   ]
  },
  {
   "cell_type": "code",
   "execution_count": 62,
   "id": "71578d6e-5a83-4fc2-aee4-cca5c54b63d1",
   "metadata": {},
   "outputs": [
    {
     "data": {
      "text/plain": [
       "array([[1, 2, 3],\n",
       "       [4, 5, 6],\n",
       "       [7, 8, 9]])"
      ]
     },
     "execution_count": 62,
     "metadata": {},
     "output_type": "execute_result"
    }
   ],
   "source": [
    "arr1"
   ]
  },
  {
   "cell_type": "code",
   "execution_count": 63,
   "id": "d3599ef9-fd2c-4ffa-9886-787bedaa2fee",
   "metadata": {},
   "outputs": [],
   "source": [
    "arr2=np.array([[1,2,1],[4,0,6],[8,1,0]])"
   ]
  },
  {
   "cell_type": "code",
   "execution_count": 64,
   "id": "72396b99-8f33-4f51-9605-9f8cb58a5e90",
   "metadata": {},
   "outputs": [
    {
     "data": {
      "text/plain": [
       "array([[ 2,  4,  4],\n",
       "       [ 8,  5, 12],\n",
       "       [15,  9,  9]])"
      ]
     },
     "execution_count": 64,
     "metadata": {},
     "output_type": "execute_result"
    }
   ],
   "source": [
    "arr1+arr2"
   ]
  },
  {
   "cell_type": "code",
   "execution_count": 65,
   "id": "f078cb43-287c-4158-90d0-598dd64ff118",
   "metadata": {},
   "outputs": [
    {
     "data": {
      "text/plain": [
       "array([[ 1,  4,  3],\n",
       "       [16,  0, 36],\n",
       "       [56,  8,  0]])"
      ]
     },
     "execution_count": 65,
     "metadata": {},
     "output_type": "execute_result"
    }
   ],
   "source": [
    "arr1*arr2"
   ]
  },
  {
   "cell_type": "code",
   "execution_count": 66,
   "id": "88692371-e01e-444e-a8da-f52003139cf1",
   "metadata": {},
   "outputs": [
    {
     "data": {
      "text/plain": [
       "array([[1.        , 1.41421356, 1.73205081],\n",
       "       [2.        , 2.23606798, 2.44948974],\n",
       "       [2.64575131, 2.82842712, 3.        ]])"
      ]
     },
     "execution_count": 66,
     "metadata": {},
     "output_type": "execute_result"
    }
   ],
   "source": [
    "np.sqrt(arr1)"
   ]
  },
  {
   "cell_type": "code",
   "execution_count": 67,
   "id": "a4bc78fa-2c72-4959-b188-ef5472a4c2e0",
   "metadata": {},
   "outputs": [
    {
     "data": {
      "text/plain": [
       "np.int64(45)"
      ]
     },
     "execution_count": 67,
     "metadata": {},
     "output_type": "execute_result"
    }
   ],
   "source": [
    "arr1.sum()"
   ]
  },
  {
   "cell_type": "code",
   "execution_count": 68,
   "id": "c5c28cca-a0ee-4e68-b057-f63c3f549dca",
   "metadata": {},
   "outputs": [
    {
     "data": {
      "text/plain": [
       "np.int64(9)"
      ]
     },
     "execution_count": 68,
     "metadata": {},
     "output_type": "execute_result"
    }
   ],
   "source": [
    "arr1.max()"
   ]
  },
  {
   "cell_type": "code",
   "execution_count": 69,
   "id": "a1aac881-d4e1-4b5c-a186-0602c02866c7",
   "metadata": {},
   "outputs": [
    {
     "data": {
      "text/plain": [
       "np.int64(1)"
      ]
     },
     "execution_count": 69,
     "metadata": {},
     "output_type": "execute_result"
    }
   ],
   "source": [
    "arr1.min()"
   ]
  },
  {
   "cell_type": "code",
   "execution_count": 70,
   "id": "5fccb67f-9b37-4440-9219-de7654e7b00c",
   "metadata": {},
   "outputs": [
    {
     "data": {
      "text/plain": [
       "(array([1, 2, 2, 2]), array([2, 0, 1, 2]))"
      ]
     },
     "execution_count": 70,
     "metadata": {},
     "output_type": "execute_result"
    }
   ],
   "source": [
    "np.where(arr1>5)"
   ]
  },
  {
   "cell_type": "code",
   "execution_count": 71,
   "id": "b0970d91-4106-47b4-abf0-fc4729a9bc2a",
   "metadata": {},
   "outputs": [
    {
     "data": {
      "text/plain": [
       "tuple"
      ]
     },
     "execution_count": 71,
     "metadata": {},
     "output_type": "execute_result"
    }
   ],
   "source": [
    "type(np.where(arr1>5))"
   ]
  },
  {
   "cell_type": "code",
   "execution_count": 72,
   "id": "2123c440-0029-40d4-84ad-dcc99df33a99",
   "metadata": {},
   "outputs": [
    {
     "data": {
      "text/plain": [
       "9"
      ]
     },
     "execution_count": 72,
     "metadata": {},
     "output_type": "execute_result"
    }
   ],
   "source": [
    "np.count_nonzero(arr1)"
   ]
  },
  {
   "cell_type": "code",
   "execution_count": 73,
   "id": "fa036546-6111-413e-a1ff-c1a22c803455",
   "metadata": {},
   "outputs": [
    {
     "data": {
      "text/plain": [
       "(array([0, 0, 0, 1, 1, 1, 2, 2, 2]), array([0, 1, 2, 0, 1, 2, 0, 1, 2]))"
      ]
     },
     "execution_count": 73,
     "metadata": {},
     "output_type": "execute_result"
    }
   ],
   "source": [
    "np.nonzero(arr1)"
   ]
  },
  {
   "cell_type": "code",
   "execution_count": 74,
   "id": "805553ad-d88b-4f0e-b3fd-6c07d9e60a50",
   "metadata": {},
   "outputs": [],
   "source": [
    "arr1[1,2]=0"
   ]
  },
  {
   "cell_type": "code",
   "execution_count": 75,
   "id": "16a7f96a-b185-4a2e-8c4b-4260d162798a",
   "metadata": {},
   "outputs": [
    {
     "data": {
      "text/plain": [
       "(array([0, 0, 0, 1, 1, 2, 2, 2]), array([0, 1, 2, 0, 1, 0, 1, 2]))"
      ]
     },
     "execution_count": 75,
     "metadata": {},
     "output_type": "execute_result"
    }
   ],
   "source": [
    "np.nonzero(arr1)"
   ]
  },
  {
   "cell_type": "code",
   "execution_count": 76,
   "id": "9bfd96fb-8c29-4cdb-a7c5-a885b4f88f60",
   "metadata": {},
   "outputs": [],
   "source": [
    "import sys"
   ]
  },
  {
   "cell_type": "code",
   "execution_count": 77,
   "id": "1a4b5f09-64c1-4a53-9d92-d5bcbad89baa",
   "metadata": {},
   "outputs": [],
   "source": [
    "py_ar=[0,4,55,2]"
   ]
  },
  {
   "cell_type": "code",
   "execution_count": 78,
   "id": "3f8930d9-b9ac-4c99-8317-fed3fed7826f",
   "metadata": {},
   "outputs": [],
   "source": [
    "np_ar=np.array(py_ar)"
   ]
  },
  {
   "cell_type": "code",
   "execution_count": 79,
   "id": "32d75656-15af-4bc1-9eed-7b3fd931cd4d",
   "metadata": {},
   "outputs": [
    {
     "data": {
      "text/plain": [
       "112"
      ]
     },
     "execution_count": 79,
     "metadata": {},
     "output_type": "execute_result"
    }
   ],
   "source": [
    "sys.getsizeof(1)*len(py_ar)"
   ]
  },
  {
   "cell_type": "code",
   "execution_count": 80,
   "id": "1f9e90c5-6101-453a-9c3a-7ebd0d5e3a5f",
   "metadata": {},
   "outputs": [
    {
     "data": {
      "text/plain": [
       "32"
      ]
     },
     "execution_count": 80,
     "metadata": {},
     "output_type": "execute_result"
    }
   ],
   "source": [
    "np_ar.itemsize * np_ar.size"
   ]
  },
  {
   "cell_type": "code",
   "execution_count": 81,
   "id": "cf7f9a8b-8ab4-4508-ae0c-275ee8e92579",
   "metadata": {},
   "outputs": [
    {
     "data": {
      "text/plain": [
       "[0, 4, 55, 2]"
      ]
     },
     "execution_count": 81,
     "metadata": {},
     "output_type": "execute_result"
    }
   ],
   "source": [
    "np_ar.tolist()"
   ]
  },
  {
   "cell_type": "code",
   "execution_count": 82,
   "id": "71fce8e3-ef3b-4366-90a9-4ac0877f3c2c",
   "metadata": {},
   "outputs": [],
   "source": [
    "import pandas as pd"
   ]
  },
  {
   "cell_type": "code",
   "execution_count": 83,
   "id": "9c36ca46-26da-49cb-98ba-e8d0142b3f9f",
   "metadata": {},
   "outputs": [],
   "source": [
    "dict1={\n",
    "    \"name\":['Ishvi','Aman','Tushar','Yamini'],\n",
    "    \"marks\":[90,92,91,89],\n",
    "    \"city\":['Delhi','Harayana','Rohini','Najafgarh']\n",
    "}\n",
    "\n"
   ]
  },
  {
   "cell_type": "code",
   "execution_count": 84,
   "id": "d8f7ac29-c9b1-4202-a3dd-0c63a08493d6",
   "metadata": {},
   "outputs": [],
   "source": [
    "df = pd.DataFrame(dict1)"
   ]
  },
  {
   "cell_type": "code",
   "execution_count": 85,
   "id": "390010bc-1c3e-4b4c-ab50-fccb599d1039",
   "metadata": {},
   "outputs": [],
   "source": [
    "ishvi=pd.read_csv('ishvi.csv.csv')"
   ]
  },
  {
   "cell_type": "code",
   "execution_count": 86,
   "id": "16aa4c95-1c70-4e67-b74d-8bbcdb4fc730",
   "metadata": {},
   "outputs": [
    {
     "data": {
      "text/html": [
       "<div>\n",
       "<style scoped>\n",
       "    .dataframe tbody tr th:only-of-type {\n",
       "        vertical-align: middle;\n",
       "    }\n",
       "\n",
       "    .dataframe tbody tr th {\n",
       "        vertical-align: top;\n",
       "    }\n",
       "\n",
       "    .dataframe thead th {\n",
       "        text-align: right;\n",
       "    }\n",
       "</style>\n",
       "<table border=\"1\" class=\"dataframe\">\n",
       "  <thead>\n",
       "    <tr style=\"text-align: right;\">\n",
       "      <th></th>\n",
       "      <th>TrainNo</th>\n",
       "      <th>Speed</th>\n",
       "      <th>City</th>\n",
       "    </tr>\n",
       "  </thead>\n",
       "  <tbody>\n",
       "    <tr>\n",
       "      <th>0</th>\n",
       "      <td>12232</td>\n",
       "      <td>90</td>\n",
       "      <td>Delhi</td>\n",
       "    </tr>\n",
       "    <tr>\n",
       "      <th>1</th>\n",
       "      <td>72732</td>\n",
       "      <td>92</td>\n",
       "      <td>Harayana</td>\n",
       "    </tr>\n",
       "    <tr>\n",
       "      <th>2</th>\n",
       "      <td>38178</td>\n",
       "      <td>91</td>\n",
       "      <td>Rohini</td>\n",
       "    </tr>\n",
       "    <tr>\n",
       "      <th>3</th>\n",
       "      <td>73289</td>\n",
       "      <td>89</td>\n",
       "      <td>Najafgarh</td>\n",
       "    </tr>\n",
       "  </tbody>\n",
       "</table>\n",
       "</div>"
      ],
      "text/plain": [
       "   TrainNo  Speed       City\n",
       "0    12232     90      Delhi\n",
       "1    72732     92   Harayana\n",
       "2    38178     91     Rohini\n",
       "3    73289     89  Najafgarh"
      ]
     },
     "execution_count": 86,
     "metadata": {},
     "output_type": "execute_result"
    }
   ],
   "source": [
    "ishvi"
   ]
  },
  {
   "cell_type": "code",
   "execution_count": 87,
   "id": "719fdae3-3c1c-403b-a998-84961b478e4b",
   "metadata": {},
   "outputs": [
    {
     "data": {
      "text/plain": [
       "0    90\n",
       "1    92\n",
       "2    91\n",
       "3    89\n",
       "Name: Speed, dtype: int64"
      ]
     },
     "execution_count": 87,
     "metadata": {},
     "output_type": "execute_result"
    }
   ],
   "source": [
    "ishvi['Speed']"
   ]
  },
  {
   "cell_type": "code",
   "execution_count": 88,
   "id": "4ba0664c-b292-440d-9bde-521c252d47ca",
   "metadata": {},
   "outputs": [
    {
     "data": {
      "text/plain": [
       "np.int64(90)"
      ]
     },
     "execution_count": 88,
     "metadata": {},
     "output_type": "execute_result"
    }
   ],
   "source": [
    "ishvi['Speed'][0]"
   ]
  },
  {
   "cell_type": "code",
   "execution_count": 89,
   "id": "33093235-f30c-4f85-91d2-666a776758c0",
   "metadata": {},
   "outputs": [
    {
     "name": "stderr",
     "output_type": "stream",
     "text": [
      "C:\\Users\\dell\\AppData\\Local\\Temp\\ipykernel_22428\\3324807421.py:1: SettingWithCopyWarning: \n",
      "A value is trying to be set on a copy of a slice from a DataFrame\n",
      "\n",
      "See the caveats in the documentation: https://pandas.pydata.org/pandas-docs/stable/user_guide/indexing.html#returning-a-view-versus-a-copy\n",
      "  ishvi['Speed'][0]=50\n"
     ]
    }
   ],
   "source": [
    "ishvi['Speed'][0]=50"
   ]
  },
  {
   "cell_type": "code",
   "execution_count": 90,
   "id": "205b77b2-e2f7-4abe-8a91-3d3dfec6c147",
   "metadata": {},
   "outputs": [
    {
     "data": {
      "text/html": [
       "<div>\n",
       "<style scoped>\n",
       "    .dataframe tbody tr th:only-of-type {\n",
       "        vertical-align: middle;\n",
       "    }\n",
       "\n",
       "    .dataframe tbody tr th {\n",
       "        vertical-align: top;\n",
       "    }\n",
       "\n",
       "    .dataframe thead th {\n",
       "        text-align: right;\n",
       "    }\n",
       "</style>\n",
       "<table border=\"1\" class=\"dataframe\">\n",
       "  <thead>\n",
       "    <tr style=\"text-align: right;\">\n",
       "      <th></th>\n",
       "      <th>TrainNo</th>\n",
       "      <th>Speed</th>\n",
       "      <th>City</th>\n",
       "    </tr>\n",
       "  </thead>\n",
       "  <tbody>\n",
       "    <tr>\n",
       "      <th>0</th>\n",
       "      <td>12232</td>\n",
       "      <td>50</td>\n",
       "      <td>Delhi</td>\n",
       "    </tr>\n",
       "    <tr>\n",
       "      <th>1</th>\n",
       "      <td>72732</td>\n",
       "      <td>92</td>\n",
       "      <td>Harayana</td>\n",
       "    </tr>\n",
       "    <tr>\n",
       "      <th>2</th>\n",
       "      <td>38178</td>\n",
       "      <td>91</td>\n",
       "      <td>Rohini</td>\n",
       "    </tr>\n",
       "    <tr>\n",
       "      <th>3</th>\n",
       "      <td>73289</td>\n",
       "      <td>89</td>\n",
       "      <td>Najafgarh</td>\n",
       "    </tr>\n",
       "  </tbody>\n",
       "</table>\n",
       "</div>"
      ],
      "text/plain": [
       "   TrainNo  Speed       City\n",
       "0    12232     50      Delhi\n",
       "1    72732     92   Harayana\n",
       "2    38178     91     Rohini\n",
       "3    73289     89  Najafgarh"
      ]
     },
     "execution_count": 90,
     "metadata": {},
     "output_type": "execute_result"
    }
   ],
   "source": [
    "ishvi"
   ]
  },
  {
   "cell_type": "code",
   "execution_count": 91,
   "id": "109de976-4d8c-43ef-b53b-2eb40765c360",
   "metadata": {},
   "outputs": [],
   "source": [
    "ishvi.to_csv('ishvi.csv',index=False)"
   ]
  },
  {
   "cell_type": "code",
   "execution_count": 92,
   "id": "351f1c10-b7b3-4619-8c3e-e4182673a6cf",
   "metadata": {},
   "outputs": [],
   "source": [
    "ishvi.index = ['first','second','third','fourth']"
   ]
  },
  {
   "cell_type": "code",
   "execution_count": 93,
   "id": "c6d4fba6-3856-4730-8277-4c2c9e7a20ad",
   "metadata": {},
   "outputs": [
    {
     "data": {
      "text/html": [
       "<div>\n",
       "<style scoped>\n",
       "    .dataframe tbody tr th:only-of-type {\n",
       "        vertical-align: middle;\n",
       "    }\n",
       "\n",
       "    .dataframe tbody tr th {\n",
       "        vertical-align: top;\n",
       "    }\n",
       "\n",
       "    .dataframe thead th {\n",
       "        text-align: right;\n",
       "    }\n",
       "</style>\n",
       "<table border=\"1\" class=\"dataframe\">\n",
       "  <thead>\n",
       "    <tr style=\"text-align: right;\">\n",
       "      <th></th>\n",
       "      <th>TrainNo</th>\n",
       "      <th>Speed</th>\n",
       "      <th>City</th>\n",
       "    </tr>\n",
       "  </thead>\n",
       "  <tbody>\n",
       "    <tr>\n",
       "      <th>first</th>\n",
       "      <td>12232</td>\n",
       "      <td>50</td>\n",
       "      <td>Delhi</td>\n",
       "    </tr>\n",
       "    <tr>\n",
       "      <th>second</th>\n",
       "      <td>72732</td>\n",
       "      <td>92</td>\n",
       "      <td>Harayana</td>\n",
       "    </tr>\n",
       "    <tr>\n",
       "      <th>third</th>\n",
       "      <td>38178</td>\n",
       "      <td>91</td>\n",
       "      <td>Rohini</td>\n",
       "    </tr>\n",
       "    <tr>\n",
       "      <th>fourth</th>\n",
       "      <td>73289</td>\n",
       "      <td>89</td>\n",
       "      <td>Najafgarh</td>\n",
       "    </tr>\n",
       "  </tbody>\n",
       "</table>\n",
       "</div>"
      ],
      "text/plain": [
       "        TrainNo  Speed       City\n",
       "first     12232     50      Delhi\n",
       "second    72732     92   Harayana\n",
       "third     38178     91     Rohini\n",
       "fourth    73289     89  Najafgarh"
      ]
     },
     "execution_count": 93,
     "metadata": {},
     "output_type": "execute_result"
    }
   ],
   "source": [
    "ishvi"
   ]
  },
  {
   "cell_type": "code",
   "execution_count": 94,
   "id": "d59014df-73cf-49b5-879d-66fe4dddd1f2",
   "metadata": {},
   "outputs": [],
   "source": [
    "ser=pd.Series(np.random.rand)"
   ]
  },
  {
   "cell_type": "code",
   "execution_count": 95,
   "id": "8cdf798c-e259-4841-8d6b-3b1f4d8e5d14",
   "metadata": {},
   "outputs": [],
   "source": [
    "ser=pd.Series(np.random.rand(34))"
   ]
  },
  {
   "cell_type": "code",
   "execution_count": 96,
   "id": "561151d3-86fc-4e89-b4e8-73db66f3fb7c",
   "metadata": {},
   "outputs": [
    {
     "data": {
      "text/plain": [
       "pandas.core.series.Series"
      ]
     },
     "execution_count": 96,
     "metadata": {},
     "output_type": "execute_result"
    }
   ],
   "source": [
    "type(ser)"
   ]
  },
  {
   "cell_type": "code",
   "execution_count": 97,
   "id": "407bec83-474a-479a-968d-a9112569ad9d",
   "metadata": {},
   "outputs": [],
   "source": [
    "newdf = pd.DataFrame(np.random.rand(334,5),index=np.arange(334))"
   ]
  },
  {
   "cell_type": "code",
   "execution_count": 98,
   "id": "f2ecc8af-c1fc-49a7-a68a-2389bea1fae1",
   "metadata": {},
   "outputs": [
    {
     "data": {
      "text/html": [
       "<div>\n",
       "<style scoped>\n",
       "    .dataframe tbody tr th:only-of-type {\n",
       "        vertical-align: middle;\n",
       "    }\n",
       "\n",
       "    .dataframe tbody tr th {\n",
       "        vertical-align: top;\n",
       "    }\n",
       "\n",
       "    .dataframe thead th {\n",
       "        text-align: right;\n",
       "    }\n",
       "</style>\n",
       "<table border=\"1\" class=\"dataframe\">\n",
       "  <thead>\n",
       "    <tr style=\"text-align: right;\">\n",
       "      <th></th>\n",
       "      <th>0</th>\n",
       "      <th>1</th>\n",
       "      <th>2</th>\n",
       "      <th>3</th>\n",
       "      <th>4</th>\n",
       "    </tr>\n",
       "  </thead>\n",
       "  <tbody>\n",
       "    <tr>\n",
       "      <th>0</th>\n",
       "      <td>0.653233</td>\n",
       "      <td>0.157450</td>\n",
       "      <td>0.655528</td>\n",
       "      <td>0.118118</td>\n",
       "      <td>0.202044</td>\n",
       "    </tr>\n",
       "    <tr>\n",
       "      <th>1</th>\n",
       "      <td>0.050939</td>\n",
       "      <td>0.558863</td>\n",
       "      <td>0.430774</td>\n",
       "      <td>0.459138</td>\n",
       "      <td>0.998153</td>\n",
       "    </tr>\n",
       "    <tr>\n",
       "      <th>2</th>\n",
       "      <td>0.942839</td>\n",
       "      <td>0.862690</td>\n",
       "      <td>0.595492</td>\n",
       "      <td>0.491221</td>\n",
       "      <td>0.396037</td>\n",
       "    </tr>\n",
       "    <tr>\n",
       "      <th>3</th>\n",
       "      <td>0.934001</td>\n",
       "      <td>0.372846</td>\n",
       "      <td>0.223908</td>\n",
       "      <td>0.331091</td>\n",
       "      <td>0.765693</td>\n",
       "    </tr>\n",
       "    <tr>\n",
       "      <th>4</th>\n",
       "      <td>0.120901</td>\n",
       "      <td>0.531177</td>\n",
       "      <td>0.839910</td>\n",
       "      <td>0.177574</td>\n",
       "      <td>0.456581</td>\n",
       "    </tr>\n",
       "    <tr>\n",
       "      <th>...</th>\n",
       "      <td>...</td>\n",
       "      <td>...</td>\n",
       "      <td>...</td>\n",
       "      <td>...</td>\n",
       "      <td>...</td>\n",
       "    </tr>\n",
       "    <tr>\n",
       "      <th>329</th>\n",
       "      <td>0.364040</td>\n",
       "      <td>0.546887</td>\n",
       "      <td>0.703670</td>\n",
       "      <td>0.394201</td>\n",
       "      <td>0.072596</td>\n",
       "    </tr>\n",
       "    <tr>\n",
       "      <th>330</th>\n",
       "      <td>0.658810</td>\n",
       "      <td>0.967434</td>\n",
       "      <td>0.970565</td>\n",
       "      <td>0.593643</td>\n",
       "      <td>0.147058</td>\n",
       "    </tr>\n",
       "    <tr>\n",
       "      <th>331</th>\n",
       "      <td>0.503637</td>\n",
       "      <td>0.530138</td>\n",
       "      <td>0.245880</td>\n",
       "      <td>0.835877</td>\n",
       "      <td>0.812134</td>\n",
       "    </tr>\n",
       "    <tr>\n",
       "      <th>332</th>\n",
       "      <td>0.448307</td>\n",
       "      <td>0.772018</td>\n",
       "      <td>0.834457</td>\n",
       "      <td>0.870341</td>\n",
       "      <td>0.027131</td>\n",
       "    </tr>\n",
       "    <tr>\n",
       "      <th>333</th>\n",
       "      <td>0.815868</td>\n",
       "      <td>0.630754</td>\n",
       "      <td>0.776159</td>\n",
       "      <td>0.749610</td>\n",
       "      <td>0.321107</td>\n",
       "    </tr>\n",
       "  </tbody>\n",
       "</table>\n",
       "<p>334 rows × 5 columns</p>\n",
       "</div>"
      ],
      "text/plain": [
       "            0         1         2         3         4\n",
       "0    0.653233  0.157450  0.655528  0.118118  0.202044\n",
       "1    0.050939  0.558863  0.430774  0.459138  0.998153\n",
       "2    0.942839  0.862690  0.595492  0.491221  0.396037\n",
       "3    0.934001  0.372846  0.223908  0.331091  0.765693\n",
       "4    0.120901  0.531177  0.839910  0.177574  0.456581\n",
       "..        ...       ...       ...       ...       ...\n",
       "329  0.364040  0.546887  0.703670  0.394201  0.072596\n",
       "330  0.658810  0.967434  0.970565  0.593643  0.147058\n",
       "331  0.503637  0.530138  0.245880  0.835877  0.812134\n",
       "332  0.448307  0.772018  0.834457  0.870341  0.027131\n",
       "333  0.815868  0.630754  0.776159  0.749610  0.321107\n",
       "\n",
       "[334 rows x 5 columns]"
      ]
     },
     "execution_count": 98,
     "metadata": {},
     "output_type": "execute_result"
    }
   ],
   "source": [
    "newdf"
   ]
  },
  {
   "cell_type": "code",
   "execution_count": 99,
   "id": "25006846-6724-4476-b23a-1049c13ccacd",
   "metadata": {},
   "outputs": [
    {
     "data": {
      "text/html": [
       "<div>\n",
       "<style scoped>\n",
       "    .dataframe tbody tr th:only-of-type {\n",
       "        vertical-align: middle;\n",
       "    }\n",
       "\n",
       "    .dataframe tbody tr th {\n",
       "        vertical-align: top;\n",
       "    }\n",
       "\n",
       "    .dataframe thead th {\n",
       "        text-align: right;\n",
       "    }\n",
       "</style>\n",
       "<table border=\"1\" class=\"dataframe\">\n",
       "  <thead>\n",
       "    <tr style=\"text-align: right;\">\n",
       "      <th></th>\n",
       "      <th>0</th>\n",
       "      <th>1</th>\n",
       "      <th>2</th>\n",
       "      <th>3</th>\n",
       "      <th>4</th>\n",
       "    </tr>\n",
       "  </thead>\n",
       "  <tbody>\n",
       "    <tr>\n",
       "      <th>0</th>\n",
       "      <td>0.653233</td>\n",
       "      <td>0.157450</td>\n",
       "      <td>0.655528</td>\n",
       "      <td>0.118118</td>\n",
       "      <td>0.202044</td>\n",
       "    </tr>\n",
       "    <tr>\n",
       "      <th>1</th>\n",
       "      <td>0.050939</td>\n",
       "      <td>0.558863</td>\n",
       "      <td>0.430774</td>\n",
       "      <td>0.459138</td>\n",
       "      <td>0.998153</td>\n",
       "    </tr>\n",
       "    <tr>\n",
       "      <th>2</th>\n",
       "      <td>0.942839</td>\n",
       "      <td>0.862690</td>\n",
       "      <td>0.595492</td>\n",
       "      <td>0.491221</td>\n",
       "      <td>0.396037</td>\n",
       "    </tr>\n",
       "    <tr>\n",
       "      <th>3</th>\n",
       "      <td>0.934001</td>\n",
       "      <td>0.372846</td>\n",
       "      <td>0.223908</td>\n",
       "      <td>0.331091</td>\n",
       "      <td>0.765693</td>\n",
       "    </tr>\n",
       "    <tr>\n",
       "      <th>4</th>\n",
       "      <td>0.120901</td>\n",
       "      <td>0.531177</td>\n",
       "      <td>0.839910</td>\n",
       "      <td>0.177574</td>\n",
       "      <td>0.456581</td>\n",
       "    </tr>\n",
       "  </tbody>\n",
       "</table>\n",
       "</div>"
      ],
      "text/plain": [
       "          0         1         2         3         4\n",
       "0  0.653233  0.157450  0.655528  0.118118  0.202044\n",
       "1  0.050939  0.558863  0.430774  0.459138  0.998153\n",
       "2  0.942839  0.862690  0.595492  0.491221  0.396037\n",
       "3  0.934001  0.372846  0.223908  0.331091  0.765693\n",
       "4  0.120901  0.531177  0.839910  0.177574  0.456581"
      ]
     },
     "execution_count": 99,
     "metadata": {},
     "output_type": "execute_result"
    }
   ],
   "source": [
    "newdf.head()"
   ]
  },
  {
   "cell_type": "code",
   "execution_count": 100,
   "id": "8d81911a-11b4-4117-8d96-1e200f5c234b",
   "metadata": {},
   "outputs": [
    {
     "data": {
      "text/plain": [
       "pandas.core.frame.DataFrame"
      ]
     },
     "execution_count": 100,
     "metadata": {},
     "output_type": "execute_result"
    }
   ],
   "source": [
    "type(newdf)"
   ]
  },
  {
   "cell_type": "code",
   "execution_count": 101,
   "id": "beadea39-a0e1-4a3d-9d8d-7daa1bbb6ba4",
   "metadata": {},
   "outputs": [
    {
     "data": {
      "text/html": [
       "<div>\n",
       "<style scoped>\n",
       "    .dataframe tbody tr th:only-of-type {\n",
       "        vertical-align: middle;\n",
       "    }\n",
       "\n",
       "    .dataframe tbody tr th {\n",
       "        vertical-align: top;\n",
       "    }\n",
       "\n",
       "    .dataframe thead th {\n",
       "        text-align: right;\n",
       "    }\n",
       "</style>\n",
       "<table border=\"1\" class=\"dataframe\">\n",
       "  <thead>\n",
       "    <tr style=\"text-align: right;\">\n",
       "      <th></th>\n",
       "      <th>0</th>\n",
       "      <th>1</th>\n",
       "      <th>2</th>\n",
       "      <th>3</th>\n",
       "      <th>4</th>\n",
       "    </tr>\n",
       "  </thead>\n",
       "  <tbody>\n",
       "    <tr>\n",
       "      <th>count</th>\n",
       "      <td>334.000000</td>\n",
       "      <td>334.000000</td>\n",
       "      <td>334.000000</td>\n",
       "      <td>334.000000</td>\n",
       "      <td>334.000000</td>\n",
       "    </tr>\n",
       "    <tr>\n",
       "      <th>mean</th>\n",
       "      <td>0.476108</td>\n",
       "      <td>0.488701</td>\n",
       "      <td>0.469357</td>\n",
       "      <td>0.505637</td>\n",
       "      <td>0.494717</td>\n",
       "    </tr>\n",
       "    <tr>\n",
       "      <th>std</th>\n",
       "      <td>0.290888</td>\n",
       "      <td>0.287783</td>\n",
       "      <td>0.275165</td>\n",
       "      <td>0.299802</td>\n",
       "      <td>0.307552</td>\n",
       "    </tr>\n",
       "    <tr>\n",
       "      <th>min</th>\n",
       "      <td>0.011281</td>\n",
       "      <td>0.002372</td>\n",
       "      <td>0.001270</td>\n",
       "      <td>0.002581</td>\n",
       "      <td>0.007905</td>\n",
       "    </tr>\n",
       "    <tr>\n",
       "      <th>25%</th>\n",
       "      <td>0.220768</td>\n",
       "      <td>0.238988</td>\n",
       "      <td>0.246600</td>\n",
       "      <td>0.220554</td>\n",
       "      <td>0.214153</td>\n",
       "    </tr>\n",
       "    <tr>\n",
       "      <th>50%</th>\n",
       "      <td>0.449959</td>\n",
       "      <td>0.470176</td>\n",
       "      <td>0.455978</td>\n",
       "      <td>0.523749</td>\n",
       "      <td>0.500223</td>\n",
       "    </tr>\n",
       "    <tr>\n",
       "      <th>75%</th>\n",
       "      <td>0.728638</td>\n",
       "      <td>0.734623</td>\n",
       "      <td>0.688564</td>\n",
       "      <td>0.749549</td>\n",
       "      <td>0.765509</td>\n",
       "    </tr>\n",
       "    <tr>\n",
       "      <th>max</th>\n",
       "      <td>0.999415</td>\n",
       "      <td>0.999463</td>\n",
       "      <td>0.987607</td>\n",
       "      <td>0.997305</td>\n",
       "      <td>0.998153</td>\n",
       "    </tr>\n",
       "  </tbody>\n",
       "</table>\n",
       "</div>"
      ],
      "text/plain": [
       "                0           1           2           3           4\n",
       "count  334.000000  334.000000  334.000000  334.000000  334.000000\n",
       "mean     0.476108    0.488701    0.469357    0.505637    0.494717\n",
       "std      0.290888    0.287783    0.275165    0.299802    0.307552\n",
       "min      0.011281    0.002372    0.001270    0.002581    0.007905\n",
       "25%      0.220768    0.238988    0.246600    0.220554    0.214153\n",
       "50%      0.449959    0.470176    0.455978    0.523749    0.500223\n",
       "75%      0.728638    0.734623    0.688564    0.749549    0.765509\n",
       "max      0.999415    0.999463    0.987607    0.997305    0.998153"
      ]
     },
     "execution_count": 101,
     "metadata": {},
     "output_type": "execute_result"
    }
   ],
   "source": [
    "newdf.describe()"
   ]
  },
  {
   "cell_type": "code",
   "execution_count": 102,
   "id": "cad71e69-3a21-432a-aa70-e65e0a4a2167",
   "metadata": {},
   "outputs": [
    {
     "data": {
      "text/plain": [
       "0    float64\n",
       "1    float64\n",
       "2    float64\n",
       "3    float64\n",
       "4    float64\n",
       "dtype: object"
      ]
     },
     "execution_count": 102,
     "metadata": {},
     "output_type": "execute_result"
    }
   ],
   "source": [
    "newdf.dtypes"
   ]
  },
  {
   "cell_type": "code",
   "execution_count": 103,
   "id": "d5fe661b-c32a-4a94-a106-5f44135048e3",
   "metadata": {},
   "outputs": [
    {
     "data": {
      "text/html": [
       "<div>\n",
       "<style scoped>\n",
       "    .dataframe tbody tr th:only-of-type {\n",
       "        vertical-align: middle;\n",
       "    }\n",
       "\n",
       "    .dataframe tbody tr th {\n",
       "        vertical-align: top;\n",
       "    }\n",
       "\n",
       "    .dataframe thead th {\n",
       "        text-align: right;\n",
       "    }\n",
       "</style>\n",
       "<table border=\"1\" class=\"dataframe\">\n",
       "  <thead>\n",
       "    <tr style=\"text-align: right;\">\n",
       "      <th></th>\n",
       "      <th>0</th>\n",
       "      <th>1</th>\n",
       "      <th>2</th>\n",
       "      <th>3</th>\n",
       "      <th>4</th>\n",
       "    </tr>\n",
       "  </thead>\n",
       "  <tbody>\n",
       "    <tr>\n",
       "      <th>0</th>\n",
       "      <td>0.653233</td>\n",
       "      <td>0.157450</td>\n",
       "      <td>0.655528</td>\n",
       "      <td>0.118118</td>\n",
       "      <td>0.202044</td>\n",
       "    </tr>\n",
       "    <tr>\n",
       "      <th>1</th>\n",
       "      <td>0.050939</td>\n",
       "      <td>0.558863</td>\n",
       "      <td>0.430774</td>\n",
       "      <td>0.459138</td>\n",
       "      <td>0.998153</td>\n",
       "    </tr>\n",
       "    <tr>\n",
       "      <th>2</th>\n",
       "      <td>0.942839</td>\n",
       "      <td>0.862690</td>\n",
       "      <td>0.595492</td>\n",
       "      <td>0.491221</td>\n",
       "      <td>0.396037</td>\n",
       "    </tr>\n",
       "    <tr>\n",
       "      <th>3</th>\n",
       "      <td>0.934001</td>\n",
       "      <td>0.372846</td>\n",
       "      <td>0.223908</td>\n",
       "      <td>0.331091</td>\n",
       "      <td>0.765693</td>\n",
       "    </tr>\n",
       "    <tr>\n",
       "      <th>4</th>\n",
       "      <td>0.120901</td>\n",
       "      <td>0.531177</td>\n",
       "      <td>0.839910</td>\n",
       "      <td>0.177574</td>\n",
       "      <td>0.456581</td>\n",
       "    </tr>\n",
       "  </tbody>\n",
       "</table>\n",
       "</div>"
      ],
      "text/plain": [
       "          0         1         2         3         4\n",
       "0  0.653233  0.157450  0.655528  0.118118  0.202044\n",
       "1  0.050939  0.558863  0.430774  0.459138  0.998153\n",
       "2  0.942839  0.862690  0.595492  0.491221  0.396037\n",
       "3  0.934001  0.372846  0.223908  0.331091  0.765693\n",
       "4  0.120901  0.531177  0.839910  0.177574  0.456581"
      ]
     },
     "execution_count": 103,
     "metadata": {},
     "output_type": "execute_result"
    }
   ],
   "source": [
    "newdf.head()"
   ]
  },
  {
   "cell_type": "code",
   "execution_count": 104,
   "id": "1b2b20a5-9778-4b9f-8eea-4fe8b475094c",
   "metadata": {},
   "outputs": [
    {
     "name": "stderr",
     "output_type": "stream",
     "text": [
      "C:\\Users\\dell\\AppData\\Local\\Temp\\ipykernel_22428\\138492369.py:1: FutureWarning: ChainedAssignmentError: behaviour will change in pandas 3.0!\n",
      "You are setting values through chained assignment. Currently this works in certain cases, but when using Copy-on-Write (which will become the default behaviour in pandas 3.0) this will never work to update the original DataFrame or Series, because the intermediate object on which we are setting values will behave as a copy.\n",
      "A typical example is when you are setting values in a column of a DataFrame, like:\n",
      "\n",
      "df[\"col\"][row_indexer] = value\n",
      "\n",
      "Use `df.loc[row_indexer, \"col\"] = values` instead, to perform the assignment in a single step and ensure this keeps updating the original `df`.\n",
      "\n",
      "See the caveats in the documentation: https://pandas.pydata.org/pandas-docs/stable/user_guide/indexing.html#returning-a-view-versus-a-copy\n",
      "\n",
      "  newdf[0][0]=\"ishvi\"\n",
      "C:\\Users\\dell\\AppData\\Local\\Temp\\ipykernel_22428\\138492369.py:1: FutureWarning: Setting an item of incompatible dtype is deprecated and will raise an error in a future version of pandas. Value 'ishvi' has dtype incompatible with float64, please explicitly cast to a compatible dtype first.\n",
      "  newdf[0][0]=\"ishvi\"\n"
     ]
    }
   ],
   "source": [
    "newdf[0][0]=\"ishvi\""
   ]
  },
  {
   "cell_type": "code",
   "execution_count": 105,
   "id": "67585c78-fe86-4f2b-818e-21fcfc7e31ba",
   "metadata": {},
   "outputs": [
    {
     "data": {
      "text/plain": [
       "0     object\n",
       "1    float64\n",
       "2    float64\n",
       "3    float64\n",
       "4    float64\n",
       "dtype: object"
      ]
     },
     "execution_count": 105,
     "metadata": {},
     "output_type": "execute_result"
    }
   ],
   "source": [
    "newdf.dtypes"
   ]
  },
  {
   "cell_type": "code",
   "execution_count": 106,
   "id": "2af3c357-7f8a-4e17-9bae-10b918bfefbe",
   "metadata": {},
   "outputs": [
    {
     "data": {
      "text/html": [
       "<div>\n",
       "<style scoped>\n",
       "    .dataframe tbody tr th:only-of-type {\n",
       "        vertical-align: middle;\n",
       "    }\n",
       "\n",
       "    .dataframe tbody tr th {\n",
       "        vertical-align: top;\n",
       "    }\n",
       "\n",
       "    .dataframe thead th {\n",
       "        text-align: right;\n",
       "    }\n",
       "</style>\n",
       "<table border=\"1\" class=\"dataframe\">\n",
       "  <thead>\n",
       "    <tr style=\"text-align: right;\">\n",
       "      <th></th>\n",
       "      <th>0</th>\n",
       "      <th>1</th>\n",
       "      <th>2</th>\n",
       "      <th>3</th>\n",
       "      <th>4</th>\n",
       "    </tr>\n",
       "  </thead>\n",
       "  <tbody>\n",
       "    <tr>\n",
       "      <th>0</th>\n",
       "      <td>ishvi</td>\n",
       "      <td>0.157450</td>\n",
       "      <td>0.655528</td>\n",
       "      <td>0.118118</td>\n",
       "      <td>0.202044</td>\n",
       "    </tr>\n",
       "    <tr>\n",
       "      <th>1</th>\n",
       "      <td>0.050939</td>\n",
       "      <td>0.558863</td>\n",
       "      <td>0.430774</td>\n",
       "      <td>0.459138</td>\n",
       "      <td>0.998153</td>\n",
       "    </tr>\n",
       "    <tr>\n",
       "      <th>2</th>\n",
       "      <td>0.942839</td>\n",
       "      <td>0.862690</td>\n",
       "      <td>0.595492</td>\n",
       "      <td>0.491221</td>\n",
       "      <td>0.396037</td>\n",
       "    </tr>\n",
       "    <tr>\n",
       "      <th>3</th>\n",
       "      <td>0.934001</td>\n",
       "      <td>0.372846</td>\n",
       "      <td>0.223908</td>\n",
       "      <td>0.331091</td>\n",
       "      <td>0.765693</td>\n",
       "    </tr>\n",
       "    <tr>\n",
       "      <th>4</th>\n",
       "      <td>0.120901</td>\n",
       "      <td>0.531177</td>\n",
       "      <td>0.839910</td>\n",
       "      <td>0.177574</td>\n",
       "      <td>0.456581</td>\n",
       "    </tr>\n",
       "  </tbody>\n",
       "</table>\n",
       "</div>"
      ],
      "text/plain": [
       "          0         1         2         3         4\n",
       "0     ishvi  0.157450  0.655528  0.118118  0.202044\n",
       "1  0.050939  0.558863  0.430774  0.459138  0.998153\n",
       "2  0.942839  0.862690  0.595492  0.491221  0.396037\n",
       "3  0.934001  0.372846  0.223908  0.331091  0.765693\n",
       "4  0.120901  0.531177  0.839910  0.177574  0.456581"
      ]
     },
     "execution_count": 106,
     "metadata": {},
     "output_type": "execute_result"
    }
   ],
   "source": [
    "newdf.head()"
   ]
  },
  {
   "cell_type": "code",
   "execution_count": 107,
   "id": "4e5ea6fa-df26-45ce-ae39-e8a2dc0384d5",
   "metadata": {},
   "outputs": [
    {
     "data": {
      "text/plain": [
       "Index([  0,   1,   2,   3,   4,   5,   6,   7,   8,   9,\n",
       "       ...\n",
       "       324, 325, 326, 327, 328, 329, 330, 331, 332, 333],\n",
       "      dtype='int64', length=334)"
      ]
     },
     "execution_count": 107,
     "metadata": {},
     "output_type": "execute_result"
    }
   ],
   "source": [
    "newdf.index"
   ]
  },
  {
   "cell_type": "code",
   "execution_count": 108,
   "id": "61224c97-b697-42fb-b423-d6996a315db7",
   "metadata": {},
   "outputs": [
    {
     "data": {
      "text/plain": [
       "RangeIndex(start=0, stop=5, step=1)"
      ]
     },
     "execution_count": 108,
     "metadata": {},
     "output_type": "execute_result"
    }
   ],
   "source": [
    "newdf.columns"
   ]
  },
  {
   "cell_type": "code",
   "execution_count": 109,
   "id": "902a87b4-7d84-4cc0-9cee-9344a824da15",
   "metadata": {},
   "outputs": [
    {
     "data": {
      "text/plain": [
       "array([['ishvi', 0.15745012884631815, 0.655528168833698,\n",
       "        0.11811762283201965, 0.20204355555678055],\n",
       "       [0.0509386681666093, 0.5588628709579924, 0.43077361647054613,\n",
       "        0.45913843988223746, 0.9981525931178811],\n",
       "       [0.9428388460723043, 0.8626902643688822, 0.5954917240207761,\n",
       "        0.49122129836532313, 0.3960365435695061],\n",
       "       ...,\n",
       "       [0.5036368926070742, 0.5301383402569138, 0.24587966936890326,\n",
       "        0.8358772031397949, 0.8121339729000852],\n",
       "       [0.44830736324148857, 0.7720182093971913, 0.8344573286165623,\n",
       "        0.8703408479877034, 0.027130867450672724],\n",
       "       [0.8158680808301775, 0.6307541146598983, 0.7761594389707478,\n",
       "        0.7496095751413827, 0.32110740598612453]],\n",
       "      shape=(334, 5), dtype=object)"
      ]
     },
     "execution_count": 109,
     "metadata": {},
     "output_type": "execute_result"
    }
   ],
   "source": [
    "newdf.to_numpy()"
   ]
  },
  {
   "cell_type": "code",
   "execution_count": 110,
   "id": "2caf5f59-6ffb-4f99-aac7-57179f19b409",
   "metadata": {},
   "outputs": [],
   "source": [
    "newdf[0][0]=0.3"
   ]
  },
  {
   "cell_type": "code",
   "execution_count": 111,
   "id": "d7a9694c-2458-4499-a6be-d0122b7f5cb8",
   "metadata": {},
   "outputs": [
    {
     "data": {
      "text/html": [
       "<div>\n",
       "<style scoped>\n",
       "    .dataframe tbody tr th:only-of-type {\n",
       "        vertical-align: middle;\n",
       "    }\n",
       "\n",
       "    .dataframe tbody tr th {\n",
       "        vertical-align: top;\n",
       "    }\n",
       "\n",
       "    .dataframe thead th {\n",
       "        text-align: right;\n",
       "    }\n",
       "</style>\n",
       "<table border=\"1\" class=\"dataframe\">\n",
       "  <thead>\n",
       "    <tr style=\"text-align: right;\">\n",
       "      <th></th>\n",
       "      <th>0</th>\n",
       "      <th>1</th>\n",
       "      <th>2</th>\n",
       "      <th>3</th>\n",
       "      <th>4</th>\n",
       "      <th>5</th>\n",
       "      <th>6</th>\n",
       "      <th>7</th>\n",
       "      <th>8</th>\n",
       "      <th>9</th>\n",
       "      <th>...</th>\n",
       "      <th>324</th>\n",
       "      <th>325</th>\n",
       "      <th>326</th>\n",
       "      <th>327</th>\n",
       "      <th>328</th>\n",
       "      <th>329</th>\n",
       "      <th>330</th>\n",
       "      <th>331</th>\n",
       "      <th>332</th>\n",
       "      <th>333</th>\n",
       "    </tr>\n",
       "  </thead>\n",
       "  <tbody>\n",
       "    <tr>\n",
       "      <th>0</th>\n",
       "      <td>0.3</td>\n",
       "      <td>0.050939</td>\n",
       "      <td>0.942839</td>\n",
       "      <td>0.934001</td>\n",
       "      <td>0.120901</td>\n",
       "      <td>0.343092</td>\n",
       "      <td>0.768508</td>\n",
       "      <td>0.289132</td>\n",
       "      <td>0.184082</td>\n",
       "      <td>0.293996</td>\n",
       "      <td>...</td>\n",
       "      <td>0.040704</td>\n",
       "      <td>0.609137</td>\n",
       "      <td>0.210543</td>\n",
       "      <td>0.068177</td>\n",
       "      <td>0.961684</td>\n",
       "      <td>0.36404</td>\n",
       "      <td>0.65881</td>\n",
       "      <td>0.503637</td>\n",
       "      <td>0.448307</td>\n",
       "      <td>0.815868</td>\n",
       "    </tr>\n",
       "    <tr>\n",
       "      <th>1</th>\n",
       "      <td>0.15745</td>\n",
       "      <td>0.558863</td>\n",
       "      <td>0.86269</td>\n",
       "      <td>0.372846</td>\n",
       "      <td>0.531177</td>\n",
       "      <td>0.483345</td>\n",
       "      <td>0.014563</td>\n",
       "      <td>0.960992</td>\n",
       "      <td>0.650667</td>\n",
       "      <td>0.43021</td>\n",
       "      <td>...</td>\n",
       "      <td>0.58649</td>\n",
       "      <td>0.935154</td>\n",
       "      <td>0.70519</td>\n",
       "      <td>0.06317</td>\n",
       "      <td>0.376847</td>\n",
       "      <td>0.546887</td>\n",
       "      <td>0.967434</td>\n",
       "      <td>0.530138</td>\n",
       "      <td>0.772018</td>\n",
       "      <td>0.630754</td>\n",
       "    </tr>\n",
       "    <tr>\n",
       "      <th>2</th>\n",
       "      <td>0.655528</td>\n",
       "      <td>0.430774</td>\n",
       "      <td>0.595492</td>\n",
       "      <td>0.223908</td>\n",
       "      <td>0.83991</td>\n",
       "      <td>0.335636</td>\n",
       "      <td>0.0281</td>\n",
       "      <td>0.632041</td>\n",
       "      <td>0.215937</td>\n",
       "      <td>0.619</td>\n",
       "      <td>...</td>\n",
       "      <td>0.019007</td>\n",
       "      <td>0.92425</td>\n",
       "      <td>0.604958</td>\n",
       "      <td>0.063311</td>\n",
       "      <td>0.128137</td>\n",
       "      <td>0.70367</td>\n",
       "      <td>0.970565</td>\n",
       "      <td>0.24588</td>\n",
       "      <td>0.834457</td>\n",
       "      <td>0.776159</td>\n",
       "    </tr>\n",
       "    <tr>\n",
       "      <th>3</th>\n",
       "      <td>0.118118</td>\n",
       "      <td>0.459138</td>\n",
       "      <td>0.491221</td>\n",
       "      <td>0.331091</td>\n",
       "      <td>0.177574</td>\n",
       "      <td>0.938445</td>\n",
       "      <td>0.177134</td>\n",
       "      <td>0.680106</td>\n",
       "      <td>0.364781</td>\n",
       "      <td>0.048932</td>\n",
       "      <td>...</td>\n",
       "      <td>0.116188</td>\n",
       "      <td>0.524717</td>\n",
       "      <td>0.412952</td>\n",
       "      <td>0.996703</td>\n",
       "      <td>0.9149</td>\n",
       "      <td>0.394201</td>\n",
       "      <td>0.593643</td>\n",
       "      <td>0.835877</td>\n",
       "      <td>0.870341</td>\n",
       "      <td>0.74961</td>\n",
       "    </tr>\n",
       "    <tr>\n",
       "      <th>4</th>\n",
       "      <td>0.202044</td>\n",
       "      <td>0.998153</td>\n",
       "      <td>0.396037</td>\n",
       "      <td>0.765693</td>\n",
       "      <td>0.456581</td>\n",
       "      <td>0.25206</td>\n",
       "      <td>0.69753</td>\n",
       "      <td>0.947635</td>\n",
       "      <td>0.837905</td>\n",
       "      <td>0.919314</td>\n",
       "      <td>...</td>\n",
       "      <td>0.910105</td>\n",
       "      <td>0.864175</td>\n",
       "      <td>0.660756</td>\n",
       "      <td>0.176823</td>\n",
       "      <td>0.468709</td>\n",
       "      <td>0.072596</td>\n",
       "      <td>0.147058</td>\n",
       "      <td>0.812134</td>\n",
       "      <td>0.027131</td>\n",
       "      <td>0.321107</td>\n",
       "    </tr>\n",
       "  </tbody>\n",
       "</table>\n",
       "<p>5 rows × 334 columns</p>\n",
       "</div>"
      ],
      "text/plain": [
       "        0         1         2         3         4         5         6    \\\n",
       "0       0.3  0.050939  0.942839  0.934001  0.120901  0.343092  0.768508   \n",
       "1   0.15745  0.558863   0.86269  0.372846  0.531177  0.483345  0.014563   \n",
       "2  0.655528  0.430774  0.595492  0.223908   0.83991  0.335636    0.0281   \n",
       "3  0.118118  0.459138  0.491221  0.331091  0.177574  0.938445  0.177134   \n",
       "4  0.202044  0.998153  0.396037  0.765693  0.456581   0.25206   0.69753   \n",
       "\n",
       "        7         8         9    ...       324       325       326       327  \\\n",
       "0  0.289132  0.184082  0.293996  ...  0.040704  0.609137  0.210543  0.068177   \n",
       "1  0.960992  0.650667   0.43021  ...   0.58649  0.935154   0.70519   0.06317   \n",
       "2  0.632041  0.215937     0.619  ...  0.019007   0.92425  0.604958  0.063311   \n",
       "3  0.680106  0.364781  0.048932  ...  0.116188  0.524717  0.412952  0.996703   \n",
       "4  0.947635  0.837905  0.919314  ...  0.910105  0.864175  0.660756  0.176823   \n",
       "\n",
       "        328       329       330       331       332       333  \n",
       "0  0.961684   0.36404   0.65881  0.503637  0.448307  0.815868  \n",
       "1  0.376847  0.546887  0.967434  0.530138  0.772018  0.630754  \n",
       "2  0.128137   0.70367  0.970565   0.24588  0.834457  0.776159  \n",
       "3    0.9149  0.394201  0.593643  0.835877  0.870341   0.74961  \n",
       "4  0.468709  0.072596  0.147058  0.812134  0.027131  0.321107  \n",
       "\n",
       "[5 rows x 334 columns]"
      ]
     },
     "execution_count": 111,
     "metadata": {},
     "output_type": "execute_result"
    }
   ],
   "source": [
    "newdf.T"
   ]
  },
  {
   "cell_type": "code",
   "execution_count": 112,
   "id": "4462bfcf-2eff-44e7-b040-e822568e40a6",
   "metadata": {},
   "outputs": [
    {
     "data": {
      "text/html": [
       "<div>\n",
       "<style scoped>\n",
       "    .dataframe tbody tr th:only-of-type {\n",
       "        vertical-align: middle;\n",
       "    }\n",
       "\n",
       "    .dataframe tbody tr th {\n",
       "        vertical-align: top;\n",
       "    }\n",
       "\n",
       "    .dataframe thead th {\n",
       "        text-align: right;\n",
       "    }\n",
       "</style>\n",
       "<table border=\"1\" class=\"dataframe\">\n",
       "  <thead>\n",
       "    <tr style=\"text-align: right;\">\n",
       "      <th></th>\n",
       "      <th>0</th>\n",
       "      <th>1</th>\n",
       "      <th>2</th>\n",
       "      <th>3</th>\n",
       "      <th>4</th>\n",
       "    </tr>\n",
       "  </thead>\n",
       "  <tbody>\n",
       "    <tr>\n",
       "      <th>0</th>\n",
       "      <td>0.3</td>\n",
       "      <td>0.157450</td>\n",
       "      <td>0.655528</td>\n",
       "      <td>0.118118</td>\n",
       "      <td>0.202044</td>\n",
       "    </tr>\n",
       "    <tr>\n",
       "      <th>1</th>\n",
       "      <td>0.050939</td>\n",
       "      <td>0.558863</td>\n",
       "      <td>0.430774</td>\n",
       "      <td>0.459138</td>\n",
       "      <td>0.998153</td>\n",
       "    </tr>\n",
       "    <tr>\n",
       "      <th>2</th>\n",
       "      <td>0.942839</td>\n",
       "      <td>0.862690</td>\n",
       "      <td>0.595492</td>\n",
       "      <td>0.491221</td>\n",
       "      <td>0.396037</td>\n",
       "    </tr>\n",
       "    <tr>\n",
       "      <th>3</th>\n",
       "      <td>0.934001</td>\n",
       "      <td>0.372846</td>\n",
       "      <td>0.223908</td>\n",
       "      <td>0.331091</td>\n",
       "      <td>0.765693</td>\n",
       "    </tr>\n",
       "    <tr>\n",
       "      <th>4</th>\n",
       "      <td>0.120901</td>\n",
       "      <td>0.531177</td>\n",
       "      <td>0.839910</td>\n",
       "      <td>0.177574</td>\n",
       "      <td>0.456581</td>\n",
       "    </tr>\n",
       "  </tbody>\n",
       "</table>\n",
       "</div>"
      ],
      "text/plain": [
       "          0         1         2         3         4\n",
       "0       0.3  0.157450  0.655528  0.118118  0.202044\n",
       "1  0.050939  0.558863  0.430774  0.459138  0.998153\n",
       "2  0.942839  0.862690  0.595492  0.491221  0.396037\n",
       "3  0.934001  0.372846  0.223908  0.331091  0.765693\n",
       "4  0.120901  0.531177  0.839910  0.177574  0.456581"
      ]
     },
     "execution_count": 112,
     "metadata": {},
     "output_type": "execute_result"
    }
   ],
   "source": [
    "newdf.head()"
   ]
  },
  {
   "cell_type": "code",
   "execution_count": 113,
   "id": "0ff3e8d6-5cbe-4222-937e-4fc5a426c713",
   "metadata": {},
   "outputs": [
    {
     "data": {
      "text/html": [
       "<div>\n",
       "<style scoped>\n",
       "    .dataframe tbody tr th:only-of-type {\n",
       "        vertical-align: middle;\n",
       "    }\n",
       "\n",
       "    .dataframe tbody tr th {\n",
       "        vertical-align: top;\n",
       "    }\n",
       "\n",
       "    .dataframe thead th {\n",
       "        text-align: right;\n",
       "    }\n",
       "</style>\n",
       "<table border=\"1\" class=\"dataframe\">\n",
       "  <thead>\n",
       "    <tr style=\"text-align: right;\">\n",
       "      <th></th>\n",
       "      <th>0</th>\n",
       "      <th>1</th>\n",
       "      <th>2</th>\n",
       "      <th>3</th>\n",
       "      <th>4</th>\n",
       "    </tr>\n",
       "  </thead>\n",
       "  <tbody>\n",
       "    <tr>\n",
       "      <th>333</th>\n",
       "      <td>0.815868</td>\n",
       "      <td>0.630754</td>\n",
       "      <td>0.776159</td>\n",
       "      <td>0.749610</td>\n",
       "      <td>0.321107</td>\n",
       "    </tr>\n",
       "    <tr>\n",
       "      <th>332</th>\n",
       "      <td>0.448307</td>\n",
       "      <td>0.772018</td>\n",
       "      <td>0.834457</td>\n",
       "      <td>0.870341</td>\n",
       "      <td>0.027131</td>\n",
       "    </tr>\n",
       "    <tr>\n",
       "      <th>331</th>\n",
       "      <td>0.503637</td>\n",
       "      <td>0.530138</td>\n",
       "      <td>0.245880</td>\n",
       "      <td>0.835877</td>\n",
       "      <td>0.812134</td>\n",
       "    </tr>\n",
       "    <tr>\n",
       "      <th>330</th>\n",
       "      <td>0.65881</td>\n",
       "      <td>0.967434</td>\n",
       "      <td>0.970565</td>\n",
       "      <td>0.593643</td>\n",
       "      <td>0.147058</td>\n",
       "    </tr>\n",
       "    <tr>\n",
       "      <th>329</th>\n",
       "      <td>0.36404</td>\n",
       "      <td>0.546887</td>\n",
       "      <td>0.703670</td>\n",
       "      <td>0.394201</td>\n",
       "      <td>0.072596</td>\n",
       "    </tr>\n",
       "    <tr>\n",
       "      <th>...</th>\n",
       "      <td>...</td>\n",
       "      <td>...</td>\n",
       "      <td>...</td>\n",
       "      <td>...</td>\n",
       "      <td>...</td>\n",
       "    </tr>\n",
       "    <tr>\n",
       "      <th>4</th>\n",
       "      <td>0.120901</td>\n",
       "      <td>0.531177</td>\n",
       "      <td>0.839910</td>\n",
       "      <td>0.177574</td>\n",
       "      <td>0.456581</td>\n",
       "    </tr>\n",
       "    <tr>\n",
       "      <th>3</th>\n",
       "      <td>0.934001</td>\n",
       "      <td>0.372846</td>\n",
       "      <td>0.223908</td>\n",
       "      <td>0.331091</td>\n",
       "      <td>0.765693</td>\n",
       "    </tr>\n",
       "    <tr>\n",
       "      <th>2</th>\n",
       "      <td>0.942839</td>\n",
       "      <td>0.862690</td>\n",
       "      <td>0.595492</td>\n",
       "      <td>0.491221</td>\n",
       "      <td>0.396037</td>\n",
       "    </tr>\n",
       "    <tr>\n",
       "      <th>1</th>\n",
       "      <td>0.050939</td>\n",
       "      <td>0.558863</td>\n",
       "      <td>0.430774</td>\n",
       "      <td>0.459138</td>\n",
       "      <td>0.998153</td>\n",
       "    </tr>\n",
       "    <tr>\n",
       "      <th>0</th>\n",
       "      <td>0.3</td>\n",
       "      <td>0.157450</td>\n",
       "      <td>0.655528</td>\n",
       "      <td>0.118118</td>\n",
       "      <td>0.202044</td>\n",
       "    </tr>\n",
       "  </tbody>\n",
       "</table>\n",
       "<p>334 rows × 5 columns</p>\n",
       "</div>"
      ],
      "text/plain": [
       "            0         1         2         3         4\n",
       "333  0.815868  0.630754  0.776159  0.749610  0.321107\n",
       "332  0.448307  0.772018  0.834457  0.870341  0.027131\n",
       "331  0.503637  0.530138  0.245880  0.835877  0.812134\n",
       "330   0.65881  0.967434  0.970565  0.593643  0.147058\n",
       "329   0.36404  0.546887  0.703670  0.394201  0.072596\n",
       "..        ...       ...       ...       ...       ...\n",
       "4    0.120901  0.531177  0.839910  0.177574  0.456581\n",
       "3    0.934001  0.372846  0.223908  0.331091  0.765693\n",
       "2    0.942839  0.862690  0.595492  0.491221  0.396037\n",
       "1    0.050939  0.558863  0.430774  0.459138  0.998153\n",
       "0         0.3  0.157450  0.655528  0.118118  0.202044\n",
       "\n",
       "[334 rows x 5 columns]"
      ]
     },
     "execution_count": 113,
     "metadata": {},
     "output_type": "execute_result"
    }
   ],
   "source": [
    "newdf.sort_index(axis=0,ascending=False)"
   ]
  },
  {
   "cell_type": "code",
   "execution_count": 114,
   "id": "b8ba3951-139b-4612-b823-e71162e655dc",
   "metadata": {},
   "outputs": [
    {
     "data": {
      "text/html": [
       "<div>\n",
       "<style scoped>\n",
       "    .dataframe tbody tr th:only-of-type {\n",
       "        vertical-align: middle;\n",
       "    }\n",
       "\n",
       "    .dataframe tbody tr th {\n",
       "        vertical-align: top;\n",
       "    }\n",
       "\n",
       "    .dataframe thead th {\n",
       "        text-align: right;\n",
       "    }\n",
       "</style>\n",
       "<table border=\"1\" class=\"dataframe\">\n",
       "  <thead>\n",
       "    <tr style=\"text-align: right;\">\n",
       "      <th></th>\n",
       "      <th>4</th>\n",
       "      <th>3</th>\n",
       "      <th>2</th>\n",
       "      <th>1</th>\n",
       "      <th>0</th>\n",
       "    </tr>\n",
       "  </thead>\n",
       "  <tbody>\n",
       "    <tr>\n",
       "      <th>0</th>\n",
       "      <td>0.202044</td>\n",
       "      <td>0.118118</td>\n",
       "      <td>0.655528</td>\n",
       "      <td>0.157450</td>\n",
       "      <td>0.3</td>\n",
       "    </tr>\n",
       "    <tr>\n",
       "      <th>1</th>\n",
       "      <td>0.998153</td>\n",
       "      <td>0.459138</td>\n",
       "      <td>0.430774</td>\n",
       "      <td>0.558863</td>\n",
       "      <td>0.050939</td>\n",
       "    </tr>\n",
       "    <tr>\n",
       "      <th>2</th>\n",
       "      <td>0.396037</td>\n",
       "      <td>0.491221</td>\n",
       "      <td>0.595492</td>\n",
       "      <td>0.862690</td>\n",
       "      <td>0.942839</td>\n",
       "    </tr>\n",
       "    <tr>\n",
       "      <th>3</th>\n",
       "      <td>0.765693</td>\n",
       "      <td>0.331091</td>\n",
       "      <td>0.223908</td>\n",
       "      <td>0.372846</td>\n",
       "      <td>0.934001</td>\n",
       "    </tr>\n",
       "    <tr>\n",
       "      <th>4</th>\n",
       "      <td>0.456581</td>\n",
       "      <td>0.177574</td>\n",
       "      <td>0.839910</td>\n",
       "      <td>0.531177</td>\n",
       "      <td>0.120901</td>\n",
       "    </tr>\n",
       "    <tr>\n",
       "      <th>...</th>\n",
       "      <td>...</td>\n",
       "      <td>...</td>\n",
       "      <td>...</td>\n",
       "      <td>...</td>\n",
       "      <td>...</td>\n",
       "    </tr>\n",
       "    <tr>\n",
       "      <th>329</th>\n",
       "      <td>0.072596</td>\n",
       "      <td>0.394201</td>\n",
       "      <td>0.703670</td>\n",
       "      <td>0.546887</td>\n",
       "      <td>0.36404</td>\n",
       "    </tr>\n",
       "    <tr>\n",
       "      <th>330</th>\n",
       "      <td>0.147058</td>\n",
       "      <td>0.593643</td>\n",
       "      <td>0.970565</td>\n",
       "      <td>0.967434</td>\n",
       "      <td>0.65881</td>\n",
       "    </tr>\n",
       "    <tr>\n",
       "      <th>331</th>\n",
       "      <td>0.812134</td>\n",
       "      <td>0.835877</td>\n",
       "      <td>0.245880</td>\n",
       "      <td>0.530138</td>\n",
       "      <td>0.503637</td>\n",
       "    </tr>\n",
       "    <tr>\n",
       "      <th>332</th>\n",
       "      <td>0.027131</td>\n",
       "      <td>0.870341</td>\n",
       "      <td>0.834457</td>\n",
       "      <td>0.772018</td>\n",
       "      <td>0.448307</td>\n",
       "    </tr>\n",
       "    <tr>\n",
       "      <th>333</th>\n",
       "      <td>0.321107</td>\n",
       "      <td>0.749610</td>\n",
       "      <td>0.776159</td>\n",
       "      <td>0.630754</td>\n",
       "      <td>0.815868</td>\n",
       "    </tr>\n",
       "  </tbody>\n",
       "</table>\n",
       "<p>334 rows × 5 columns</p>\n",
       "</div>"
      ],
      "text/plain": [
       "            4         3         2         1         0\n",
       "0    0.202044  0.118118  0.655528  0.157450       0.3\n",
       "1    0.998153  0.459138  0.430774  0.558863  0.050939\n",
       "2    0.396037  0.491221  0.595492  0.862690  0.942839\n",
       "3    0.765693  0.331091  0.223908  0.372846  0.934001\n",
       "4    0.456581  0.177574  0.839910  0.531177  0.120901\n",
       "..        ...       ...       ...       ...       ...\n",
       "329  0.072596  0.394201  0.703670  0.546887   0.36404\n",
       "330  0.147058  0.593643  0.970565  0.967434   0.65881\n",
       "331  0.812134  0.835877  0.245880  0.530138  0.503637\n",
       "332  0.027131  0.870341  0.834457  0.772018  0.448307\n",
       "333  0.321107  0.749610  0.776159  0.630754  0.815868\n",
       "\n",
       "[334 rows x 5 columns]"
      ]
     },
     "execution_count": 114,
     "metadata": {},
     "output_type": "execute_result"
    }
   ],
   "source": [
    "newdf.sort_index(axis=1,ascending=False)"
   ]
  },
  {
   "cell_type": "code",
   "execution_count": 115,
   "id": "5bc48ff1-1427-452e-8061-ac48814414b2",
   "metadata": {},
   "outputs": [
    {
     "data": {
      "text/html": [
       "<div>\n",
       "<style scoped>\n",
       "    .dataframe tbody tr th:only-of-type {\n",
       "        vertical-align: middle;\n",
       "    }\n",
       "\n",
       "    .dataframe tbody tr th {\n",
       "        vertical-align: top;\n",
       "    }\n",
       "\n",
       "    .dataframe thead th {\n",
       "        text-align: right;\n",
       "    }\n",
       "</style>\n",
       "<table border=\"1\" class=\"dataframe\">\n",
       "  <thead>\n",
       "    <tr style=\"text-align: right;\">\n",
       "      <th></th>\n",
       "      <th>0</th>\n",
       "      <th>1</th>\n",
       "      <th>2</th>\n",
       "      <th>3</th>\n",
       "      <th>4</th>\n",
       "    </tr>\n",
       "  </thead>\n",
       "  <tbody>\n",
       "    <tr>\n",
       "      <th>0</th>\n",
       "      <td>0.3</td>\n",
       "      <td>0.157450</td>\n",
       "      <td>0.655528</td>\n",
       "      <td>0.118118</td>\n",
       "      <td>0.202044</td>\n",
       "    </tr>\n",
       "    <tr>\n",
       "      <th>1</th>\n",
       "      <td>0.050939</td>\n",
       "      <td>0.558863</td>\n",
       "      <td>0.430774</td>\n",
       "      <td>0.459138</td>\n",
       "      <td>0.998153</td>\n",
       "    </tr>\n",
       "    <tr>\n",
       "      <th>2</th>\n",
       "      <td>0.942839</td>\n",
       "      <td>0.862690</td>\n",
       "      <td>0.595492</td>\n",
       "      <td>0.491221</td>\n",
       "      <td>0.396037</td>\n",
       "    </tr>\n",
       "    <tr>\n",
       "      <th>3</th>\n",
       "      <td>0.934001</td>\n",
       "      <td>0.372846</td>\n",
       "      <td>0.223908</td>\n",
       "      <td>0.331091</td>\n",
       "      <td>0.765693</td>\n",
       "    </tr>\n",
       "    <tr>\n",
       "      <th>4</th>\n",
       "      <td>0.120901</td>\n",
       "      <td>0.531177</td>\n",
       "      <td>0.839910</td>\n",
       "      <td>0.177574</td>\n",
       "      <td>0.456581</td>\n",
       "    </tr>\n",
       "  </tbody>\n",
       "</table>\n",
       "</div>"
      ],
      "text/plain": [
       "          0         1         2         3         4\n",
       "0       0.3  0.157450  0.655528  0.118118  0.202044\n",
       "1  0.050939  0.558863  0.430774  0.459138  0.998153\n",
       "2  0.942839  0.862690  0.595492  0.491221  0.396037\n",
       "3  0.934001  0.372846  0.223908  0.331091  0.765693\n",
       "4  0.120901  0.531177  0.839910  0.177574  0.456581"
      ]
     },
     "execution_count": 115,
     "metadata": {},
     "output_type": "execute_result"
    }
   ],
   "source": [
    "newdf.head()"
   ]
  },
  {
   "cell_type": "code",
   "execution_count": 116,
   "id": "7587f29c-3e98-40fb-a902-6409067ccbe8",
   "metadata": {},
   "outputs": [
    {
     "data": {
      "text/plain": [
       "0           0.3\n",
       "1      0.050939\n",
       "2      0.942839\n",
       "3      0.934001\n",
       "4      0.120901\n",
       "         ...   \n",
       "329     0.36404\n",
       "330     0.65881\n",
       "331    0.503637\n",
       "332    0.448307\n",
       "333    0.815868\n",
       "Name: 0, Length: 334, dtype: object"
      ]
     },
     "execution_count": 116,
     "metadata": {},
     "output_type": "execute_result"
    }
   ],
   "source": [
    "newdf[0]"
   ]
  },
  {
   "cell_type": "code",
   "execution_count": 117,
   "id": "839f8103-5909-4e2c-861d-b9b3f8d4a2ce",
   "metadata": {},
   "outputs": [
    {
     "data": {
      "text/plain": [
       "pandas.core.series.Series"
      ]
     },
     "execution_count": 117,
     "metadata": {},
     "output_type": "execute_result"
    }
   ],
   "source": [
    "type(newdf[0])"
   ]
  },
  {
   "cell_type": "code",
   "execution_count": 118,
   "id": "b4371951-9d8c-4483-ac48-d2a601662b78",
   "metadata": {},
   "outputs": [],
   "source": [
    "newdf2=newdf"
   ]
  },
  {
   "cell_type": "code",
   "execution_count": 119,
   "id": "35d140ca-aaac-48b5-a928-e96709d2dae7",
   "metadata": {},
   "outputs": [],
   "source": [
    "newdf2[0][0]=9783"
   ]
  },
  {
   "cell_type": "code",
   "execution_count": 120,
   "id": "f07f3301-e1bf-4fa9-b827-6c41f4685649",
   "metadata": {},
   "outputs": [
    {
     "data": {
      "text/html": [
       "<div>\n",
       "<style scoped>\n",
       "    .dataframe tbody tr th:only-of-type {\n",
       "        vertical-align: middle;\n",
       "    }\n",
       "\n",
       "    .dataframe tbody tr th {\n",
       "        vertical-align: top;\n",
       "    }\n",
       "\n",
       "    .dataframe thead th {\n",
       "        text-align: right;\n",
       "    }\n",
       "</style>\n",
       "<table border=\"1\" class=\"dataframe\">\n",
       "  <thead>\n",
       "    <tr style=\"text-align: right;\">\n",
       "      <th></th>\n",
       "      <th>0</th>\n",
       "      <th>1</th>\n",
       "      <th>2</th>\n",
       "      <th>3</th>\n",
       "      <th>4</th>\n",
       "    </tr>\n",
       "  </thead>\n",
       "  <tbody>\n",
       "    <tr>\n",
       "      <th>0</th>\n",
       "      <td>9783</td>\n",
       "      <td>0.157450</td>\n",
       "      <td>0.655528</td>\n",
       "      <td>0.118118</td>\n",
       "      <td>0.202044</td>\n",
       "    </tr>\n",
       "    <tr>\n",
       "      <th>1</th>\n",
       "      <td>0.050939</td>\n",
       "      <td>0.558863</td>\n",
       "      <td>0.430774</td>\n",
       "      <td>0.459138</td>\n",
       "      <td>0.998153</td>\n",
       "    </tr>\n",
       "    <tr>\n",
       "      <th>2</th>\n",
       "      <td>0.942839</td>\n",
       "      <td>0.862690</td>\n",
       "      <td>0.595492</td>\n",
       "      <td>0.491221</td>\n",
       "      <td>0.396037</td>\n",
       "    </tr>\n",
       "    <tr>\n",
       "      <th>3</th>\n",
       "      <td>0.934001</td>\n",
       "      <td>0.372846</td>\n",
       "      <td>0.223908</td>\n",
       "      <td>0.331091</td>\n",
       "      <td>0.765693</td>\n",
       "    </tr>\n",
       "    <tr>\n",
       "      <th>4</th>\n",
       "      <td>0.120901</td>\n",
       "      <td>0.531177</td>\n",
       "      <td>0.839910</td>\n",
       "      <td>0.177574</td>\n",
       "      <td>0.456581</td>\n",
       "    </tr>\n",
       "    <tr>\n",
       "      <th>...</th>\n",
       "      <td>...</td>\n",
       "      <td>...</td>\n",
       "      <td>...</td>\n",
       "      <td>...</td>\n",
       "      <td>...</td>\n",
       "    </tr>\n",
       "    <tr>\n",
       "      <th>329</th>\n",
       "      <td>0.36404</td>\n",
       "      <td>0.546887</td>\n",
       "      <td>0.703670</td>\n",
       "      <td>0.394201</td>\n",
       "      <td>0.072596</td>\n",
       "    </tr>\n",
       "    <tr>\n",
       "      <th>330</th>\n",
       "      <td>0.65881</td>\n",
       "      <td>0.967434</td>\n",
       "      <td>0.970565</td>\n",
       "      <td>0.593643</td>\n",
       "      <td>0.147058</td>\n",
       "    </tr>\n",
       "    <tr>\n",
       "      <th>331</th>\n",
       "      <td>0.503637</td>\n",
       "      <td>0.530138</td>\n",
       "      <td>0.245880</td>\n",
       "      <td>0.835877</td>\n",
       "      <td>0.812134</td>\n",
       "    </tr>\n",
       "    <tr>\n",
       "      <th>332</th>\n",
       "      <td>0.448307</td>\n",
       "      <td>0.772018</td>\n",
       "      <td>0.834457</td>\n",
       "      <td>0.870341</td>\n",
       "      <td>0.027131</td>\n",
       "    </tr>\n",
       "    <tr>\n",
       "      <th>333</th>\n",
       "      <td>0.815868</td>\n",
       "      <td>0.630754</td>\n",
       "      <td>0.776159</td>\n",
       "      <td>0.749610</td>\n",
       "      <td>0.321107</td>\n",
       "    </tr>\n",
       "  </tbody>\n",
       "</table>\n",
       "<p>334 rows × 5 columns</p>\n",
       "</div>"
      ],
      "text/plain": [
       "            0         1         2         3         4\n",
       "0        9783  0.157450  0.655528  0.118118  0.202044\n",
       "1    0.050939  0.558863  0.430774  0.459138  0.998153\n",
       "2    0.942839  0.862690  0.595492  0.491221  0.396037\n",
       "3    0.934001  0.372846  0.223908  0.331091  0.765693\n",
       "4    0.120901  0.531177  0.839910  0.177574  0.456581\n",
       "..        ...       ...       ...       ...       ...\n",
       "329   0.36404  0.546887  0.703670  0.394201  0.072596\n",
       "330   0.65881  0.967434  0.970565  0.593643  0.147058\n",
       "331  0.503637  0.530138  0.245880  0.835877  0.812134\n",
       "332  0.448307  0.772018  0.834457  0.870341  0.027131\n",
       "333  0.815868  0.630754  0.776159  0.749610  0.321107\n",
       "\n",
       "[334 rows x 5 columns]"
      ]
     },
     "execution_count": 120,
     "metadata": {},
     "output_type": "execute_result"
    }
   ],
   "source": [
    "newdf"
   ]
  },
  {
   "cell_type": "code",
   "execution_count": 121,
   "id": "e9cde3ba-c563-403b-9bc9-e8eb43b184ae",
   "metadata": {},
   "outputs": [],
   "source": [
    "newdf2=newdf.copy()"
   ]
  },
  {
   "cell_type": "code",
   "execution_count": 122,
   "id": "f15c4467-ba77-4b98-be18-2983f6eb18c2",
   "metadata": {},
   "outputs": [
    {
     "name": "stderr",
     "output_type": "stream",
     "text": [
      "C:\\Users\\dell\\AppData\\Local\\Temp\\ipykernel_22428\\3030230984.py:1: FutureWarning: ChainedAssignmentError: behaviour will change in pandas 3.0!\n",
      "You are setting values through chained assignment. Currently this works in certain cases, but when using Copy-on-Write (which will become the default behaviour in pandas 3.0) this will never work to update the original DataFrame or Series, because the intermediate object on which we are setting values will behave as a copy.\n",
      "A typical example is when you are setting values in a column of a DataFrame, like:\n",
      "\n",
      "df[\"col\"][row_indexer] = value\n",
      "\n",
      "Use `df.loc[row_indexer, \"col\"] = values` instead, to perform the assignment in a single step and ensure this keeps updating the original `df`.\n",
      "\n",
      "See the caveats in the documentation: https://pandas.pydata.org/pandas-docs/stable/user_guide/indexing.html#returning-a-view-versus-a-copy\n",
      "\n",
      "  newdf2[0][0]=97835\n",
      "C:\\Users\\dell\\AppData\\Local\\Temp\\ipykernel_22428\\3030230984.py:1: SettingWithCopyWarning: \n",
      "A value is trying to be set on a copy of a slice from a DataFrame\n",
      "\n",
      "See the caveats in the documentation: https://pandas.pydata.org/pandas-docs/stable/user_guide/indexing.html#returning-a-view-versus-a-copy\n",
      "  newdf2[0][0]=97835\n"
     ]
    }
   ],
   "source": [
    "newdf2[0][0]=97835"
   ]
  },
  {
   "cell_type": "code",
   "execution_count": 123,
   "id": "9b467b0c-db0f-414c-8065-46b2bce4e00a",
   "metadata": {},
   "outputs": [
    {
     "data": {
      "text/html": [
       "<div>\n",
       "<style scoped>\n",
       "    .dataframe tbody tr th:only-of-type {\n",
       "        vertical-align: middle;\n",
       "    }\n",
       "\n",
       "    .dataframe tbody tr th {\n",
       "        vertical-align: top;\n",
       "    }\n",
       "\n",
       "    .dataframe thead th {\n",
       "        text-align: right;\n",
       "    }\n",
       "</style>\n",
       "<table border=\"1\" class=\"dataframe\">\n",
       "  <thead>\n",
       "    <tr style=\"text-align: right;\">\n",
       "      <th></th>\n",
       "      <th>0</th>\n",
       "      <th>1</th>\n",
       "      <th>2</th>\n",
       "      <th>3</th>\n",
       "      <th>4</th>\n",
       "    </tr>\n",
       "  </thead>\n",
       "  <tbody>\n",
       "    <tr>\n",
       "      <th>0</th>\n",
       "      <td>9783</td>\n",
       "      <td>0.157450</td>\n",
       "      <td>0.655528</td>\n",
       "      <td>0.118118</td>\n",
       "      <td>0.202044</td>\n",
       "    </tr>\n",
       "    <tr>\n",
       "      <th>1</th>\n",
       "      <td>0.050939</td>\n",
       "      <td>0.558863</td>\n",
       "      <td>0.430774</td>\n",
       "      <td>0.459138</td>\n",
       "      <td>0.998153</td>\n",
       "    </tr>\n",
       "    <tr>\n",
       "      <th>2</th>\n",
       "      <td>0.942839</td>\n",
       "      <td>0.862690</td>\n",
       "      <td>0.595492</td>\n",
       "      <td>0.491221</td>\n",
       "      <td>0.396037</td>\n",
       "    </tr>\n",
       "    <tr>\n",
       "      <th>3</th>\n",
       "      <td>0.934001</td>\n",
       "      <td>0.372846</td>\n",
       "      <td>0.223908</td>\n",
       "      <td>0.331091</td>\n",
       "      <td>0.765693</td>\n",
       "    </tr>\n",
       "    <tr>\n",
       "      <th>4</th>\n",
       "      <td>0.120901</td>\n",
       "      <td>0.531177</td>\n",
       "      <td>0.839910</td>\n",
       "      <td>0.177574</td>\n",
       "      <td>0.456581</td>\n",
       "    </tr>\n",
       "    <tr>\n",
       "      <th>...</th>\n",
       "      <td>...</td>\n",
       "      <td>...</td>\n",
       "      <td>...</td>\n",
       "      <td>...</td>\n",
       "      <td>...</td>\n",
       "    </tr>\n",
       "    <tr>\n",
       "      <th>329</th>\n",
       "      <td>0.36404</td>\n",
       "      <td>0.546887</td>\n",
       "      <td>0.703670</td>\n",
       "      <td>0.394201</td>\n",
       "      <td>0.072596</td>\n",
       "    </tr>\n",
       "    <tr>\n",
       "      <th>330</th>\n",
       "      <td>0.65881</td>\n",
       "      <td>0.967434</td>\n",
       "      <td>0.970565</td>\n",
       "      <td>0.593643</td>\n",
       "      <td>0.147058</td>\n",
       "    </tr>\n",
       "    <tr>\n",
       "      <th>331</th>\n",
       "      <td>0.503637</td>\n",
       "      <td>0.530138</td>\n",
       "      <td>0.245880</td>\n",
       "      <td>0.835877</td>\n",
       "      <td>0.812134</td>\n",
       "    </tr>\n",
       "    <tr>\n",
       "      <th>332</th>\n",
       "      <td>0.448307</td>\n",
       "      <td>0.772018</td>\n",
       "      <td>0.834457</td>\n",
       "      <td>0.870341</td>\n",
       "      <td>0.027131</td>\n",
       "    </tr>\n",
       "    <tr>\n",
       "      <th>333</th>\n",
       "      <td>0.815868</td>\n",
       "      <td>0.630754</td>\n",
       "      <td>0.776159</td>\n",
       "      <td>0.749610</td>\n",
       "      <td>0.321107</td>\n",
       "    </tr>\n",
       "  </tbody>\n",
       "</table>\n",
       "<p>334 rows × 5 columns</p>\n",
       "</div>"
      ],
      "text/plain": [
       "            0         1         2         3         4\n",
       "0        9783  0.157450  0.655528  0.118118  0.202044\n",
       "1    0.050939  0.558863  0.430774  0.459138  0.998153\n",
       "2    0.942839  0.862690  0.595492  0.491221  0.396037\n",
       "3    0.934001  0.372846  0.223908  0.331091  0.765693\n",
       "4    0.120901  0.531177  0.839910  0.177574  0.456581\n",
       "..        ...       ...       ...       ...       ...\n",
       "329   0.36404  0.546887  0.703670  0.394201  0.072596\n",
       "330   0.65881  0.967434  0.970565  0.593643  0.147058\n",
       "331  0.503637  0.530138  0.245880  0.835877  0.812134\n",
       "332  0.448307  0.772018  0.834457  0.870341  0.027131\n",
       "333  0.815868  0.630754  0.776159  0.749610  0.321107\n",
       "\n",
       "[334 rows x 5 columns]"
      ]
     },
     "execution_count": 123,
     "metadata": {},
     "output_type": "execute_result"
    }
   ],
   "source": [
    "newdf"
   ]
  },
  {
   "cell_type": "code",
   "execution_count": 124,
   "id": "9a67a329-bc0a-4616-8633-b0487e401dd5",
   "metadata": {},
   "outputs": [],
   "source": [
    "newdf.loc[0,0]=654"
   ]
  },
  {
   "cell_type": "code",
   "execution_count": 125,
   "id": "2a8b2f4b-4674-4b48-963f-324cb1d2a1c9",
   "metadata": {},
   "outputs": [
    {
     "data": {
      "text/html": [
       "<div>\n",
       "<style scoped>\n",
       "    .dataframe tbody tr th:only-of-type {\n",
       "        vertical-align: middle;\n",
       "    }\n",
       "\n",
       "    .dataframe tbody tr th {\n",
       "        vertical-align: top;\n",
       "    }\n",
       "\n",
       "    .dataframe thead th {\n",
       "        text-align: right;\n",
       "    }\n",
       "</style>\n",
       "<table border=\"1\" class=\"dataframe\">\n",
       "  <thead>\n",
       "    <tr style=\"text-align: right;\">\n",
       "      <th></th>\n",
       "      <th>0</th>\n",
       "      <th>1</th>\n",
       "      <th>2</th>\n",
       "      <th>3</th>\n",
       "      <th>4</th>\n",
       "    </tr>\n",
       "  </thead>\n",
       "  <tbody>\n",
       "    <tr>\n",
       "      <th>0</th>\n",
       "      <td>654</td>\n",
       "      <td>0.157450</td>\n",
       "      <td>0.655528</td>\n",
       "      <td>0.118118</td>\n",
       "      <td>0.202044</td>\n",
       "    </tr>\n",
       "    <tr>\n",
       "      <th>1</th>\n",
       "      <td>0.050939</td>\n",
       "      <td>0.558863</td>\n",
       "      <td>0.430774</td>\n",
       "      <td>0.459138</td>\n",
       "      <td>0.998153</td>\n",
       "    </tr>\n",
       "  </tbody>\n",
       "</table>\n",
       "</div>"
      ],
      "text/plain": [
       "          0         1         2         3         4\n",
       "0       654  0.157450  0.655528  0.118118  0.202044\n",
       "1  0.050939  0.558863  0.430774  0.459138  0.998153"
      ]
     },
     "execution_count": 125,
     "metadata": {},
     "output_type": "execute_result"
    }
   ],
   "source": [
    "newdf.head(2)"
   ]
  },
  {
   "cell_type": "code",
   "execution_count": 126,
   "id": "dfe8a7ac-a514-4bba-bcca-e252e0f7b2c4",
   "metadata": {},
   "outputs": [],
   "source": [
    "newdf.columns=list(\"ABCDE\")"
   ]
  },
  {
   "cell_type": "code",
   "execution_count": 127,
   "id": "ed2aeb11-213b-492b-8be8-a7ba231b3692",
   "metadata": {},
   "outputs": [
    {
     "data": {
      "text/html": [
       "<div>\n",
       "<style scoped>\n",
       "    .dataframe tbody tr th:only-of-type {\n",
       "        vertical-align: middle;\n",
       "    }\n",
       "\n",
       "    .dataframe tbody tr th {\n",
       "        vertical-align: top;\n",
       "    }\n",
       "\n",
       "    .dataframe thead th {\n",
       "        text-align: right;\n",
       "    }\n",
       "</style>\n",
       "<table border=\"1\" class=\"dataframe\">\n",
       "  <thead>\n",
       "    <tr style=\"text-align: right;\">\n",
       "      <th></th>\n",
       "      <th>A</th>\n",
       "      <th>B</th>\n",
       "      <th>C</th>\n",
       "      <th>D</th>\n",
       "      <th>E</th>\n",
       "    </tr>\n",
       "  </thead>\n",
       "  <tbody>\n",
       "    <tr>\n",
       "      <th>0</th>\n",
       "      <td>654</td>\n",
       "      <td>0.157450</td>\n",
       "      <td>0.655528</td>\n",
       "      <td>0.118118</td>\n",
       "      <td>0.202044</td>\n",
       "    </tr>\n",
       "    <tr>\n",
       "      <th>1</th>\n",
       "      <td>0.050939</td>\n",
       "      <td>0.558863</td>\n",
       "      <td>0.430774</td>\n",
       "      <td>0.459138</td>\n",
       "      <td>0.998153</td>\n",
       "    </tr>\n",
       "    <tr>\n",
       "      <th>2</th>\n",
       "      <td>0.942839</td>\n",
       "      <td>0.862690</td>\n",
       "      <td>0.595492</td>\n",
       "      <td>0.491221</td>\n",
       "      <td>0.396037</td>\n",
       "    </tr>\n",
       "    <tr>\n",
       "      <th>3</th>\n",
       "      <td>0.934001</td>\n",
       "      <td>0.372846</td>\n",
       "      <td>0.223908</td>\n",
       "      <td>0.331091</td>\n",
       "      <td>0.765693</td>\n",
       "    </tr>\n",
       "    <tr>\n",
       "      <th>4</th>\n",
       "      <td>0.120901</td>\n",
       "      <td>0.531177</td>\n",
       "      <td>0.839910</td>\n",
       "      <td>0.177574</td>\n",
       "      <td>0.456581</td>\n",
       "    </tr>\n",
       "    <tr>\n",
       "      <th>...</th>\n",
       "      <td>...</td>\n",
       "      <td>...</td>\n",
       "      <td>...</td>\n",
       "      <td>...</td>\n",
       "      <td>...</td>\n",
       "    </tr>\n",
       "    <tr>\n",
       "      <th>329</th>\n",
       "      <td>0.36404</td>\n",
       "      <td>0.546887</td>\n",
       "      <td>0.703670</td>\n",
       "      <td>0.394201</td>\n",
       "      <td>0.072596</td>\n",
       "    </tr>\n",
       "    <tr>\n",
       "      <th>330</th>\n",
       "      <td>0.65881</td>\n",
       "      <td>0.967434</td>\n",
       "      <td>0.970565</td>\n",
       "      <td>0.593643</td>\n",
       "      <td>0.147058</td>\n",
       "    </tr>\n",
       "    <tr>\n",
       "      <th>331</th>\n",
       "      <td>0.503637</td>\n",
       "      <td>0.530138</td>\n",
       "      <td>0.245880</td>\n",
       "      <td>0.835877</td>\n",
       "      <td>0.812134</td>\n",
       "    </tr>\n",
       "    <tr>\n",
       "      <th>332</th>\n",
       "      <td>0.448307</td>\n",
       "      <td>0.772018</td>\n",
       "      <td>0.834457</td>\n",
       "      <td>0.870341</td>\n",
       "      <td>0.027131</td>\n",
       "    </tr>\n",
       "    <tr>\n",
       "      <th>333</th>\n",
       "      <td>0.815868</td>\n",
       "      <td>0.630754</td>\n",
       "      <td>0.776159</td>\n",
       "      <td>0.749610</td>\n",
       "      <td>0.321107</td>\n",
       "    </tr>\n",
       "  </tbody>\n",
       "</table>\n",
       "<p>334 rows × 5 columns</p>\n",
       "</div>"
      ],
      "text/plain": [
       "            A         B         C         D         E\n",
       "0         654  0.157450  0.655528  0.118118  0.202044\n",
       "1    0.050939  0.558863  0.430774  0.459138  0.998153\n",
       "2    0.942839  0.862690  0.595492  0.491221  0.396037\n",
       "3    0.934001  0.372846  0.223908  0.331091  0.765693\n",
       "4    0.120901  0.531177  0.839910  0.177574  0.456581\n",
       "..        ...       ...       ...       ...       ...\n",
       "329   0.36404  0.546887  0.703670  0.394201  0.072596\n",
       "330   0.65881  0.967434  0.970565  0.593643  0.147058\n",
       "331  0.503637  0.530138  0.245880  0.835877  0.812134\n",
       "332  0.448307  0.772018  0.834457  0.870341  0.027131\n",
       "333  0.815868  0.630754  0.776159  0.749610  0.321107\n",
       "\n",
       "[334 rows x 5 columns]"
      ]
     },
     "execution_count": 127,
     "metadata": {},
     "output_type": "execute_result"
    }
   ],
   "source": [
    "newdf"
   ]
  },
  {
   "cell_type": "code",
   "execution_count": 128,
   "id": "075e3822-f1cc-4778-a412-c3f457912008",
   "metadata": {},
   "outputs": [
    {
     "data": {
      "text/html": [
       "<div>\n",
       "<style scoped>\n",
       "    .dataframe tbody tr th:only-of-type {\n",
       "        vertical-align: middle;\n",
       "    }\n",
       "\n",
       "    .dataframe tbody tr th {\n",
       "        vertical-align: top;\n",
       "    }\n",
       "\n",
       "    .dataframe thead th {\n",
       "        text-align: right;\n",
       "    }\n",
       "</style>\n",
       "<table border=\"1\" class=\"dataframe\">\n",
       "  <thead>\n",
       "    <tr style=\"text-align: right;\">\n",
       "      <th></th>\n",
       "      <th>A</th>\n",
       "      <th>B</th>\n",
       "      <th>C</th>\n",
       "      <th>D</th>\n",
       "      <th>E</th>\n",
       "    </tr>\n",
       "  </thead>\n",
       "  <tbody>\n",
       "    <tr>\n",
       "      <th>0</th>\n",
       "      <td>654</td>\n",
       "      <td>0.157450</td>\n",
       "      <td>0.655528</td>\n",
       "      <td>0.118118</td>\n",
       "      <td>0.202044</td>\n",
       "    </tr>\n",
       "    <tr>\n",
       "      <th>1</th>\n",
       "      <td>0.050939</td>\n",
       "      <td>0.558863</td>\n",
       "      <td>0.430774</td>\n",
       "      <td>0.459138</td>\n",
       "      <td>0.998153</td>\n",
       "    </tr>\n",
       "  </tbody>\n",
       "</table>\n",
       "</div>"
      ],
      "text/plain": [
       "          A         B         C         D         E\n",
       "0       654  0.157450  0.655528  0.118118  0.202044\n",
       "1  0.050939  0.558863  0.430774  0.459138  0.998153"
      ]
     },
     "execution_count": 128,
     "metadata": {},
     "output_type": "execute_result"
    }
   ],
   "source": [
    "newdf.head(2)"
   ]
  },
  {
   "cell_type": "code",
   "execution_count": 129,
   "id": "8f46f385-4221-446b-904e-1399711ce92e",
   "metadata": {},
   "outputs": [],
   "source": [
    "newdf.loc[0,0]=654"
   ]
  },
  {
   "cell_type": "code",
   "execution_count": 130,
   "id": "bee05f67-0b0a-4ef8-8ece-5ff4dc2078f4",
   "metadata": {},
   "outputs": [
    {
     "data": {
      "text/html": [
       "<div>\n",
       "<style scoped>\n",
       "    .dataframe tbody tr th:only-of-type {\n",
       "        vertical-align: middle;\n",
       "    }\n",
       "\n",
       "    .dataframe tbody tr th {\n",
       "        vertical-align: top;\n",
       "    }\n",
       "\n",
       "    .dataframe thead th {\n",
       "        text-align: right;\n",
       "    }\n",
       "</style>\n",
       "<table border=\"1\" class=\"dataframe\">\n",
       "  <thead>\n",
       "    <tr style=\"text-align: right;\">\n",
       "      <th></th>\n",
       "      <th>A</th>\n",
       "      <th>B</th>\n",
       "      <th>C</th>\n",
       "      <th>D</th>\n",
       "      <th>E</th>\n",
       "      <th>0</th>\n",
       "    </tr>\n",
       "  </thead>\n",
       "  <tbody>\n",
       "    <tr>\n",
       "      <th>0</th>\n",
       "      <td>654</td>\n",
       "      <td>0.157450</td>\n",
       "      <td>0.655528</td>\n",
       "      <td>0.118118</td>\n",
       "      <td>0.202044</td>\n",
       "      <td>654.0</td>\n",
       "    </tr>\n",
       "    <tr>\n",
       "      <th>1</th>\n",
       "      <td>0.050939</td>\n",
       "      <td>0.558863</td>\n",
       "      <td>0.430774</td>\n",
       "      <td>0.459138</td>\n",
       "      <td>0.998153</td>\n",
       "      <td>NaN</td>\n",
       "    </tr>\n",
       "    <tr>\n",
       "      <th>2</th>\n",
       "      <td>0.942839</td>\n",
       "      <td>0.862690</td>\n",
       "      <td>0.595492</td>\n",
       "      <td>0.491221</td>\n",
       "      <td>0.396037</td>\n",
       "      <td>NaN</td>\n",
       "    </tr>\n",
       "    <tr>\n",
       "      <th>3</th>\n",
       "      <td>0.934001</td>\n",
       "      <td>0.372846</td>\n",
       "      <td>0.223908</td>\n",
       "      <td>0.331091</td>\n",
       "      <td>0.765693</td>\n",
       "      <td>NaN</td>\n",
       "    </tr>\n",
       "    <tr>\n",
       "      <th>4</th>\n",
       "      <td>0.120901</td>\n",
       "      <td>0.531177</td>\n",
       "      <td>0.839910</td>\n",
       "      <td>0.177574</td>\n",
       "      <td>0.456581</td>\n",
       "      <td>NaN</td>\n",
       "    </tr>\n",
       "    <tr>\n",
       "      <th>...</th>\n",
       "      <td>...</td>\n",
       "      <td>...</td>\n",
       "      <td>...</td>\n",
       "      <td>...</td>\n",
       "      <td>...</td>\n",
       "      <td>...</td>\n",
       "    </tr>\n",
       "    <tr>\n",
       "      <th>329</th>\n",
       "      <td>0.36404</td>\n",
       "      <td>0.546887</td>\n",
       "      <td>0.703670</td>\n",
       "      <td>0.394201</td>\n",
       "      <td>0.072596</td>\n",
       "      <td>NaN</td>\n",
       "    </tr>\n",
       "    <tr>\n",
       "      <th>330</th>\n",
       "      <td>0.65881</td>\n",
       "      <td>0.967434</td>\n",
       "      <td>0.970565</td>\n",
       "      <td>0.593643</td>\n",
       "      <td>0.147058</td>\n",
       "      <td>NaN</td>\n",
       "    </tr>\n",
       "    <tr>\n",
       "      <th>331</th>\n",
       "      <td>0.503637</td>\n",
       "      <td>0.530138</td>\n",
       "      <td>0.245880</td>\n",
       "      <td>0.835877</td>\n",
       "      <td>0.812134</td>\n",
       "      <td>NaN</td>\n",
       "    </tr>\n",
       "    <tr>\n",
       "      <th>332</th>\n",
       "      <td>0.448307</td>\n",
       "      <td>0.772018</td>\n",
       "      <td>0.834457</td>\n",
       "      <td>0.870341</td>\n",
       "      <td>0.027131</td>\n",
       "      <td>NaN</td>\n",
       "    </tr>\n",
       "    <tr>\n",
       "      <th>333</th>\n",
       "      <td>0.815868</td>\n",
       "      <td>0.630754</td>\n",
       "      <td>0.776159</td>\n",
       "      <td>0.749610</td>\n",
       "      <td>0.321107</td>\n",
       "      <td>NaN</td>\n",
       "    </tr>\n",
       "  </tbody>\n",
       "</table>\n",
       "<p>334 rows × 6 columns</p>\n",
       "</div>"
      ],
      "text/plain": [
       "            A         B         C         D         E      0\n",
       "0         654  0.157450  0.655528  0.118118  0.202044  654.0\n",
       "1    0.050939  0.558863  0.430774  0.459138  0.998153    NaN\n",
       "2    0.942839  0.862690  0.595492  0.491221  0.396037    NaN\n",
       "3    0.934001  0.372846  0.223908  0.331091  0.765693    NaN\n",
       "4    0.120901  0.531177  0.839910  0.177574  0.456581    NaN\n",
       "..        ...       ...       ...       ...       ...    ...\n",
       "329   0.36404  0.546887  0.703670  0.394201  0.072596    NaN\n",
       "330   0.65881  0.967434  0.970565  0.593643  0.147058    NaN\n",
       "331  0.503637  0.530138  0.245880  0.835877  0.812134    NaN\n",
       "332  0.448307  0.772018  0.834457  0.870341  0.027131    NaN\n",
       "333  0.815868  0.630754  0.776159  0.749610  0.321107    NaN\n",
       "\n",
       "[334 rows x 6 columns]"
      ]
     },
     "execution_count": 130,
     "metadata": {},
     "output_type": "execute_result"
    }
   ],
   "source": [
    "newdf"
   ]
  },
  {
   "cell_type": "code",
   "execution_count": 131,
   "id": "c0cc24e1-3e13-414d-a45e-c652d64a4cc1",
   "metadata": {},
   "outputs": [],
   "source": [
    "newdf[0,'A']=65445"
   ]
  },
  {
   "cell_type": "code",
   "execution_count": 132,
   "id": "bdfce082-0be4-4b18-a39d-b2bdbbd460d3",
   "metadata": {},
   "outputs": [
    {
     "data": {
      "text/html": [
       "<div>\n",
       "<style scoped>\n",
       "    .dataframe tbody tr th:only-of-type {\n",
       "        vertical-align: middle;\n",
       "    }\n",
       "\n",
       "    .dataframe tbody tr th {\n",
       "        vertical-align: top;\n",
       "    }\n",
       "\n",
       "    .dataframe thead th {\n",
       "        text-align: right;\n",
       "    }\n",
       "</style>\n",
       "<table border=\"1\" class=\"dataframe\">\n",
       "  <thead>\n",
       "    <tr style=\"text-align: right;\">\n",
       "      <th></th>\n",
       "      <th>A</th>\n",
       "      <th>B</th>\n",
       "      <th>C</th>\n",
       "      <th>D</th>\n",
       "      <th>E</th>\n",
       "      <th>0</th>\n",
       "      <th>(0, A)</th>\n",
       "    </tr>\n",
       "  </thead>\n",
       "  <tbody>\n",
       "    <tr>\n",
       "      <th>0</th>\n",
       "      <td>654</td>\n",
       "      <td>0.157450</td>\n",
       "      <td>0.655528</td>\n",
       "      <td>0.118118</td>\n",
       "      <td>0.202044</td>\n",
       "      <td>654.0</td>\n",
       "      <td>65445</td>\n",
       "    </tr>\n",
       "    <tr>\n",
       "      <th>1</th>\n",
       "      <td>0.050939</td>\n",
       "      <td>0.558863</td>\n",
       "      <td>0.430774</td>\n",
       "      <td>0.459138</td>\n",
       "      <td>0.998153</td>\n",
       "      <td>NaN</td>\n",
       "      <td>65445</td>\n",
       "    </tr>\n",
       "    <tr>\n",
       "      <th>2</th>\n",
       "      <td>0.942839</td>\n",
       "      <td>0.862690</td>\n",
       "      <td>0.595492</td>\n",
       "      <td>0.491221</td>\n",
       "      <td>0.396037</td>\n",
       "      <td>NaN</td>\n",
       "      <td>65445</td>\n",
       "    </tr>\n",
       "    <tr>\n",
       "      <th>3</th>\n",
       "      <td>0.934001</td>\n",
       "      <td>0.372846</td>\n",
       "      <td>0.223908</td>\n",
       "      <td>0.331091</td>\n",
       "      <td>0.765693</td>\n",
       "      <td>NaN</td>\n",
       "      <td>65445</td>\n",
       "    </tr>\n",
       "    <tr>\n",
       "      <th>4</th>\n",
       "      <td>0.120901</td>\n",
       "      <td>0.531177</td>\n",
       "      <td>0.839910</td>\n",
       "      <td>0.177574</td>\n",
       "      <td>0.456581</td>\n",
       "      <td>NaN</td>\n",
       "      <td>65445</td>\n",
       "    </tr>\n",
       "    <tr>\n",
       "      <th>...</th>\n",
       "      <td>...</td>\n",
       "      <td>...</td>\n",
       "      <td>...</td>\n",
       "      <td>...</td>\n",
       "      <td>...</td>\n",
       "      <td>...</td>\n",
       "      <td>...</td>\n",
       "    </tr>\n",
       "    <tr>\n",
       "      <th>329</th>\n",
       "      <td>0.36404</td>\n",
       "      <td>0.546887</td>\n",
       "      <td>0.703670</td>\n",
       "      <td>0.394201</td>\n",
       "      <td>0.072596</td>\n",
       "      <td>NaN</td>\n",
       "      <td>65445</td>\n",
       "    </tr>\n",
       "    <tr>\n",
       "      <th>330</th>\n",
       "      <td>0.65881</td>\n",
       "      <td>0.967434</td>\n",
       "      <td>0.970565</td>\n",
       "      <td>0.593643</td>\n",
       "      <td>0.147058</td>\n",
       "      <td>NaN</td>\n",
       "      <td>65445</td>\n",
       "    </tr>\n",
       "    <tr>\n",
       "      <th>331</th>\n",
       "      <td>0.503637</td>\n",
       "      <td>0.530138</td>\n",
       "      <td>0.245880</td>\n",
       "      <td>0.835877</td>\n",
       "      <td>0.812134</td>\n",
       "      <td>NaN</td>\n",
       "      <td>65445</td>\n",
       "    </tr>\n",
       "    <tr>\n",
       "      <th>332</th>\n",
       "      <td>0.448307</td>\n",
       "      <td>0.772018</td>\n",
       "      <td>0.834457</td>\n",
       "      <td>0.870341</td>\n",
       "      <td>0.027131</td>\n",
       "      <td>NaN</td>\n",
       "      <td>65445</td>\n",
       "    </tr>\n",
       "    <tr>\n",
       "      <th>333</th>\n",
       "      <td>0.815868</td>\n",
       "      <td>0.630754</td>\n",
       "      <td>0.776159</td>\n",
       "      <td>0.749610</td>\n",
       "      <td>0.321107</td>\n",
       "      <td>NaN</td>\n",
       "      <td>65445</td>\n",
       "    </tr>\n",
       "  </tbody>\n",
       "</table>\n",
       "<p>334 rows × 7 columns</p>\n",
       "</div>"
      ],
      "text/plain": [
       "            A         B         C         D         E      0  (0, A)\n",
       "0         654  0.157450  0.655528  0.118118  0.202044  654.0   65445\n",
       "1    0.050939  0.558863  0.430774  0.459138  0.998153    NaN   65445\n",
       "2    0.942839  0.862690  0.595492  0.491221  0.396037    NaN   65445\n",
       "3    0.934001  0.372846  0.223908  0.331091  0.765693    NaN   65445\n",
       "4    0.120901  0.531177  0.839910  0.177574  0.456581    NaN   65445\n",
       "..        ...       ...       ...       ...       ...    ...     ...\n",
       "329   0.36404  0.546887  0.703670  0.394201  0.072596    NaN   65445\n",
       "330   0.65881  0.967434  0.970565  0.593643  0.147058    NaN   65445\n",
       "331  0.503637  0.530138  0.245880  0.835877  0.812134    NaN   65445\n",
       "332  0.448307  0.772018  0.834457  0.870341  0.027131    NaN   65445\n",
       "333  0.815868  0.630754  0.776159  0.749610  0.321107    NaN   65445\n",
       "\n",
       "[334 rows x 7 columns]"
      ]
     },
     "execution_count": 132,
     "metadata": {},
     "output_type": "execute_result"
    }
   ],
   "source": [
    "newdf"
   ]
  },
  {
   "cell_type": "code",
   "execution_count": 133,
   "id": "7e7d0755-7e5e-43c3-b6b1-543633b5a7e2",
   "metadata": {},
   "outputs": [],
   "source": [
    "newdf=newdf.drop(0, axis=1)"
   ]
  },
  {
   "cell_type": "code",
   "execution_count": 134,
   "id": "d4cfef93-8942-486a-8a56-75daeabb4e62",
   "metadata": {},
   "outputs": [
    {
     "data": {
      "text/html": [
       "<div>\n",
       "<style scoped>\n",
       "    .dataframe tbody tr th:only-of-type {\n",
       "        vertical-align: middle;\n",
       "    }\n",
       "\n",
       "    .dataframe tbody tr th {\n",
       "        vertical-align: top;\n",
       "    }\n",
       "\n",
       "    .dataframe thead th {\n",
       "        text-align: right;\n",
       "    }\n",
       "</style>\n",
       "<table border=\"1\" class=\"dataframe\">\n",
       "  <thead>\n",
       "    <tr style=\"text-align: right;\">\n",
       "      <th></th>\n",
       "      <th>A</th>\n",
       "      <th>B</th>\n",
       "      <th>C</th>\n",
       "      <th>D</th>\n",
       "      <th>E</th>\n",
       "      <th>(0, A)</th>\n",
       "    </tr>\n",
       "  </thead>\n",
       "  <tbody>\n",
       "    <tr>\n",
       "      <th>0</th>\n",
       "      <td>654</td>\n",
       "      <td>0.157450</td>\n",
       "      <td>0.655528</td>\n",
       "      <td>0.118118</td>\n",
       "      <td>0.202044</td>\n",
       "      <td>65445</td>\n",
       "    </tr>\n",
       "    <tr>\n",
       "      <th>1</th>\n",
       "      <td>0.050939</td>\n",
       "      <td>0.558863</td>\n",
       "      <td>0.430774</td>\n",
       "      <td>0.459138</td>\n",
       "      <td>0.998153</td>\n",
       "      <td>65445</td>\n",
       "    </tr>\n",
       "    <tr>\n",
       "      <th>2</th>\n",
       "      <td>0.942839</td>\n",
       "      <td>0.862690</td>\n",
       "      <td>0.595492</td>\n",
       "      <td>0.491221</td>\n",
       "      <td>0.396037</td>\n",
       "      <td>65445</td>\n",
       "    </tr>\n",
       "    <tr>\n",
       "      <th>3</th>\n",
       "      <td>0.934001</td>\n",
       "      <td>0.372846</td>\n",
       "      <td>0.223908</td>\n",
       "      <td>0.331091</td>\n",
       "      <td>0.765693</td>\n",
       "      <td>65445</td>\n",
       "    </tr>\n",
       "    <tr>\n",
       "      <th>4</th>\n",
       "      <td>0.120901</td>\n",
       "      <td>0.531177</td>\n",
       "      <td>0.839910</td>\n",
       "      <td>0.177574</td>\n",
       "      <td>0.456581</td>\n",
       "      <td>65445</td>\n",
       "    </tr>\n",
       "  </tbody>\n",
       "</table>\n",
       "</div>"
      ],
      "text/plain": [
       "          A         B         C         D         E  (0, A)\n",
       "0       654  0.157450  0.655528  0.118118  0.202044   65445\n",
       "1  0.050939  0.558863  0.430774  0.459138  0.998153   65445\n",
       "2  0.942839  0.862690  0.595492  0.491221  0.396037   65445\n",
       "3  0.934001  0.372846  0.223908  0.331091  0.765693   65445\n",
       "4  0.120901  0.531177  0.839910  0.177574  0.456581   65445"
      ]
     },
     "execution_count": 134,
     "metadata": {},
     "output_type": "execute_result"
    }
   ],
   "source": [
    "newdf.head()"
   ]
  },
  {
   "cell_type": "code",
   "execution_count": 135,
   "id": "8abf2ec4-c4ff-4978-b462-9fb5e4c10d72",
   "metadata": {},
   "outputs": [
    {
     "data": {
      "text/html": [
       "<div>\n",
       "<style scoped>\n",
       "    .dataframe tbody tr th:only-of-type {\n",
       "        vertical-align: middle;\n",
       "    }\n",
       "\n",
       "    .dataframe tbody tr th {\n",
       "        vertical-align: top;\n",
       "    }\n",
       "\n",
       "    .dataframe thead th {\n",
       "        text-align: right;\n",
       "    }\n",
       "</style>\n",
       "<table border=\"1\" class=\"dataframe\">\n",
       "  <thead>\n",
       "    <tr style=\"text-align: right;\">\n",
       "      <th></th>\n",
       "      <th>C</th>\n",
       "      <th>D</th>\n",
       "    </tr>\n",
       "  </thead>\n",
       "  <tbody>\n",
       "    <tr>\n",
       "      <th>1</th>\n",
       "      <td>0.430774</td>\n",
       "      <td>0.459138</td>\n",
       "    </tr>\n",
       "    <tr>\n",
       "      <th>2</th>\n",
       "      <td>0.595492</td>\n",
       "      <td>0.491221</td>\n",
       "    </tr>\n",
       "  </tbody>\n",
       "</table>\n",
       "</div>"
      ],
      "text/plain": [
       "          C         D\n",
       "1  0.430774  0.459138\n",
       "2  0.595492  0.491221"
      ]
     },
     "execution_count": 135,
     "metadata": {},
     "output_type": "execute_result"
    }
   ],
   "source": [
    "newdf.loc[[1,2],['C','D']]"
   ]
  },
  {
   "cell_type": "code",
   "execution_count": 136,
   "id": "5f69ada2-6b0c-44b2-b877-d8f0838ef242",
   "metadata": {},
   "outputs": [
    {
     "data": {
      "text/html": [
       "<div>\n",
       "<style scoped>\n",
       "    .dataframe tbody tr th:only-of-type {\n",
       "        vertical-align: middle;\n",
       "    }\n",
       "\n",
       "    .dataframe tbody tr th {\n",
       "        vertical-align: top;\n",
       "    }\n",
       "\n",
       "    .dataframe thead th {\n",
       "        text-align: right;\n",
       "    }\n",
       "</style>\n",
       "<table border=\"1\" class=\"dataframe\">\n",
       "  <thead>\n",
       "    <tr style=\"text-align: right;\">\n",
       "      <th></th>\n",
       "      <th>C</th>\n",
       "      <th>D</th>\n",
       "    </tr>\n",
       "  </thead>\n",
       "  <tbody>\n",
       "    <tr>\n",
       "      <th>0</th>\n",
       "      <td>0.655528</td>\n",
       "      <td>0.118118</td>\n",
       "    </tr>\n",
       "    <tr>\n",
       "      <th>1</th>\n",
       "      <td>0.430774</td>\n",
       "      <td>0.459138</td>\n",
       "    </tr>\n",
       "    <tr>\n",
       "      <th>2</th>\n",
       "      <td>0.595492</td>\n",
       "      <td>0.491221</td>\n",
       "    </tr>\n",
       "    <tr>\n",
       "      <th>3</th>\n",
       "      <td>0.223908</td>\n",
       "      <td>0.331091</td>\n",
       "    </tr>\n",
       "    <tr>\n",
       "      <th>4</th>\n",
       "      <td>0.839910</td>\n",
       "      <td>0.177574</td>\n",
       "    </tr>\n",
       "    <tr>\n",
       "      <th>...</th>\n",
       "      <td>...</td>\n",
       "      <td>...</td>\n",
       "    </tr>\n",
       "    <tr>\n",
       "      <th>329</th>\n",
       "      <td>0.703670</td>\n",
       "      <td>0.394201</td>\n",
       "    </tr>\n",
       "    <tr>\n",
       "      <th>330</th>\n",
       "      <td>0.970565</td>\n",
       "      <td>0.593643</td>\n",
       "    </tr>\n",
       "    <tr>\n",
       "      <th>331</th>\n",
       "      <td>0.245880</td>\n",
       "      <td>0.835877</td>\n",
       "    </tr>\n",
       "    <tr>\n",
       "      <th>332</th>\n",
       "      <td>0.834457</td>\n",
       "      <td>0.870341</td>\n",
       "    </tr>\n",
       "    <tr>\n",
       "      <th>333</th>\n",
       "      <td>0.776159</td>\n",
       "      <td>0.749610</td>\n",
       "    </tr>\n",
       "  </tbody>\n",
       "</table>\n",
       "<p>334 rows × 2 columns</p>\n",
       "</div>"
      ],
      "text/plain": [
       "            C         D\n",
       "0    0.655528  0.118118\n",
       "1    0.430774  0.459138\n",
       "2    0.595492  0.491221\n",
       "3    0.223908  0.331091\n",
       "4    0.839910  0.177574\n",
       "..        ...       ...\n",
       "329  0.703670  0.394201\n",
       "330  0.970565  0.593643\n",
       "331  0.245880  0.835877\n",
       "332  0.834457  0.870341\n",
       "333  0.776159  0.749610\n",
       "\n",
       "[334 rows x 2 columns]"
      ]
     },
     "execution_count": 136,
     "metadata": {},
     "output_type": "execute_result"
    }
   ],
   "source": [
    "newdf.loc[:,['C','D']]"
   ]
  },
  {
   "cell_type": "code",
   "execution_count": 137,
   "id": "4c3b1483-ed4b-4bbc-9bfb-d32c40949acf",
   "metadata": {},
   "outputs": [
    {
     "data": {
      "text/html": [
       "<div>\n",
       "<style scoped>\n",
       "    .dataframe tbody tr th:only-of-type {\n",
       "        vertical-align: middle;\n",
       "    }\n",
       "\n",
       "    .dataframe tbody tr th {\n",
       "        vertical-align: top;\n",
       "    }\n",
       "\n",
       "    .dataframe thead th {\n",
       "        text-align: right;\n",
       "    }\n",
       "</style>\n",
       "<table border=\"1\" class=\"dataframe\">\n",
       "  <thead>\n",
       "    <tr style=\"text-align: right;\">\n",
       "      <th></th>\n",
       "      <th>A</th>\n",
       "      <th>B</th>\n",
       "      <th>C</th>\n",
       "      <th>D</th>\n",
       "      <th>E</th>\n",
       "      <th>(0, A)</th>\n",
       "    </tr>\n",
       "  </thead>\n",
       "  <tbody>\n",
       "    <tr>\n",
       "      <th>1</th>\n",
       "      <td>0.050939</td>\n",
       "      <td>0.558863</td>\n",
       "      <td>0.430774</td>\n",
       "      <td>0.459138</td>\n",
       "      <td>0.998153</td>\n",
       "      <td>65445</td>\n",
       "    </tr>\n",
       "    <tr>\n",
       "      <th>2</th>\n",
       "      <td>0.942839</td>\n",
       "      <td>0.862690</td>\n",
       "      <td>0.595492</td>\n",
       "      <td>0.491221</td>\n",
       "      <td>0.396037</td>\n",
       "      <td>65445</td>\n",
       "    </tr>\n",
       "  </tbody>\n",
       "</table>\n",
       "</div>"
      ],
      "text/plain": [
       "          A         B         C         D         E  (0, A)\n",
       "1  0.050939  0.558863  0.430774  0.459138  0.998153   65445\n",
       "2  0.942839  0.862690  0.595492  0.491221  0.396037   65445"
      ]
     },
     "execution_count": 137,
     "metadata": {},
     "output_type": "execute_result"
    }
   ],
   "source": [
    "newdf.loc[[1,2],:]"
   ]
  },
  {
   "cell_type": "code",
   "execution_count": 138,
   "id": "4a449132-a268-41d1-820b-608fc8ca0c12",
   "metadata": {},
   "outputs": [
    {
     "data": {
      "text/html": [
       "<div>\n",
       "<style scoped>\n",
       "    .dataframe tbody tr th:only-of-type {\n",
       "        vertical-align: middle;\n",
       "    }\n",
       "\n",
       "    .dataframe tbody tr th {\n",
       "        vertical-align: top;\n",
       "    }\n",
       "\n",
       "    .dataframe thead th {\n",
       "        text-align: right;\n",
       "    }\n",
       "</style>\n",
       "<table border=\"1\" class=\"dataframe\">\n",
       "  <thead>\n",
       "    <tr style=\"text-align: right;\">\n",
       "      <th></th>\n",
       "      <th>A</th>\n",
       "      <th>B</th>\n",
       "      <th>C</th>\n",
       "      <th>D</th>\n",
       "      <th>E</th>\n",
       "      <th>(0, A)</th>\n",
       "    </tr>\n",
       "  </thead>\n",
       "  <tbody>\n",
       "    <tr>\n",
       "      <th>1</th>\n",
       "      <td>0.050939</td>\n",
       "      <td>0.558863</td>\n",
       "      <td>0.430774</td>\n",
       "      <td>0.459138</td>\n",
       "      <td>0.998153</td>\n",
       "      <td>65445</td>\n",
       "    </tr>\n",
       "    <tr>\n",
       "      <th>4</th>\n",
       "      <td>0.120901</td>\n",
       "      <td>0.531177</td>\n",
       "      <td>0.839910</td>\n",
       "      <td>0.177574</td>\n",
       "      <td>0.456581</td>\n",
       "      <td>65445</td>\n",
       "    </tr>\n",
       "    <tr>\n",
       "      <th>7</th>\n",
       "      <td>0.289132</td>\n",
       "      <td>0.960992</td>\n",
       "      <td>0.632041</td>\n",
       "      <td>0.680106</td>\n",
       "      <td>0.947635</td>\n",
       "      <td>65445</td>\n",
       "    </tr>\n",
       "    <tr>\n",
       "      <th>8</th>\n",
       "      <td>0.184082</td>\n",
       "      <td>0.650667</td>\n",
       "      <td>0.215937</td>\n",
       "      <td>0.364781</td>\n",
       "      <td>0.837905</td>\n",
       "      <td>65445</td>\n",
       "    </tr>\n",
       "    <tr>\n",
       "      <th>9</th>\n",
       "      <td>0.293996</td>\n",
       "      <td>0.430210</td>\n",
       "      <td>0.619000</td>\n",
       "      <td>0.048932</td>\n",
       "      <td>0.919314</td>\n",
       "      <td>65445</td>\n",
       "    </tr>\n",
       "    <tr>\n",
       "      <th>...</th>\n",
       "      <td>...</td>\n",
       "      <td>...</td>\n",
       "      <td>...</td>\n",
       "      <td>...</td>\n",
       "      <td>...</td>\n",
       "      <td>...</td>\n",
       "    </tr>\n",
       "    <tr>\n",
       "      <th>315</th>\n",
       "      <td>0.144241</td>\n",
       "      <td>0.143910</td>\n",
       "      <td>0.279372</td>\n",
       "      <td>0.274690</td>\n",
       "      <td>0.754736</td>\n",
       "      <td>65445</td>\n",
       "    </tr>\n",
       "    <tr>\n",
       "      <th>316</th>\n",
       "      <td>0.200494</td>\n",
       "      <td>0.400461</td>\n",
       "      <td>0.805114</td>\n",
       "      <td>0.916718</td>\n",
       "      <td>0.055082</td>\n",
       "      <td>65445</td>\n",
       "    </tr>\n",
       "    <tr>\n",
       "      <th>324</th>\n",
       "      <td>0.040704</td>\n",
       "      <td>0.586490</td>\n",
       "      <td>0.019007</td>\n",
       "      <td>0.116188</td>\n",
       "      <td>0.910105</td>\n",
       "      <td>65445</td>\n",
       "    </tr>\n",
       "    <tr>\n",
       "      <th>326</th>\n",
       "      <td>0.210543</td>\n",
       "      <td>0.705190</td>\n",
       "      <td>0.604958</td>\n",
       "      <td>0.412952</td>\n",
       "      <td>0.660756</td>\n",
       "      <td>65445</td>\n",
       "    </tr>\n",
       "    <tr>\n",
       "      <th>327</th>\n",
       "      <td>0.068177</td>\n",
       "      <td>0.063170</td>\n",
       "      <td>0.063311</td>\n",
       "      <td>0.996703</td>\n",
       "      <td>0.176823</td>\n",
       "      <td>65445</td>\n",
       "    </tr>\n",
       "  </tbody>\n",
       "</table>\n",
       "<p>112 rows × 6 columns</p>\n",
       "</div>"
      ],
      "text/plain": [
       "            A         B         C         D         E  (0, A)\n",
       "1    0.050939  0.558863  0.430774  0.459138  0.998153   65445\n",
       "4    0.120901  0.531177  0.839910  0.177574  0.456581   65445\n",
       "7    0.289132  0.960992  0.632041  0.680106  0.947635   65445\n",
       "8    0.184082  0.650667  0.215937  0.364781  0.837905   65445\n",
       "9    0.293996  0.430210  0.619000  0.048932  0.919314   65445\n",
       "..        ...       ...       ...       ...       ...     ...\n",
       "315  0.144241  0.143910  0.279372  0.274690  0.754736   65445\n",
       "316  0.200494  0.400461  0.805114  0.916718  0.055082   65445\n",
       "324  0.040704  0.586490  0.019007  0.116188  0.910105   65445\n",
       "326  0.210543  0.705190  0.604958  0.412952  0.660756   65445\n",
       "327  0.068177  0.063170  0.063311  0.996703  0.176823   65445\n",
       "\n",
       "[112 rows x 6 columns]"
      ]
     },
     "execution_count": 138,
     "metadata": {},
     "output_type": "execute_result"
    }
   ],
   "source": [
    "newdf.loc[(newdf['A']<0.3)]"
   ]
  },
  {
   "cell_type": "code",
   "execution_count": 139,
   "id": "7182c99e-7ec7-40c5-a5a3-784b2c1ac533",
   "metadata": {},
   "outputs": [
    {
     "data": {
      "text/html": [
       "<div>\n",
       "<style scoped>\n",
       "    .dataframe tbody tr th:only-of-type {\n",
       "        vertical-align: middle;\n",
       "    }\n",
       "\n",
       "    .dataframe tbody tr th {\n",
       "        vertical-align: top;\n",
       "    }\n",
       "\n",
       "    .dataframe thead th {\n",
       "        text-align: right;\n",
       "    }\n",
       "</style>\n",
       "<table border=\"1\" class=\"dataframe\">\n",
       "  <thead>\n",
       "    <tr style=\"text-align: right;\">\n",
       "      <th></th>\n",
       "      <th>A</th>\n",
       "      <th>B</th>\n",
       "      <th>C</th>\n",
       "      <th>D</th>\n",
       "      <th>E</th>\n",
       "      <th>(0, A)</th>\n",
       "    </tr>\n",
       "  </thead>\n",
       "  <tbody>\n",
       "    <tr>\n",
       "      <th>1</th>\n",
       "      <td>0.050939</td>\n",
       "      <td>0.558863</td>\n",
       "      <td>0.430774</td>\n",
       "      <td>0.459138</td>\n",
       "      <td>0.998153</td>\n",
       "      <td>65445</td>\n",
       "    </tr>\n",
       "    <tr>\n",
       "      <th>4</th>\n",
       "      <td>0.120901</td>\n",
       "      <td>0.531177</td>\n",
       "      <td>0.839910</td>\n",
       "      <td>0.177574</td>\n",
       "      <td>0.456581</td>\n",
       "      <td>65445</td>\n",
       "    </tr>\n",
       "    <tr>\n",
       "      <th>7</th>\n",
       "      <td>0.289132</td>\n",
       "      <td>0.960992</td>\n",
       "      <td>0.632041</td>\n",
       "      <td>0.680106</td>\n",
       "      <td>0.947635</td>\n",
       "      <td>65445</td>\n",
       "    </tr>\n",
       "    <tr>\n",
       "      <th>8</th>\n",
       "      <td>0.184082</td>\n",
       "      <td>0.650667</td>\n",
       "      <td>0.215937</td>\n",
       "      <td>0.364781</td>\n",
       "      <td>0.837905</td>\n",
       "      <td>65445</td>\n",
       "    </tr>\n",
       "    <tr>\n",
       "      <th>9</th>\n",
       "      <td>0.293996</td>\n",
       "      <td>0.430210</td>\n",
       "      <td>0.619000</td>\n",
       "      <td>0.048932</td>\n",
       "      <td>0.919314</td>\n",
       "      <td>65445</td>\n",
       "    </tr>\n",
       "    <tr>\n",
       "      <th>...</th>\n",
       "      <td>...</td>\n",
       "      <td>...</td>\n",
       "      <td>...</td>\n",
       "      <td>...</td>\n",
       "      <td>...</td>\n",
       "      <td>...</td>\n",
       "    </tr>\n",
       "    <tr>\n",
       "      <th>307</th>\n",
       "      <td>0.028103</td>\n",
       "      <td>0.587089</td>\n",
       "      <td>0.953788</td>\n",
       "      <td>0.926097</td>\n",
       "      <td>0.434347</td>\n",
       "      <td>65445</td>\n",
       "    </tr>\n",
       "    <tr>\n",
       "      <th>311</th>\n",
       "      <td>0.272623</td>\n",
       "      <td>0.920480</td>\n",
       "      <td>0.455474</td>\n",
       "      <td>0.830442</td>\n",
       "      <td>0.140928</td>\n",
       "      <td>65445</td>\n",
       "    </tr>\n",
       "    <tr>\n",
       "      <th>315</th>\n",
       "      <td>0.144241</td>\n",
       "      <td>0.143910</td>\n",
       "      <td>0.279372</td>\n",
       "      <td>0.274690</td>\n",
       "      <td>0.754736</td>\n",
       "      <td>65445</td>\n",
       "    </tr>\n",
       "    <tr>\n",
       "      <th>316</th>\n",
       "      <td>0.200494</td>\n",
       "      <td>0.400461</td>\n",
       "      <td>0.805114</td>\n",
       "      <td>0.916718</td>\n",
       "      <td>0.055082</td>\n",
       "      <td>65445</td>\n",
       "    </tr>\n",
       "    <tr>\n",
       "      <th>326</th>\n",
       "      <td>0.210543</td>\n",
       "      <td>0.705190</td>\n",
       "      <td>0.604958</td>\n",
       "      <td>0.412952</td>\n",
       "      <td>0.660756</td>\n",
       "      <td>65445</td>\n",
       "    </tr>\n",
       "  </tbody>\n",
       "</table>\n",
       "<p>98 rows × 6 columns</p>\n",
       "</div>"
      ],
      "text/plain": [
       "            A         B         C         D         E  (0, A)\n",
       "1    0.050939  0.558863  0.430774  0.459138  0.998153   65445\n",
       "4    0.120901  0.531177  0.839910  0.177574  0.456581   65445\n",
       "7    0.289132  0.960992  0.632041  0.680106  0.947635   65445\n",
       "8    0.184082  0.650667  0.215937  0.364781  0.837905   65445\n",
       "9    0.293996  0.430210  0.619000  0.048932  0.919314   65445\n",
       "..        ...       ...       ...       ...       ...     ...\n",
       "307  0.028103  0.587089  0.953788  0.926097  0.434347   65445\n",
       "311  0.272623  0.920480  0.455474  0.830442  0.140928   65445\n",
       "315  0.144241  0.143910  0.279372  0.274690  0.754736   65445\n",
       "316  0.200494  0.400461  0.805114  0.916718  0.055082   65445\n",
       "326  0.210543  0.705190  0.604958  0.412952  0.660756   65445\n",
       "\n",
       "[98 rows x 6 columns]"
      ]
     },
     "execution_count": 139,
     "metadata": {},
     "output_type": "execute_result"
    }
   ],
   "source": [
    "newdf.loc[(newdf['A']<0.3) & (newdf['C']>0.1)]"
   ]
  },
  {
   "cell_type": "code",
   "execution_count": 140,
   "id": "1451ccbb-368f-4e5d-9007-51e5f846de9a",
   "metadata": {},
   "outputs": [
    {
     "data": {
      "text/html": [
       "<div>\n",
       "<style scoped>\n",
       "    .dataframe tbody tr th:only-of-type {\n",
       "        vertical-align: middle;\n",
       "    }\n",
       "\n",
       "    .dataframe tbody tr th {\n",
       "        vertical-align: top;\n",
       "    }\n",
       "\n",
       "    .dataframe thead th {\n",
       "        text-align: right;\n",
       "    }\n",
       "</style>\n",
       "<table border=\"1\" class=\"dataframe\">\n",
       "  <thead>\n",
       "    <tr style=\"text-align: right;\">\n",
       "      <th></th>\n",
       "      <th>A</th>\n",
       "      <th>B</th>\n",
       "      <th>C</th>\n",
       "      <th>D</th>\n",
       "      <th>E</th>\n",
       "      <th>(0, A)</th>\n",
       "    </tr>\n",
       "  </thead>\n",
       "  <tbody>\n",
       "    <tr>\n",
       "      <th>0</th>\n",
       "      <td>654</td>\n",
       "      <td>0.157450</td>\n",
       "      <td>0.655528</td>\n",
       "      <td>0.118118</td>\n",
       "      <td>0.202044</td>\n",
       "      <td>65445</td>\n",
       "    </tr>\n",
       "    <tr>\n",
       "      <th>1</th>\n",
       "      <td>0.050939</td>\n",
       "      <td>0.558863</td>\n",
       "      <td>0.430774</td>\n",
       "      <td>0.459138</td>\n",
       "      <td>0.998153</td>\n",
       "      <td>65445</td>\n",
       "    </tr>\n",
       "  </tbody>\n",
       "</table>\n",
       "</div>"
      ],
      "text/plain": [
       "          A         B         C         D         E  (0, A)\n",
       "0       654  0.157450  0.655528  0.118118  0.202044   65445\n",
       "1  0.050939  0.558863  0.430774  0.459138  0.998153   65445"
      ]
     },
     "execution_count": 140,
     "metadata": {},
     "output_type": "execute_result"
    }
   ],
   "source": [
    "newdf.head(2)"
   ]
  },
  {
   "cell_type": "code",
   "execution_count": 141,
   "id": "8a91b201-006a-4cf4-92c8-d3520603d567",
   "metadata": {},
   "outputs": [
    {
     "data": {
      "text/plain": [
       "np.float64(0.20204355555678055)"
      ]
     },
     "execution_count": 141,
     "metadata": {},
     "output_type": "execute_result"
    }
   ],
   "source": [
    "newdf.iloc[0,4]"
   ]
  },
  {
   "cell_type": "code",
   "execution_count": 142,
   "id": "cee1ba68-4a1b-4890-989a-7f9c56b68ce3",
   "metadata": {},
   "outputs": [
    {
     "data": {
      "text/html": [
       "<div>\n",
       "<style scoped>\n",
       "    .dataframe tbody tr th:only-of-type {\n",
       "        vertical-align: middle;\n",
       "    }\n",
       "\n",
       "    .dataframe tbody tr th {\n",
       "        vertical-align: top;\n",
       "    }\n",
       "\n",
       "    .dataframe thead th {\n",
       "        text-align: right;\n",
       "    }\n",
       "</style>\n",
       "<table border=\"1\" class=\"dataframe\">\n",
       "  <thead>\n",
       "    <tr style=\"text-align: right;\">\n",
       "      <th></th>\n",
       "      <th>B</th>\n",
       "      <th>C</th>\n",
       "    </tr>\n",
       "  </thead>\n",
       "  <tbody>\n",
       "    <tr>\n",
       "      <th>0</th>\n",
       "      <td>0.157450</td>\n",
       "      <td>0.655528</td>\n",
       "    </tr>\n",
       "    <tr>\n",
       "      <th>1</th>\n",
       "      <td>0.558863</td>\n",
       "      <td>0.430774</td>\n",
       "    </tr>\n",
       "  </tbody>\n",
       "</table>\n",
       "</div>"
      ],
      "text/plain": [
       "          B         C\n",
       "0  0.157450  0.655528\n",
       "1  0.558863  0.430774"
      ]
     },
     "execution_count": 142,
     "metadata": {},
     "output_type": "execute_result"
    }
   ],
   "source": [
    "newdf.iloc[[0,1],[1,2]]"
   ]
  },
  {
   "cell_type": "code",
   "execution_count": 143,
   "id": "c0332e62-642e-4ad3-8692-061610510554",
   "metadata": {},
   "outputs": [
    {
     "data": {
      "text/html": [
       "<div>\n",
       "<style scoped>\n",
       "    .dataframe tbody tr th:only-of-type {\n",
       "        vertical-align: middle;\n",
       "    }\n",
       "\n",
       "    .dataframe tbody tr th {\n",
       "        vertical-align: top;\n",
       "    }\n",
       "\n",
       "    .dataframe thead th {\n",
       "        text-align: right;\n",
       "    }\n",
       "</style>\n",
       "<table border=\"1\" class=\"dataframe\">\n",
       "  <thead>\n",
       "    <tr style=\"text-align: right;\">\n",
       "      <th></th>\n",
       "      <th>A</th>\n",
       "      <th>B</th>\n",
       "      <th>C</th>\n",
       "      <th>D</th>\n",
       "      <th>E</th>\n",
       "      <th>(0, A)</th>\n",
       "    </tr>\n",
       "  </thead>\n",
       "  <tbody>\n",
       "    <tr>\n",
       "      <th>0</th>\n",
       "      <td>654</td>\n",
       "      <td>0.157450</td>\n",
       "      <td>0.655528</td>\n",
       "      <td>0.118118</td>\n",
       "      <td>0.202044</td>\n",
       "      <td>65445</td>\n",
       "    </tr>\n",
       "    <tr>\n",
       "      <th>1</th>\n",
       "      <td>0.050939</td>\n",
       "      <td>0.558863</td>\n",
       "      <td>0.430774</td>\n",
       "      <td>0.459138</td>\n",
       "      <td>0.998153</td>\n",
       "      <td>65445</td>\n",
       "    </tr>\n",
       "    <tr>\n",
       "      <th>2</th>\n",
       "      <td>0.942839</td>\n",
       "      <td>0.862690</td>\n",
       "      <td>0.595492</td>\n",
       "      <td>0.491221</td>\n",
       "      <td>0.396037</td>\n",
       "      <td>65445</td>\n",
       "    </tr>\n",
       "  </tbody>\n",
       "</table>\n",
       "</div>"
      ],
      "text/plain": [
       "          A         B         C         D         E  (0, A)\n",
       "0       654  0.157450  0.655528  0.118118  0.202044   65445\n",
       "1  0.050939  0.558863  0.430774  0.459138  0.998153   65445\n",
       "2  0.942839  0.862690  0.595492  0.491221  0.396037   65445"
      ]
     },
     "execution_count": 143,
     "metadata": {},
     "output_type": "execute_result"
    }
   ],
   "source": [
    "newdf.head(3)"
   ]
  },
  {
   "cell_type": "code",
   "execution_count": 144,
   "id": "20ee4be2-6345-4a20-970b-1601f585cb48",
   "metadata": {},
   "outputs": [
    {
     "data": {
      "text/html": [
       "<div>\n",
       "<style scoped>\n",
       "    .dataframe tbody tr th:only-of-type {\n",
       "        vertical-align: middle;\n",
       "    }\n",
       "\n",
       "    .dataframe tbody tr th {\n",
       "        vertical-align: top;\n",
       "    }\n",
       "\n",
       "    .dataframe thead th {\n",
       "        text-align: right;\n",
       "    }\n",
       "</style>\n",
       "<table border=\"1\" class=\"dataframe\">\n",
       "  <thead>\n",
       "    <tr style=\"text-align: right;\">\n",
       "      <th></th>\n",
       "      <th>A</th>\n",
       "      <th>B</th>\n",
       "      <th>C</th>\n",
       "      <th>D</th>\n",
       "      <th>E</th>\n",
       "      <th>(0, A)</th>\n",
       "    </tr>\n",
       "  </thead>\n",
       "  <tbody>\n",
       "    <tr>\n",
       "      <th>1</th>\n",
       "      <td>0.050939</td>\n",
       "      <td>0.558863</td>\n",
       "      <td>0.430774</td>\n",
       "      <td>0.459138</td>\n",
       "      <td>0.998153</td>\n",
       "      <td>65445</td>\n",
       "    </tr>\n",
       "    <tr>\n",
       "      <th>2</th>\n",
       "      <td>0.942839</td>\n",
       "      <td>0.862690</td>\n",
       "      <td>0.595492</td>\n",
       "      <td>0.491221</td>\n",
       "      <td>0.396037</td>\n",
       "      <td>65445</td>\n",
       "    </tr>\n",
       "    <tr>\n",
       "      <th>3</th>\n",
       "      <td>0.934001</td>\n",
       "      <td>0.372846</td>\n",
       "      <td>0.223908</td>\n",
       "      <td>0.331091</td>\n",
       "      <td>0.765693</td>\n",
       "      <td>65445</td>\n",
       "    </tr>\n",
       "    <tr>\n",
       "      <th>4</th>\n",
       "      <td>0.120901</td>\n",
       "      <td>0.531177</td>\n",
       "      <td>0.839910</td>\n",
       "      <td>0.177574</td>\n",
       "      <td>0.456581</td>\n",
       "      <td>65445</td>\n",
       "    </tr>\n",
       "    <tr>\n",
       "      <th>5</th>\n",
       "      <td>0.343092</td>\n",
       "      <td>0.483345</td>\n",
       "      <td>0.335636</td>\n",
       "      <td>0.938445</td>\n",
       "      <td>0.252060</td>\n",
       "      <td>65445</td>\n",
       "    </tr>\n",
       "    <tr>\n",
       "      <th>...</th>\n",
       "      <td>...</td>\n",
       "      <td>...</td>\n",
       "      <td>...</td>\n",
       "      <td>...</td>\n",
       "      <td>...</td>\n",
       "      <td>...</td>\n",
       "    </tr>\n",
       "    <tr>\n",
       "      <th>329</th>\n",
       "      <td>0.36404</td>\n",
       "      <td>0.546887</td>\n",
       "      <td>0.703670</td>\n",
       "      <td>0.394201</td>\n",
       "      <td>0.072596</td>\n",
       "      <td>65445</td>\n",
       "    </tr>\n",
       "    <tr>\n",
       "      <th>330</th>\n",
       "      <td>0.65881</td>\n",
       "      <td>0.967434</td>\n",
       "      <td>0.970565</td>\n",
       "      <td>0.593643</td>\n",
       "      <td>0.147058</td>\n",
       "      <td>65445</td>\n",
       "    </tr>\n",
       "    <tr>\n",
       "      <th>331</th>\n",
       "      <td>0.503637</td>\n",
       "      <td>0.530138</td>\n",
       "      <td>0.245880</td>\n",
       "      <td>0.835877</td>\n",
       "      <td>0.812134</td>\n",
       "      <td>65445</td>\n",
       "    </tr>\n",
       "    <tr>\n",
       "      <th>332</th>\n",
       "      <td>0.448307</td>\n",
       "      <td>0.772018</td>\n",
       "      <td>0.834457</td>\n",
       "      <td>0.870341</td>\n",
       "      <td>0.027131</td>\n",
       "      <td>65445</td>\n",
       "    </tr>\n",
       "    <tr>\n",
       "      <th>333</th>\n",
       "      <td>0.815868</td>\n",
       "      <td>0.630754</td>\n",
       "      <td>0.776159</td>\n",
       "      <td>0.749610</td>\n",
       "      <td>0.321107</td>\n",
       "      <td>65445</td>\n",
       "    </tr>\n",
       "  </tbody>\n",
       "</table>\n",
       "<p>333 rows × 6 columns</p>\n",
       "</div>"
      ],
      "text/plain": [
       "            A         B         C         D         E  (0, A)\n",
       "1    0.050939  0.558863  0.430774  0.459138  0.998153   65445\n",
       "2    0.942839  0.862690  0.595492  0.491221  0.396037   65445\n",
       "3    0.934001  0.372846  0.223908  0.331091  0.765693   65445\n",
       "4    0.120901  0.531177  0.839910  0.177574  0.456581   65445\n",
       "5    0.343092  0.483345  0.335636  0.938445  0.252060   65445\n",
       "..        ...       ...       ...       ...       ...     ...\n",
       "329   0.36404  0.546887  0.703670  0.394201  0.072596   65445\n",
       "330   0.65881  0.967434  0.970565  0.593643  0.147058   65445\n",
       "331  0.503637  0.530138  0.245880  0.835877  0.812134   65445\n",
       "332  0.448307  0.772018  0.834457  0.870341  0.027131   65445\n",
       "333  0.815868  0.630754  0.776159  0.749610  0.321107   65445\n",
       "\n",
       "[333 rows x 6 columns]"
      ]
     },
     "execution_count": 144,
     "metadata": {},
     "output_type": "execute_result"
    }
   ],
   "source": [
    "newdf.drop([0])"
   ]
  },
  {
   "cell_type": "code",
   "execution_count": 145,
   "id": "b9ea1382-f56e-4fd9-a00f-4913ef042be1",
   "metadata": {},
   "outputs": [
    {
     "data": {
      "text/html": [
       "<div>\n",
       "<style scoped>\n",
       "    .dataframe tbody tr th:only-of-type {\n",
       "        vertical-align: middle;\n",
       "    }\n",
       "\n",
       "    .dataframe tbody tr th {\n",
       "        vertical-align: top;\n",
       "    }\n",
       "\n",
       "    .dataframe thead th {\n",
       "        text-align: right;\n",
       "    }\n",
       "</style>\n",
       "<table border=\"1\" class=\"dataframe\">\n",
       "  <thead>\n",
       "    <tr style=\"text-align: right;\">\n",
       "      <th></th>\n",
       "      <th>B</th>\n",
       "      <th>C</th>\n",
       "      <th>D</th>\n",
       "      <th>E</th>\n",
       "      <th>(0, A)</th>\n",
       "    </tr>\n",
       "  </thead>\n",
       "  <tbody>\n",
       "    <tr>\n",
       "      <th>0</th>\n",
       "      <td>0.157450</td>\n",
       "      <td>0.655528</td>\n",
       "      <td>0.118118</td>\n",
       "      <td>0.202044</td>\n",
       "      <td>65445</td>\n",
       "    </tr>\n",
       "    <tr>\n",
       "      <th>1</th>\n",
       "      <td>0.558863</td>\n",
       "      <td>0.430774</td>\n",
       "      <td>0.459138</td>\n",
       "      <td>0.998153</td>\n",
       "      <td>65445</td>\n",
       "    </tr>\n",
       "    <tr>\n",
       "      <th>2</th>\n",
       "      <td>0.862690</td>\n",
       "      <td>0.595492</td>\n",
       "      <td>0.491221</td>\n",
       "      <td>0.396037</td>\n",
       "      <td>65445</td>\n",
       "    </tr>\n",
       "    <tr>\n",
       "      <th>3</th>\n",
       "      <td>0.372846</td>\n",
       "      <td>0.223908</td>\n",
       "      <td>0.331091</td>\n",
       "      <td>0.765693</td>\n",
       "      <td>65445</td>\n",
       "    </tr>\n",
       "    <tr>\n",
       "      <th>4</th>\n",
       "      <td>0.531177</td>\n",
       "      <td>0.839910</td>\n",
       "      <td>0.177574</td>\n",
       "      <td>0.456581</td>\n",
       "      <td>65445</td>\n",
       "    </tr>\n",
       "    <tr>\n",
       "      <th>...</th>\n",
       "      <td>...</td>\n",
       "      <td>...</td>\n",
       "      <td>...</td>\n",
       "      <td>...</td>\n",
       "      <td>...</td>\n",
       "    </tr>\n",
       "    <tr>\n",
       "      <th>329</th>\n",
       "      <td>0.546887</td>\n",
       "      <td>0.703670</td>\n",
       "      <td>0.394201</td>\n",
       "      <td>0.072596</td>\n",
       "      <td>65445</td>\n",
       "    </tr>\n",
       "    <tr>\n",
       "      <th>330</th>\n",
       "      <td>0.967434</td>\n",
       "      <td>0.970565</td>\n",
       "      <td>0.593643</td>\n",
       "      <td>0.147058</td>\n",
       "      <td>65445</td>\n",
       "    </tr>\n",
       "    <tr>\n",
       "      <th>331</th>\n",
       "      <td>0.530138</td>\n",
       "      <td>0.245880</td>\n",
       "      <td>0.835877</td>\n",
       "      <td>0.812134</td>\n",
       "      <td>65445</td>\n",
       "    </tr>\n",
       "    <tr>\n",
       "      <th>332</th>\n",
       "      <td>0.772018</td>\n",
       "      <td>0.834457</td>\n",
       "      <td>0.870341</td>\n",
       "      <td>0.027131</td>\n",
       "      <td>65445</td>\n",
       "    </tr>\n",
       "    <tr>\n",
       "      <th>333</th>\n",
       "      <td>0.630754</td>\n",
       "      <td>0.776159</td>\n",
       "      <td>0.749610</td>\n",
       "      <td>0.321107</td>\n",
       "      <td>65445</td>\n",
       "    </tr>\n",
       "  </tbody>\n",
       "</table>\n",
       "<p>334 rows × 5 columns</p>\n",
       "</div>"
      ],
      "text/plain": [
       "            B         C         D         E  (0, A)\n",
       "0    0.157450  0.655528  0.118118  0.202044   65445\n",
       "1    0.558863  0.430774  0.459138  0.998153   65445\n",
       "2    0.862690  0.595492  0.491221  0.396037   65445\n",
       "3    0.372846  0.223908  0.331091  0.765693   65445\n",
       "4    0.531177  0.839910  0.177574  0.456581   65445\n",
       "..        ...       ...       ...       ...     ...\n",
       "329  0.546887  0.703670  0.394201  0.072596   65445\n",
       "330  0.967434  0.970565  0.593643  0.147058   65445\n",
       "331  0.530138  0.245880  0.835877  0.812134   65445\n",
       "332  0.772018  0.834457  0.870341  0.027131   65445\n",
       "333  0.630754  0.776159  0.749610  0.321107   65445\n",
       "\n",
       "[334 rows x 5 columns]"
      ]
     },
     "execution_count": 145,
     "metadata": {},
     "output_type": "execute_result"
    }
   ],
   "source": [
    "newdf.drop(['A'],axis=1)"
   ]
  },
  {
   "cell_type": "code",
   "execution_count": 146,
   "id": "2082ec76-c17c-4093-8c2e-56b524b8ff94",
   "metadata": {},
   "outputs": [
    {
     "data": {
      "text/html": [
       "<div>\n",
       "<style scoped>\n",
       "    .dataframe tbody tr th:only-of-type {\n",
       "        vertical-align: middle;\n",
       "    }\n",
       "\n",
       "    .dataframe tbody tr th {\n",
       "        vertical-align: top;\n",
       "    }\n",
       "\n",
       "    .dataframe thead th {\n",
       "        text-align: right;\n",
       "    }\n",
       "</style>\n",
       "<table border=\"1\" class=\"dataframe\">\n",
       "  <thead>\n",
       "    <tr style=\"text-align: right;\">\n",
       "      <th></th>\n",
       "      <th>B</th>\n",
       "      <th>D</th>\n",
       "      <th>E</th>\n",
       "      <th>(0, A)</th>\n",
       "    </tr>\n",
       "  </thead>\n",
       "  <tbody>\n",
       "    <tr>\n",
       "      <th>0</th>\n",
       "      <td>0.157450</td>\n",
       "      <td>0.118118</td>\n",
       "      <td>0.202044</td>\n",
       "      <td>65445</td>\n",
       "    </tr>\n",
       "    <tr>\n",
       "      <th>1</th>\n",
       "      <td>0.558863</td>\n",
       "      <td>0.459138</td>\n",
       "      <td>0.998153</td>\n",
       "      <td>65445</td>\n",
       "    </tr>\n",
       "    <tr>\n",
       "      <th>2</th>\n",
       "      <td>0.862690</td>\n",
       "      <td>0.491221</td>\n",
       "      <td>0.396037</td>\n",
       "      <td>65445</td>\n",
       "    </tr>\n",
       "    <tr>\n",
       "      <th>3</th>\n",
       "      <td>0.372846</td>\n",
       "      <td>0.331091</td>\n",
       "      <td>0.765693</td>\n",
       "      <td>65445</td>\n",
       "    </tr>\n",
       "    <tr>\n",
       "      <th>4</th>\n",
       "      <td>0.531177</td>\n",
       "      <td>0.177574</td>\n",
       "      <td>0.456581</td>\n",
       "      <td>65445</td>\n",
       "    </tr>\n",
       "    <tr>\n",
       "      <th>...</th>\n",
       "      <td>...</td>\n",
       "      <td>...</td>\n",
       "      <td>...</td>\n",
       "      <td>...</td>\n",
       "    </tr>\n",
       "    <tr>\n",
       "      <th>329</th>\n",
       "      <td>0.546887</td>\n",
       "      <td>0.394201</td>\n",
       "      <td>0.072596</td>\n",
       "      <td>65445</td>\n",
       "    </tr>\n",
       "    <tr>\n",
       "      <th>330</th>\n",
       "      <td>0.967434</td>\n",
       "      <td>0.593643</td>\n",
       "      <td>0.147058</td>\n",
       "      <td>65445</td>\n",
       "    </tr>\n",
       "    <tr>\n",
       "      <th>331</th>\n",
       "      <td>0.530138</td>\n",
       "      <td>0.835877</td>\n",
       "      <td>0.812134</td>\n",
       "      <td>65445</td>\n",
       "    </tr>\n",
       "    <tr>\n",
       "      <th>332</th>\n",
       "      <td>0.772018</td>\n",
       "      <td>0.870341</td>\n",
       "      <td>0.027131</td>\n",
       "      <td>65445</td>\n",
       "    </tr>\n",
       "    <tr>\n",
       "      <th>333</th>\n",
       "      <td>0.630754</td>\n",
       "      <td>0.749610</td>\n",
       "      <td>0.321107</td>\n",
       "      <td>65445</td>\n",
       "    </tr>\n",
       "  </tbody>\n",
       "</table>\n",
       "<p>334 rows × 4 columns</p>\n",
       "</div>"
      ],
      "text/plain": [
       "            B         D         E  (0, A)\n",
       "0    0.157450  0.118118  0.202044   65445\n",
       "1    0.558863  0.459138  0.998153   65445\n",
       "2    0.862690  0.491221  0.396037   65445\n",
       "3    0.372846  0.331091  0.765693   65445\n",
       "4    0.531177  0.177574  0.456581   65445\n",
       "..        ...       ...       ...     ...\n",
       "329  0.546887  0.394201  0.072596   65445\n",
       "330  0.967434  0.593643  0.147058   65445\n",
       "331  0.530138  0.835877  0.812134   65445\n",
       "332  0.772018  0.870341  0.027131   65445\n",
       "333  0.630754  0.749610  0.321107   65445\n",
       "\n",
       "[334 rows x 4 columns]"
      ]
     },
     "execution_count": 146,
     "metadata": {},
     "output_type": "execute_result"
    }
   ],
   "source": [
    "newdf.drop(['A','C'],axis=1)"
   ]
  },
  {
   "cell_type": "code",
   "execution_count": 147,
   "id": "9e32ab9e-f12e-4f50-9f7c-377469c160bd",
   "metadata": {},
   "outputs": [],
   "source": [
    "newdf.drop(['A','D'],axis=1,inplace=True)"
   ]
  },
  {
   "cell_type": "code",
   "execution_count": 148,
   "id": "3076d468-48d6-47f3-88fd-a35cd3cab320",
   "metadata": {},
   "outputs": [
    {
     "data": {
      "text/html": [
       "<div>\n",
       "<style scoped>\n",
       "    .dataframe tbody tr th:only-of-type {\n",
       "        vertical-align: middle;\n",
       "    }\n",
       "\n",
       "    .dataframe tbody tr th {\n",
       "        vertical-align: top;\n",
       "    }\n",
       "\n",
       "    .dataframe thead th {\n",
       "        text-align: right;\n",
       "    }\n",
       "</style>\n",
       "<table border=\"1\" class=\"dataframe\">\n",
       "  <thead>\n",
       "    <tr style=\"text-align: right;\">\n",
       "      <th></th>\n",
       "      <th>B</th>\n",
       "      <th>C</th>\n",
       "      <th>E</th>\n",
       "      <th>(0, A)</th>\n",
       "    </tr>\n",
       "  </thead>\n",
       "  <tbody>\n",
       "    <tr>\n",
       "      <th>0</th>\n",
       "      <td>0.157450</td>\n",
       "      <td>0.655528</td>\n",
       "      <td>0.202044</td>\n",
       "      <td>65445</td>\n",
       "    </tr>\n",
       "    <tr>\n",
       "      <th>1</th>\n",
       "      <td>0.558863</td>\n",
       "      <td>0.430774</td>\n",
       "      <td>0.998153</td>\n",
       "      <td>65445</td>\n",
       "    </tr>\n",
       "    <tr>\n",
       "      <th>2</th>\n",
       "      <td>0.862690</td>\n",
       "      <td>0.595492</td>\n",
       "      <td>0.396037</td>\n",
       "      <td>65445</td>\n",
       "    </tr>\n",
       "    <tr>\n",
       "      <th>3</th>\n",
       "      <td>0.372846</td>\n",
       "      <td>0.223908</td>\n",
       "      <td>0.765693</td>\n",
       "      <td>65445</td>\n",
       "    </tr>\n",
       "    <tr>\n",
       "      <th>4</th>\n",
       "      <td>0.531177</td>\n",
       "      <td>0.839910</td>\n",
       "      <td>0.456581</td>\n",
       "      <td>65445</td>\n",
       "    </tr>\n",
       "    <tr>\n",
       "      <th>...</th>\n",
       "      <td>...</td>\n",
       "      <td>...</td>\n",
       "      <td>...</td>\n",
       "      <td>...</td>\n",
       "    </tr>\n",
       "    <tr>\n",
       "      <th>329</th>\n",
       "      <td>0.546887</td>\n",
       "      <td>0.703670</td>\n",
       "      <td>0.072596</td>\n",
       "      <td>65445</td>\n",
       "    </tr>\n",
       "    <tr>\n",
       "      <th>330</th>\n",
       "      <td>0.967434</td>\n",
       "      <td>0.970565</td>\n",
       "      <td>0.147058</td>\n",
       "      <td>65445</td>\n",
       "    </tr>\n",
       "    <tr>\n",
       "      <th>331</th>\n",
       "      <td>0.530138</td>\n",
       "      <td>0.245880</td>\n",
       "      <td>0.812134</td>\n",
       "      <td>65445</td>\n",
       "    </tr>\n",
       "    <tr>\n",
       "      <th>332</th>\n",
       "      <td>0.772018</td>\n",
       "      <td>0.834457</td>\n",
       "      <td>0.027131</td>\n",
       "      <td>65445</td>\n",
       "    </tr>\n",
       "    <tr>\n",
       "      <th>333</th>\n",
       "      <td>0.630754</td>\n",
       "      <td>0.776159</td>\n",
       "      <td>0.321107</td>\n",
       "      <td>65445</td>\n",
       "    </tr>\n",
       "  </tbody>\n",
       "</table>\n",
       "<p>334 rows × 4 columns</p>\n",
       "</div>"
      ],
      "text/plain": [
       "            B         C         E  (0, A)\n",
       "0    0.157450  0.655528  0.202044   65445\n",
       "1    0.558863  0.430774  0.998153   65445\n",
       "2    0.862690  0.595492  0.396037   65445\n",
       "3    0.372846  0.223908  0.765693   65445\n",
       "4    0.531177  0.839910  0.456581   65445\n",
       "..        ...       ...       ...     ...\n",
       "329  0.546887  0.703670  0.072596   65445\n",
       "330  0.967434  0.970565  0.147058   65445\n",
       "331  0.530138  0.245880  0.812134   65445\n",
       "332  0.772018  0.834457  0.027131   65445\n",
       "333  0.630754  0.776159  0.321107   65445\n",
       "\n",
       "[334 rows x 4 columns]"
      ]
     },
     "execution_count": 148,
     "metadata": {},
     "output_type": "execute_result"
    }
   ],
   "source": [
    "newdf"
   ]
  },
  {
   "cell_type": "code",
   "execution_count": 149,
   "id": "d2e00eef-8d4b-4f7e-a3db-7f9acb004669",
   "metadata": {},
   "outputs": [
    {
     "data": {
      "text/html": [
       "<div>\n",
       "<style scoped>\n",
       "    .dataframe tbody tr th:only-of-type {\n",
       "        vertical-align: middle;\n",
       "    }\n",
       "\n",
       "    .dataframe tbody tr th {\n",
       "        vertical-align: top;\n",
       "    }\n",
       "\n",
       "    .dataframe thead th {\n",
       "        text-align: right;\n",
       "    }\n",
       "</style>\n",
       "<table border=\"1\" class=\"dataframe\">\n",
       "  <thead>\n",
       "    <tr style=\"text-align: right;\">\n",
       "      <th></th>\n",
       "      <th>B</th>\n",
       "      <th>C</th>\n",
       "      <th>E</th>\n",
       "      <th>(0, A)</th>\n",
       "    </tr>\n",
       "  </thead>\n",
       "  <tbody>\n",
       "    <tr>\n",
       "      <th>0</th>\n",
       "      <td>0.157450</td>\n",
       "      <td>0.655528</td>\n",
       "      <td>0.202044</td>\n",
       "      <td>65445</td>\n",
       "    </tr>\n",
       "    <tr>\n",
       "      <th>1</th>\n",
       "      <td>0.558863</td>\n",
       "      <td>0.430774</td>\n",
       "      <td>0.998153</td>\n",
       "      <td>65445</td>\n",
       "    </tr>\n",
       "    <tr>\n",
       "      <th>2</th>\n",
       "      <td>0.862690</td>\n",
       "      <td>0.595492</td>\n",
       "      <td>0.396037</td>\n",
       "      <td>65445</td>\n",
       "    </tr>\n",
       "    <tr>\n",
       "      <th>3</th>\n",
       "      <td>0.372846</td>\n",
       "      <td>0.223908</td>\n",
       "      <td>0.765693</td>\n",
       "      <td>65445</td>\n",
       "    </tr>\n",
       "    <tr>\n",
       "      <th>4</th>\n",
       "      <td>0.531177</td>\n",
       "      <td>0.839910</td>\n",
       "      <td>0.456581</td>\n",
       "      <td>65445</td>\n",
       "    </tr>\n",
       "  </tbody>\n",
       "</table>\n",
       "</div>"
      ],
      "text/plain": [
       "          B         C         E  (0, A)\n",
       "0  0.157450  0.655528  0.202044   65445\n",
       "1  0.558863  0.430774  0.998153   65445\n",
       "2  0.862690  0.595492  0.396037   65445\n",
       "3  0.372846  0.223908  0.765693   65445\n",
       "4  0.531177  0.839910  0.456581   65445"
      ]
     },
     "execution_count": 149,
     "metadata": {},
     "output_type": "execute_result"
    }
   ],
   "source": [
    "newdf.head()"
   ]
  },
  {
   "cell_type": "code",
   "execution_count": 150,
   "id": "e8ffd930-3cb0-43f2-a3c5-fe7ef8dc04ce",
   "metadata": {},
   "outputs": [
    {
     "data": {
      "text/html": [
       "<div>\n",
       "<style scoped>\n",
       "    .dataframe tbody tr th:only-of-type {\n",
       "        vertical-align: middle;\n",
       "    }\n",
       "\n",
       "    .dataframe tbody tr th {\n",
       "        vertical-align: top;\n",
       "    }\n",
       "\n",
       "    .dataframe thead th {\n",
       "        text-align: right;\n",
       "    }\n",
       "</style>\n",
       "<table border=\"1\" class=\"dataframe\">\n",
       "  <thead>\n",
       "    <tr style=\"text-align: right;\">\n",
       "      <th></th>\n",
       "      <th>index</th>\n",
       "      <th>B</th>\n",
       "      <th>C</th>\n",
       "      <th>E</th>\n",
       "      <th>(0, A)</th>\n",
       "    </tr>\n",
       "  </thead>\n",
       "  <tbody>\n",
       "    <tr>\n",
       "      <th>0</th>\n",
       "      <td>0</td>\n",
       "      <td>0.157450</td>\n",
       "      <td>0.655528</td>\n",
       "      <td>0.202044</td>\n",
       "      <td>65445</td>\n",
       "    </tr>\n",
       "    <tr>\n",
       "      <th>1</th>\n",
       "      <td>1</td>\n",
       "      <td>0.558863</td>\n",
       "      <td>0.430774</td>\n",
       "      <td>0.998153</td>\n",
       "      <td>65445</td>\n",
       "    </tr>\n",
       "    <tr>\n",
       "      <th>2</th>\n",
       "      <td>2</td>\n",
       "      <td>0.862690</td>\n",
       "      <td>0.595492</td>\n",
       "      <td>0.396037</td>\n",
       "      <td>65445</td>\n",
       "    </tr>\n",
       "    <tr>\n",
       "      <th>3</th>\n",
       "      <td>3</td>\n",
       "      <td>0.372846</td>\n",
       "      <td>0.223908</td>\n",
       "      <td>0.765693</td>\n",
       "      <td>65445</td>\n",
       "    </tr>\n",
       "    <tr>\n",
       "      <th>4</th>\n",
       "      <td>4</td>\n",
       "      <td>0.531177</td>\n",
       "      <td>0.839910</td>\n",
       "      <td>0.456581</td>\n",
       "      <td>65445</td>\n",
       "    </tr>\n",
       "    <tr>\n",
       "      <th>...</th>\n",
       "      <td>...</td>\n",
       "      <td>...</td>\n",
       "      <td>...</td>\n",
       "      <td>...</td>\n",
       "      <td>...</td>\n",
       "    </tr>\n",
       "    <tr>\n",
       "      <th>329</th>\n",
       "      <td>329</td>\n",
       "      <td>0.546887</td>\n",
       "      <td>0.703670</td>\n",
       "      <td>0.072596</td>\n",
       "      <td>65445</td>\n",
       "    </tr>\n",
       "    <tr>\n",
       "      <th>330</th>\n",
       "      <td>330</td>\n",
       "      <td>0.967434</td>\n",
       "      <td>0.970565</td>\n",
       "      <td>0.147058</td>\n",
       "      <td>65445</td>\n",
       "    </tr>\n",
       "    <tr>\n",
       "      <th>331</th>\n",
       "      <td>331</td>\n",
       "      <td>0.530138</td>\n",
       "      <td>0.245880</td>\n",
       "      <td>0.812134</td>\n",
       "      <td>65445</td>\n",
       "    </tr>\n",
       "    <tr>\n",
       "      <th>332</th>\n",
       "      <td>332</td>\n",
       "      <td>0.772018</td>\n",
       "      <td>0.834457</td>\n",
       "      <td>0.027131</td>\n",
       "      <td>65445</td>\n",
       "    </tr>\n",
       "    <tr>\n",
       "      <th>333</th>\n",
       "      <td>333</td>\n",
       "      <td>0.630754</td>\n",
       "      <td>0.776159</td>\n",
       "      <td>0.321107</td>\n",
       "      <td>65445</td>\n",
       "    </tr>\n",
       "  </tbody>\n",
       "</table>\n",
       "<p>334 rows × 5 columns</p>\n",
       "</div>"
      ],
      "text/plain": [
       "     index         B         C         E  (0, A)\n",
       "0        0  0.157450  0.655528  0.202044   65445\n",
       "1        1  0.558863  0.430774  0.998153   65445\n",
       "2        2  0.862690  0.595492  0.396037   65445\n",
       "3        3  0.372846  0.223908  0.765693   65445\n",
       "4        4  0.531177  0.839910  0.456581   65445\n",
       "..     ...       ...       ...       ...     ...\n",
       "329    329  0.546887  0.703670  0.072596   65445\n",
       "330    330  0.967434  0.970565  0.147058   65445\n",
       "331    331  0.530138  0.245880  0.812134   65445\n",
       "332    332  0.772018  0.834457  0.027131   65445\n",
       "333    333  0.630754  0.776159  0.321107   65445\n",
       "\n",
       "[334 rows x 5 columns]"
      ]
     },
     "execution_count": 150,
     "metadata": {},
     "output_type": "execute_result"
    }
   ],
   "source": [
    "newdf.reset_index()"
   ]
  },
  {
   "cell_type": "code",
   "execution_count": 151,
   "id": "dc011ef1-92aa-4b9f-91f7-abbad26912df",
   "metadata": {},
   "outputs": [],
   "source": [
    "newdf.reset_index(drop=True,inplace=True)"
   ]
  },
  {
   "cell_type": "code",
   "execution_count": 152,
   "id": "0cbfe153-cd97-484f-8261-a2db53cd38f6",
   "metadata": {},
   "outputs": [
    {
     "data": {
      "text/html": [
       "<div>\n",
       "<style scoped>\n",
       "    .dataframe tbody tr th:only-of-type {\n",
       "        vertical-align: middle;\n",
       "    }\n",
       "\n",
       "    .dataframe tbody tr th {\n",
       "        vertical-align: top;\n",
       "    }\n",
       "\n",
       "    .dataframe thead th {\n",
       "        text-align: right;\n",
       "    }\n",
       "</style>\n",
       "<table border=\"1\" class=\"dataframe\">\n",
       "  <thead>\n",
       "    <tr style=\"text-align: right;\">\n",
       "      <th></th>\n",
       "      <th>B</th>\n",
       "      <th>C</th>\n",
       "      <th>E</th>\n",
       "      <th>(0, A)</th>\n",
       "    </tr>\n",
       "  </thead>\n",
       "  <tbody>\n",
       "    <tr>\n",
       "      <th>0</th>\n",
       "      <td>0.157450</td>\n",
       "      <td>0.655528</td>\n",
       "      <td>0.202044</td>\n",
       "      <td>65445</td>\n",
       "    </tr>\n",
       "    <tr>\n",
       "      <th>1</th>\n",
       "      <td>0.558863</td>\n",
       "      <td>0.430774</td>\n",
       "      <td>0.998153</td>\n",
       "      <td>65445</td>\n",
       "    </tr>\n",
       "    <tr>\n",
       "      <th>2</th>\n",
       "      <td>0.862690</td>\n",
       "      <td>0.595492</td>\n",
       "      <td>0.396037</td>\n",
       "      <td>65445</td>\n",
       "    </tr>\n",
       "  </tbody>\n",
       "</table>\n",
       "</div>"
      ],
      "text/plain": [
       "          B         C         E  (0, A)\n",
       "0  0.157450  0.655528  0.202044   65445\n",
       "1  0.558863  0.430774  0.998153   65445\n",
       "2  0.862690  0.595492  0.396037   65445"
      ]
     },
     "execution_count": 152,
     "metadata": {},
     "output_type": "execute_result"
    }
   ],
   "source": [
    "newdf.head(3)"
   ]
  },
  {
   "cell_type": "code",
   "execution_count": 153,
   "id": "49b2ba4e-2e75-415a-a924-4c843112ef8e",
   "metadata": {},
   "outputs": [
    {
     "data": {
      "text/plain": [
       "0      False\n",
       "1      False\n",
       "2      False\n",
       "3      False\n",
       "4      False\n",
       "       ...  \n",
       "329    False\n",
       "330    False\n",
       "331    False\n",
       "332    False\n",
       "333    False\n",
       "Name: B, Length: 334, dtype: bool"
      ]
     },
     "execution_count": 153,
     "metadata": {},
     "output_type": "execute_result"
    }
   ],
   "source": [
    "newdf['B'].isnull()"
   ]
  },
  {
   "cell_type": "code",
   "execution_count": 154,
   "id": "3c69f1e3-1369-4fd7-aee9-314a0e99e109",
   "metadata": {},
   "outputs": [],
   "source": [
    "newdf.loc['B']=None"
   ]
  },
  {
   "cell_type": "code",
   "execution_count": 155,
   "id": "f70157a9-244e-443a-851c-9d5f6f027738",
   "metadata": {},
   "outputs": [
    {
     "data": {
      "text/html": [
       "<div>\n",
       "<style scoped>\n",
       "    .dataframe tbody tr th:only-of-type {\n",
       "        vertical-align: middle;\n",
       "    }\n",
       "\n",
       "    .dataframe tbody tr th {\n",
       "        vertical-align: top;\n",
       "    }\n",
       "\n",
       "    .dataframe thead th {\n",
       "        text-align: right;\n",
       "    }\n",
       "</style>\n",
       "<table border=\"1\" class=\"dataframe\">\n",
       "  <thead>\n",
       "    <tr style=\"text-align: right;\">\n",
       "      <th></th>\n",
       "      <th>B</th>\n",
       "      <th>C</th>\n",
       "      <th>E</th>\n",
       "      <th>(0, A)</th>\n",
       "    </tr>\n",
       "  </thead>\n",
       "  <tbody>\n",
       "    <tr>\n",
       "      <th>0</th>\n",
       "      <td>0.157450</td>\n",
       "      <td>0.655528</td>\n",
       "      <td>0.202044</td>\n",
       "      <td>65445.0</td>\n",
       "    </tr>\n",
       "    <tr>\n",
       "      <th>1</th>\n",
       "      <td>0.558863</td>\n",
       "      <td>0.430774</td>\n",
       "      <td>0.998153</td>\n",
       "      <td>65445.0</td>\n",
       "    </tr>\n",
       "    <tr>\n",
       "      <th>2</th>\n",
       "      <td>0.862690</td>\n",
       "      <td>0.595492</td>\n",
       "      <td>0.396037</td>\n",
       "      <td>65445.0</td>\n",
       "    </tr>\n",
       "    <tr>\n",
       "      <th>3</th>\n",
       "      <td>0.372846</td>\n",
       "      <td>0.223908</td>\n",
       "      <td>0.765693</td>\n",
       "      <td>65445.0</td>\n",
       "    </tr>\n",
       "    <tr>\n",
       "      <th>4</th>\n",
       "      <td>0.531177</td>\n",
       "      <td>0.839910</td>\n",
       "      <td>0.456581</td>\n",
       "      <td>65445.0</td>\n",
       "    </tr>\n",
       "    <tr>\n",
       "      <th>...</th>\n",
       "      <td>...</td>\n",
       "      <td>...</td>\n",
       "      <td>...</td>\n",
       "      <td>...</td>\n",
       "    </tr>\n",
       "    <tr>\n",
       "      <th>330</th>\n",
       "      <td>0.967434</td>\n",
       "      <td>0.970565</td>\n",
       "      <td>0.147058</td>\n",
       "      <td>65445.0</td>\n",
       "    </tr>\n",
       "    <tr>\n",
       "      <th>331</th>\n",
       "      <td>0.530138</td>\n",
       "      <td>0.245880</td>\n",
       "      <td>0.812134</td>\n",
       "      <td>65445.0</td>\n",
       "    </tr>\n",
       "    <tr>\n",
       "      <th>332</th>\n",
       "      <td>0.772018</td>\n",
       "      <td>0.834457</td>\n",
       "      <td>0.027131</td>\n",
       "      <td>65445.0</td>\n",
       "    </tr>\n",
       "    <tr>\n",
       "      <th>333</th>\n",
       "      <td>0.630754</td>\n",
       "      <td>0.776159</td>\n",
       "      <td>0.321107</td>\n",
       "      <td>65445.0</td>\n",
       "    </tr>\n",
       "    <tr>\n",
       "      <th>B</th>\n",
       "      <td>NaN</td>\n",
       "      <td>NaN</td>\n",
       "      <td>NaN</td>\n",
       "      <td>NaN</td>\n",
       "    </tr>\n",
       "  </tbody>\n",
       "</table>\n",
       "<p>335 rows × 4 columns</p>\n",
       "</div>"
      ],
      "text/plain": [
       "            B         C         E   (0, A)\n",
       "0    0.157450  0.655528  0.202044  65445.0\n",
       "1    0.558863  0.430774  0.998153  65445.0\n",
       "2    0.862690  0.595492  0.396037  65445.0\n",
       "3    0.372846  0.223908  0.765693  65445.0\n",
       "4    0.531177  0.839910  0.456581  65445.0\n",
       "..        ...       ...       ...      ...\n",
       "330  0.967434  0.970565  0.147058  65445.0\n",
       "331  0.530138  0.245880  0.812134  65445.0\n",
       "332  0.772018  0.834457  0.027131  65445.0\n",
       "333  0.630754  0.776159  0.321107  65445.0\n",
       "B         NaN       NaN       NaN      NaN\n",
       "\n",
       "[335 rows x 4 columns]"
      ]
     },
     "execution_count": 155,
     "metadata": {},
     "output_type": "execute_result"
    }
   ],
   "source": [
    "newdf"
   ]
  },
  {
   "cell_type": "code",
   "execution_count": 156,
   "id": "9c9c0136-5260-44e0-b8f2-fa735a3d82ec",
   "metadata": {},
   "outputs": [
    {
     "data": {
      "text/plain": [
       "0      False\n",
       "1      False\n",
       "2      False\n",
       "3      False\n",
       "4      False\n",
       "       ...  \n",
       "330    False\n",
       "331    False\n",
       "332    False\n",
       "333    False\n",
       "B       True\n",
       "Name: B, Length: 335, dtype: bool"
      ]
     },
     "execution_count": 156,
     "metadata": {},
     "output_type": "execute_result"
    }
   ],
   "source": [
    "newdf['B'].isnull()"
   ]
  },
  {
   "cell_type": "code",
   "execution_count": 157,
   "id": "28d3d7fd-c0fb-4565-a4e6-a04eb0191dab",
   "metadata": {},
   "outputs": [],
   "source": [
    "df=pd.DataFrame({\"name\": ['Alfred','Batman','Alfred'],\n",
    "                 \"toy\": [np.nan,'BatMobile','BullWhip'],\n",
    "                 \"born\":[pd.NaT,pd.Timestamp('1940-04-25'),pd.NaT]})"
   ]
  },
  {
   "cell_type": "code",
   "execution_count": 158,
   "id": "d41ff71a-3878-442a-b987-200d4f5b60fb",
   "metadata": {},
   "outputs": [
    {
     "data": {
      "text/html": [
       "<div>\n",
       "<style scoped>\n",
       "    .dataframe tbody tr th:only-of-type {\n",
       "        vertical-align: middle;\n",
       "    }\n",
       "\n",
       "    .dataframe tbody tr th {\n",
       "        vertical-align: top;\n",
       "    }\n",
       "\n",
       "    .dataframe thead th {\n",
       "        text-align: right;\n",
       "    }\n",
       "</style>\n",
       "<table border=\"1\" class=\"dataframe\">\n",
       "  <thead>\n",
       "    <tr style=\"text-align: right;\">\n",
       "      <th></th>\n",
       "      <th>name</th>\n",
       "      <th>toy</th>\n",
       "      <th>born</th>\n",
       "    </tr>\n",
       "  </thead>\n",
       "  <tbody>\n",
       "    <tr>\n",
       "      <th>0</th>\n",
       "      <td>Alfred</td>\n",
       "      <td>NaN</td>\n",
       "      <td>NaT</td>\n",
       "    </tr>\n",
       "    <tr>\n",
       "      <th>1</th>\n",
       "      <td>Batman</td>\n",
       "      <td>BatMobile</td>\n",
       "      <td>1940-04-25</td>\n",
       "    </tr>\n",
       "    <tr>\n",
       "      <th>2</th>\n",
       "      <td>Alfred</td>\n",
       "      <td>BullWhip</td>\n",
       "      <td>NaT</td>\n",
       "    </tr>\n",
       "  </tbody>\n",
       "</table>\n",
       "</div>"
      ],
      "text/plain": [
       "     name        toy       born\n",
       "0  Alfred        NaN        NaT\n",
       "1  Batman  BatMobile 1940-04-25\n",
       "2  Alfred   BullWhip        NaT"
      ]
     },
     "execution_count": 158,
     "metadata": {},
     "output_type": "execute_result"
    }
   ],
   "source": [
    "df.head()"
   ]
  },
  {
   "cell_type": "code",
   "execution_count": 159,
   "id": "69a177e8-05b5-4bc3-82e3-be4c72ce3952",
   "metadata": {},
   "outputs": [
    {
     "data": {
      "text/html": [
       "<div>\n",
       "<style scoped>\n",
       "    .dataframe tbody tr th:only-of-type {\n",
       "        vertical-align: middle;\n",
       "    }\n",
       "\n",
       "    .dataframe tbody tr th {\n",
       "        vertical-align: top;\n",
       "    }\n",
       "\n",
       "    .dataframe thead th {\n",
       "        text-align: right;\n",
       "    }\n",
       "</style>\n",
       "<table border=\"1\" class=\"dataframe\">\n",
       "  <thead>\n",
       "    <tr style=\"text-align: right;\">\n",
       "      <th></th>\n",
       "      <th>name</th>\n",
       "      <th>toy</th>\n",
       "      <th>born</th>\n",
       "    </tr>\n",
       "  </thead>\n",
       "  <tbody>\n",
       "    <tr>\n",
       "      <th>1</th>\n",
       "      <td>Batman</td>\n",
       "      <td>BatMobile</td>\n",
       "      <td>1940-04-25</td>\n",
       "    </tr>\n",
       "  </tbody>\n",
       "</table>\n",
       "</div>"
      ],
      "text/plain": [
       "     name        toy       born\n",
       "1  Batman  BatMobile 1940-04-25"
      ]
     },
     "execution_count": 159,
     "metadata": {},
     "output_type": "execute_result"
    }
   ],
   "source": [
    "df.dropna()"
   ]
  },
  {
   "cell_type": "code",
   "execution_count": 160,
   "id": "431db217-1768-432e-b2d4-88961bb64ecc",
   "metadata": {},
   "outputs": [
    {
     "data": {
      "text/html": [
       "<div>\n",
       "<style scoped>\n",
       "    .dataframe tbody tr th:only-of-type {\n",
       "        vertical-align: middle;\n",
       "    }\n",
       "\n",
       "    .dataframe tbody tr th {\n",
       "        vertical-align: top;\n",
       "    }\n",
       "\n",
       "    .dataframe thead th {\n",
       "        text-align: right;\n",
       "    }\n",
       "</style>\n",
       "<table border=\"1\" class=\"dataframe\">\n",
       "  <thead>\n",
       "    <tr style=\"text-align: right;\">\n",
       "      <th></th>\n",
       "      <th>name</th>\n",
       "      <th>toy</th>\n",
       "      <th>born</th>\n",
       "    </tr>\n",
       "  </thead>\n",
       "  <tbody>\n",
       "    <tr>\n",
       "      <th>0</th>\n",
       "      <td>Alfred</td>\n",
       "      <td>NaN</td>\n",
       "      <td>NaT</td>\n",
       "    </tr>\n",
       "    <tr>\n",
       "      <th>1</th>\n",
       "      <td>Batman</td>\n",
       "      <td>BatMobile</td>\n",
       "      <td>1940-04-25</td>\n",
       "    </tr>\n",
       "    <tr>\n",
       "      <th>2</th>\n",
       "      <td>Alfred</td>\n",
       "      <td>BullWhip</td>\n",
       "      <td>NaT</td>\n",
       "    </tr>\n",
       "  </tbody>\n",
       "</table>\n",
       "</div>"
      ],
      "text/plain": [
       "     name        toy       born\n",
       "0  Alfred        NaN        NaT\n",
       "1  Batman  BatMobile 1940-04-25\n",
       "2  Alfred   BullWhip        NaT"
      ]
     },
     "execution_count": 160,
     "metadata": {},
     "output_type": "execute_result"
    }
   ],
   "source": [
    "df.dropna(how='all')"
   ]
  },
  {
   "cell_type": "code",
   "execution_count": 161,
   "id": "5d3b0bae-5603-423a-9a42-b2adfce425c7",
   "metadata": {},
   "outputs": [
    {
     "data": {
      "text/html": [
       "<div>\n",
       "<style scoped>\n",
       "    .dataframe tbody tr th:only-of-type {\n",
       "        vertical-align: middle;\n",
       "    }\n",
       "\n",
       "    .dataframe tbody tr th {\n",
       "        vertical-align: top;\n",
       "    }\n",
       "\n",
       "    .dataframe thead th {\n",
       "        text-align: right;\n",
       "    }\n",
       "</style>\n",
       "<table border=\"1\" class=\"dataframe\">\n",
       "  <thead>\n",
       "    <tr style=\"text-align: right;\">\n",
       "      <th></th>\n",
       "      <th>name</th>\n",
       "      <th>toy</th>\n",
       "      <th>born</th>\n",
       "    </tr>\n",
       "  </thead>\n",
       "  <tbody>\n",
       "    <tr>\n",
       "      <th>0</th>\n",
       "      <td>Alfred</td>\n",
       "      <td>NaN</td>\n",
       "      <td>NaT</td>\n",
       "    </tr>\n",
       "    <tr>\n",
       "      <th>1</th>\n",
       "      <td>Batman</td>\n",
       "      <td>BatMobile</td>\n",
       "      <td>1940-04-25</td>\n",
       "    </tr>\n",
       "    <tr>\n",
       "      <th>2</th>\n",
       "      <td>Alfred</td>\n",
       "      <td>BullWhip</td>\n",
       "      <td>NaT</td>\n",
       "    </tr>\n",
       "  </tbody>\n",
       "</table>\n",
       "</div>"
      ],
      "text/plain": [
       "     name        toy       born\n",
       "0  Alfred        NaN        NaT\n",
       "1  Batman  BatMobile 1940-04-25\n",
       "2  Alfred   BullWhip        NaT"
      ]
     },
     "execution_count": 161,
     "metadata": {},
     "output_type": "execute_result"
    }
   ],
   "source": [
    "df.dropna(how='all',axis=1)"
   ]
  },
  {
   "cell_type": "code",
   "execution_count": 162,
   "id": "6f2e4650-98fb-42ad-917e-36d533034686",
   "metadata": {},
   "outputs": [
    {
     "data": {
      "text/html": [
       "<div>\n",
       "<style scoped>\n",
       "    .dataframe tbody tr th:only-of-type {\n",
       "        vertical-align: middle;\n",
       "    }\n",
       "\n",
       "    .dataframe tbody tr th {\n",
       "        vertical-align: top;\n",
       "    }\n",
       "\n",
       "    .dataframe thead th {\n",
       "        text-align: right;\n",
       "    }\n",
       "</style>\n",
       "<table border=\"1\" class=\"dataframe\">\n",
       "  <thead>\n",
       "    <tr style=\"text-align: right;\">\n",
       "      <th></th>\n",
       "      <th>name</th>\n",
       "      <th>toy</th>\n",
       "      <th>born</th>\n",
       "    </tr>\n",
       "  </thead>\n",
       "  <tbody>\n",
       "    <tr>\n",
       "      <th>0</th>\n",
       "      <td>Alfred</td>\n",
       "      <td>NaN</td>\n",
       "      <td>NaT</td>\n",
       "    </tr>\n",
       "    <tr>\n",
       "      <th>1</th>\n",
       "      <td>Batman</td>\n",
       "      <td>BatMobile</td>\n",
       "      <td>1940-04-25</td>\n",
       "    </tr>\n",
       "    <tr>\n",
       "      <th>2</th>\n",
       "      <td>Alfred</td>\n",
       "      <td>BullWhip</td>\n",
       "      <td>NaT</td>\n",
       "    </tr>\n",
       "  </tbody>\n",
       "</table>\n",
       "</div>"
      ],
      "text/plain": [
       "     name        toy       born\n",
       "0  Alfred        NaN        NaT\n",
       "1  Batman  BatMobile 1940-04-25\n",
       "2  Alfred   BullWhip        NaT"
      ]
     },
     "execution_count": 162,
     "metadata": {},
     "output_type": "execute_result"
    }
   ],
   "source": [
    "df.head()"
   ]
  },
  {
   "cell_type": "code",
   "execution_count": 163,
   "id": "fb041d90-ef83-4c79-9831-a2b5c02d304f",
   "metadata": {},
   "outputs": [
    {
     "data": {
      "text/html": [
       "<div>\n",
       "<style scoped>\n",
       "    .dataframe tbody tr th:only-of-type {\n",
       "        vertical-align: middle;\n",
       "    }\n",
       "\n",
       "    .dataframe tbody tr th {\n",
       "        vertical-align: top;\n",
       "    }\n",
       "\n",
       "    .dataframe thead th {\n",
       "        text-align: right;\n",
       "    }\n",
       "</style>\n",
       "<table border=\"1\" class=\"dataframe\">\n",
       "  <thead>\n",
       "    <tr style=\"text-align: right;\">\n",
       "      <th></th>\n",
       "      <th>name</th>\n",
       "      <th>toy</th>\n",
       "      <th>born</th>\n",
       "    </tr>\n",
       "  </thead>\n",
       "  <tbody>\n",
       "    <tr>\n",
       "      <th>0</th>\n",
       "      <td>Alfred</td>\n",
       "      <td>NaN</td>\n",
       "      <td>NaT</td>\n",
       "    </tr>\n",
       "    <tr>\n",
       "      <th>1</th>\n",
       "      <td>Batman</td>\n",
       "      <td>BatMobile</td>\n",
       "      <td>1940-04-25</td>\n",
       "    </tr>\n",
       "    <tr>\n",
       "      <th>2</th>\n",
       "      <td>Alfred</td>\n",
       "      <td>BullWhip</td>\n",
       "      <td>NaT</td>\n",
       "    </tr>\n",
       "  </tbody>\n",
       "</table>\n",
       "</div>"
      ],
      "text/plain": [
       "     name        toy       born\n",
       "0  Alfred        NaN        NaT\n",
       "1  Batman  BatMobile 1940-04-25\n",
       "2  Alfred   BullWhip        NaT"
      ]
     },
     "execution_count": 163,
     "metadata": {},
     "output_type": "execute_result"
    }
   ],
   "source": [
    "df.drop_duplicates()"
   ]
  },
  {
   "cell_type": "code",
   "execution_count": 164,
   "id": "e9c55e9a-e0d1-4681-bff2-3f976cf033e3",
   "metadata": {},
   "outputs": [
    {
     "data": {
      "text/html": [
       "<div>\n",
       "<style scoped>\n",
       "    .dataframe tbody tr th:only-of-type {\n",
       "        vertical-align: middle;\n",
       "    }\n",
       "\n",
       "    .dataframe tbody tr th {\n",
       "        vertical-align: top;\n",
       "    }\n",
       "\n",
       "    .dataframe thead th {\n",
       "        text-align: right;\n",
       "    }\n",
       "</style>\n",
       "<table border=\"1\" class=\"dataframe\">\n",
       "  <thead>\n",
       "    <tr style=\"text-align: right;\">\n",
       "      <th></th>\n",
       "      <th>name</th>\n",
       "      <th>toy</th>\n",
       "      <th>born</th>\n",
       "    </tr>\n",
       "  </thead>\n",
       "  <tbody>\n",
       "    <tr>\n",
       "      <th>0</th>\n",
       "      <td>Alfred</td>\n",
       "      <td>NaN</td>\n",
       "      <td>NaT</td>\n",
       "    </tr>\n",
       "    <tr>\n",
       "      <th>1</th>\n",
       "      <td>Batman</td>\n",
       "      <td>BatMobile</td>\n",
       "      <td>1940-04-25</td>\n",
       "    </tr>\n",
       "  </tbody>\n",
       "</table>\n",
       "</div>"
      ],
      "text/plain": [
       "     name        toy       born\n",
       "0  Alfred        NaN        NaT\n",
       "1  Batman  BatMobile 1940-04-25"
      ]
     },
     "execution_count": 164,
     "metadata": {},
     "output_type": "execute_result"
    }
   ],
   "source": [
    "df.drop_duplicates(subset=['name'])"
   ]
  },
  {
   "cell_type": "code",
   "execution_count": 165,
   "id": "1ed44e33-6d23-413f-a6b4-0078bb36ae44",
   "metadata": {},
   "outputs": [
    {
     "data": {
      "text/html": [
       "<div>\n",
       "<style scoped>\n",
       "    .dataframe tbody tr th:only-of-type {\n",
       "        vertical-align: middle;\n",
       "    }\n",
       "\n",
       "    .dataframe tbody tr th {\n",
       "        vertical-align: top;\n",
       "    }\n",
       "\n",
       "    .dataframe thead th {\n",
       "        text-align: right;\n",
       "    }\n",
       "</style>\n",
       "<table border=\"1\" class=\"dataframe\">\n",
       "  <thead>\n",
       "    <tr style=\"text-align: right;\">\n",
       "      <th></th>\n",
       "      <th>name</th>\n",
       "      <th>toy</th>\n",
       "      <th>born</th>\n",
       "    </tr>\n",
       "  </thead>\n",
       "  <tbody>\n",
       "    <tr>\n",
       "      <th>1</th>\n",
       "      <td>Batman</td>\n",
       "      <td>BatMobile</td>\n",
       "      <td>1940-04-25</td>\n",
       "    </tr>\n",
       "    <tr>\n",
       "      <th>2</th>\n",
       "      <td>Alfred</td>\n",
       "      <td>BullWhip</td>\n",
       "      <td>NaT</td>\n",
       "    </tr>\n",
       "  </tbody>\n",
       "</table>\n",
       "</div>"
      ],
      "text/plain": [
       "     name        toy       born\n",
       "1  Batman  BatMobile 1940-04-25\n",
       "2  Alfred   BullWhip        NaT"
      ]
     },
     "execution_count": 165,
     "metadata": {},
     "output_type": "execute_result"
    }
   ],
   "source": [
    "df.drop_duplicates(subset=['name'],keep='last')"
   ]
  },
  {
   "cell_type": "code",
   "execution_count": 166,
   "id": "a1fb6830-60ca-4442-a00d-4bbc16ea752a",
   "metadata": {},
   "outputs": [
    {
     "data": {
      "text/html": [
       "<div>\n",
       "<style scoped>\n",
       "    .dataframe tbody tr th:only-of-type {\n",
       "        vertical-align: middle;\n",
       "    }\n",
       "\n",
       "    .dataframe tbody tr th {\n",
       "        vertical-align: top;\n",
       "    }\n",
       "\n",
       "    .dataframe thead th {\n",
       "        text-align: right;\n",
       "    }\n",
       "</style>\n",
       "<table border=\"1\" class=\"dataframe\">\n",
       "  <thead>\n",
       "    <tr style=\"text-align: right;\">\n",
       "      <th></th>\n",
       "      <th>name</th>\n",
       "      <th>toy</th>\n",
       "      <th>born</th>\n",
       "    </tr>\n",
       "  </thead>\n",
       "  <tbody>\n",
       "    <tr>\n",
       "      <th>1</th>\n",
       "      <td>Batman</td>\n",
       "      <td>BatMobile</td>\n",
       "      <td>1940-04-25</td>\n",
       "    </tr>\n",
       "  </tbody>\n",
       "</table>\n",
       "</div>"
      ],
      "text/plain": [
       "     name        toy       born\n",
       "1  Batman  BatMobile 1940-04-25"
      ]
     },
     "execution_count": 166,
     "metadata": {},
     "output_type": "execute_result"
    }
   ],
   "source": [
    "df.drop_duplicates(subset=['name'],keep=False)"
   ]
  },
  {
   "cell_type": "code",
   "execution_count": 167,
   "id": "528e9d4c-d1d9-4852-b0c3-8160c432cf3e",
   "metadata": {},
   "outputs": [
    {
     "data": {
      "text/plain": [
       "(3, 3)"
      ]
     },
     "execution_count": 167,
     "metadata": {},
     "output_type": "execute_result"
    }
   ],
   "source": [
    "df.shape"
   ]
  },
  {
   "cell_type": "code",
   "execution_count": 168,
   "id": "df9083f0-7de5-415a-850c-d1d669a54e87",
   "metadata": {},
   "outputs": [
    {
     "name": "stdout",
     "output_type": "stream",
     "text": [
      "<class 'pandas.core.frame.DataFrame'>\n",
      "RangeIndex: 3 entries, 0 to 2\n",
      "Data columns (total 3 columns):\n",
      " #   Column  Non-Null Count  Dtype         \n",
      "---  ------  --------------  -----         \n",
      " 0   name    3 non-null      object        \n",
      " 1   toy     2 non-null      object        \n",
      " 2   born    1 non-null      datetime64[ns]\n",
      "dtypes: datetime64[ns](1), object(2)\n",
      "memory usage: 204.0+ bytes\n"
     ]
    }
   ],
   "source": [
    "df.info()"
   ]
  },
  {
   "cell_type": "code",
   "execution_count": 169,
   "id": "a274398c-5815-4c07-a962-f2cf2ad3747b",
   "metadata": {},
   "outputs": [
    {
     "data": {
      "text/plain": [
       "name\n",
       "Alfred    2\n",
       "Batman    1\n",
       "Name: count, dtype: int64"
      ]
     },
     "execution_count": 169,
     "metadata": {},
     "output_type": "execute_result"
    }
   ],
   "source": [
    "df['name'].value_counts(dropna=False)"
   ]
  },
  {
   "cell_type": "code",
   "execution_count": 170,
   "id": "890093b0-1f66-40d9-8d0f-309fb649c5d7",
   "metadata": {},
   "outputs": [
    {
     "data": {
      "text/plain": [
       "toy\n",
       "BatMobile    1\n",
       "BullWhip     1\n",
       "Name: count, dtype: int64"
      ]
     },
     "execution_count": 170,
     "metadata": {},
     "output_type": "execute_result"
    }
   ],
   "source": [
    "df['toy'].value_counts(dropna=True)"
   ]
  },
  {
   "cell_type": "code",
   "execution_count": 171,
   "id": "21a0e7b6-9405-474b-91a3-56411573e5bd",
   "metadata": {},
   "outputs": [
    {
     "data": {
      "text/html": [
       "<div>\n",
       "<style scoped>\n",
       "    .dataframe tbody tr th:only-of-type {\n",
       "        vertical-align: middle;\n",
       "    }\n",
       "\n",
       "    .dataframe tbody tr th {\n",
       "        vertical-align: top;\n",
       "    }\n",
       "\n",
       "    .dataframe thead th {\n",
       "        text-align: right;\n",
       "    }\n",
       "</style>\n",
       "<table border=\"1\" class=\"dataframe\">\n",
       "  <thead>\n",
       "    <tr style=\"text-align: right;\">\n",
       "      <th></th>\n",
       "      <th>name</th>\n",
       "      <th>toy</th>\n",
       "      <th>born</th>\n",
       "    </tr>\n",
       "  </thead>\n",
       "  <tbody>\n",
       "    <tr>\n",
       "      <th>0</th>\n",
       "      <td>True</td>\n",
       "      <td>False</td>\n",
       "      <td>False</td>\n",
       "    </tr>\n",
       "    <tr>\n",
       "      <th>1</th>\n",
       "      <td>True</td>\n",
       "      <td>True</td>\n",
       "      <td>True</td>\n",
       "    </tr>\n",
       "    <tr>\n",
       "      <th>2</th>\n",
       "      <td>True</td>\n",
       "      <td>True</td>\n",
       "      <td>False</td>\n",
       "    </tr>\n",
       "  </tbody>\n",
       "</table>\n",
       "</div>"
      ],
      "text/plain": [
       "   name    toy   born\n",
       "0  True  False  False\n",
       "1  True   True   True\n",
       "2  True   True  False"
      ]
     },
     "execution_count": 171,
     "metadata": {},
     "output_type": "execute_result"
    }
   ],
   "source": [
    "df.notnull()"
   ]
  },
  {
   "cell_type": "code",
   "execution_count": 172,
   "id": "bc6413c6-1f45-4d3c-ba36-51bb79997b25",
   "metadata": {},
   "outputs": [
    {
     "data": {
      "text/html": [
       "<div>\n",
       "<style scoped>\n",
       "    .dataframe tbody tr th:only-of-type {\n",
       "        vertical-align: middle;\n",
       "    }\n",
       "\n",
       "    .dataframe tbody tr th {\n",
       "        vertical-align: top;\n",
       "    }\n",
       "\n",
       "    .dataframe thead th {\n",
       "        text-align: right;\n",
       "    }\n",
       "</style>\n",
       "<table border=\"1\" class=\"dataframe\">\n",
       "  <thead>\n",
       "    <tr style=\"text-align: right;\">\n",
       "      <th></th>\n",
       "      <th>born</th>\n",
       "    </tr>\n",
       "  </thead>\n",
       "  <tbody>\n",
       "    <tr>\n",
       "      <th>count</th>\n",
       "      <td>1</td>\n",
       "    </tr>\n",
       "    <tr>\n",
       "      <th>mean</th>\n",
       "      <td>1940-04-25 00:00:00</td>\n",
       "    </tr>\n",
       "    <tr>\n",
       "      <th>min</th>\n",
       "      <td>1940-04-25 00:00:00</td>\n",
       "    </tr>\n",
       "    <tr>\n",
       "      <th>25%</th>\n",
       "      <td>1940-04-25 00:00:00</td>\n",
       "    </tr>\n",
       "    <tr>\n",
       "      <th>50%</th>\n",
       "      <td>1940-04-25 00:00:00</td>\n",
       "    </tr>\n",
       "    <tr>\n",
       "      <th>75%</th>\n",
       "      <td>1940-04-25 00:00:00</td>\n",
       "    </tr>\n",
       "    <tr>\n",
       "      <th>max</th>\n",
       "      <td>1940-04-25 00:00:00</td>\n",
       "    </tr>\n",
       "  </tbody>\n",
       "</table>\n",
       "</div>"
      ],
      "text/plain": [
       "                      born\n",
       "count                    1\n",
       "mean   1940-04-25 00:00:00\n",
       "min    1940-04-25 00:00:00\n",
       "25%    1940-04-25 00:00:00\n",
       "50%    1940-04-25 00:00:00\n",
       "75%    1940-04-25 00:00:00\n",
       "max    1940-04-25 00:00:00"
      ]
     },
     "execution_count": 172,
     "metadata": {},
     "output_type": "execute_result"
    }
   ],
   "source": [
    "df.describe()"
   ]
  },
  {
   "cell_type": "code",
   "execution_count": 173,
   "id": "41ab27e0-df65-4e32-9a63-a3a0916065cf",
   "metadata": {},
   "outputs": [
    {
     "data": {
      "text/plain": [
       "name    3\n",
       "toy     2\n",
       "born    1\n",
       "dtype: int64"
      ]
     },
     "execution_count": 173,
     "metadata": {},
     "output_type": "execute_result"
    }
   ],
   "source": [
    "df.count()"
   ]
  }
 ],
 "metadata": {
  "kernelspec": {
   "display_name": "Python 3 (ipykernel)",
   "language": "python",
   "name": "python3"
  },
  "language_info": {
   "codemirror_mode": {
    "name": "ipython",
    "version": 3
   },
   "file_extension": ".py",
   "mimetype": "text/x-python",
   "name": "python",
   "nbconvert_exporter": "python",
   "pygments_lexer": "ipython3",
   "version": "3.11.3"
  }
 },
 "nbformat": 4,
 "nbformat_minor": 5
}
