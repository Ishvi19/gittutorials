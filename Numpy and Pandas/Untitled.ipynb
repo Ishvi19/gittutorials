{
 "cells": [
  {
   "cell_type": "code",
   "execution_count": 1,
   "id": "b057a8e5-45af-4b88-bcc5-3e7658a0ad94",
   "metadata": {},
   "outputs": [],
   "source": [
    "import numpy as np"
   ]
  },
  {
   "cell_type": "code",
   "execution_count": 2,
   "id": "020f73be-09a0-487a-b72d-287076b8f72f",
   "metadata": {},
   "outputs": [],
   "source": [
    "w = [[1,2,3],[4,5,6],[7,8,9]]"
   ]
  },
  {
   "cell_type": "code",
   "execution_count": 3,
   "id": "3625c76f-9dd2-45cb-a76a-38762edb4159",
   "metadata": {},
   "outputs": [],
   "source": [
    "arr1 = np.array(w)"
   ]
  },
  {
   "cell_type": "code",
   "execution_count": 4,
   "id": "d4968e2a-16a2-4fd3-8e55-77872604940e",
   "metadata": {},
   "outputs": [
    {
     "data": {
      "text/plain": [
       "array([[1, 2, 3],\n",
       "       [4, 5, 6],\n",
       "       [7, 8, 9]])"
      ]
     },
     "execution_count": 4,
     "metadata": {},
     "output_type": "execute_result"
    }
   ],
   "source": [
    "arr1"
   ]
  },
  {
   "cell_type": "code",
   "execution_count": null,
   "id": "b5a77496-e48f-4cb3-a10e-cc928cde21cb",
   "metadata": {},
   "outputs": [],
   "source": []
  }
 ],
 "metadata": {
  "kernelspec": {
   "display_name": "Python 3 (ipykernel)",
   "language": "python",
   "name": "python3"
  },
  "language_info": {
   "codemirror_mode": {
    "name": "ipython",
    "version": 3
   },
   "file_extension": ".py",
   "mimetype": "text/x-python",
   "name": "python",
   "nbconvert_exporter": "python",
   "pygments_lexer": "ipython3",
   "version": "3.11.3"
  }
 },
 "nbformat": 4,
 "nbformat_minor": 5
}
