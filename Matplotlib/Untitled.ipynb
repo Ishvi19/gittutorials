{
 "cells": [
  {
   "cell_type": "code",
   "execution_count": 1,
   "id": "0650900b-044d-4a18-abfb-42c8b9a2bec1",
   "metadata": {},
   "outputs": [],
   "source": [
    "import matplotlib.pyplot as plt"
   ]
  },
  {
   "cell_type": "markdown",
   "id": "bbee88a5-2417-4c4b-a6cb-68e34e2db195",
   "metadata": {},
   "source": [
    "x=['Mon','Tues','Wed','Thurs','Fri']\n",
    "y=[10,23,34,15,32]\n",
    "plt.plot(x,y)\n",
    "\n",
    "plt.title('Bakery of this week')\n",
    "plt.xlabel('Days of the week')\n",
    "plt.ylabel('Sales of this week')\n",
    "\n",
    "plt.show()\n"
   ]
  }
 ],
 "metadata": {
  "kernelspec": {
   "display_name": "Python 3 (ipykernel)",
   "language": "python",
   "name": "python3"
  },
  "language_info": {
   "codemirror_mode": {
    "name": "ipython",
    "version": 3
   },
   "file_extension": ".py",
   "mimetype": "text/x-python",
   "name": "python",
   "nbconvert_exporter": "python",
   "pygments_lexer": "ipython3",
   "version": "3.11.3"
  }
 },
 "nbformat": 4,
 "nbformat_minor": 5
}
