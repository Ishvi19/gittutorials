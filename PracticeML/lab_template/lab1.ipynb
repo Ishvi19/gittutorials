{
 "cells": [
  {
   "cell_type": "code",
   "execution_count": 1,
   "id": "e8a204a3",
   "metadata": {},
   "outputs": [],
   "source": [
    "#  Lab Title: "
   ]
  },
  {
   "cell_type": "code",
   "execution_count": 2,
   "id": "3d93bd66",
   "metadata": {},
   "outputs": [],
   "source": [
    "##  Objective:\n"
   ]
  },
  {
   "cell_type": "code",
   "execution_count": 3,
   "id": "563baf2d",
   "metadata": {},
   "outputs": [],
   "source": [
    "import pandas as pd\n",
    "import numpy as np\n",
    "import matplotlib.pyplot as plt\n",
    "import seaborn as sns"
   ]
  },
  {
   "cell_type": "code",
   "execution_count": null,
   "id": "80073d4e",
   "metadata": {},
   "outputs": [],
   "source": []
  }
 ],
 "metadata": {
  "kernelspec": {
   "display_name": "Python 3",
   "language": "python",
   "name": "python3"
  },
  "language_info": {
   "codemirror_mode": {
    "name": "ipython",
    "version": 3
   },
   "file_extension": ".py",
   "mimetype": "text/x-python",
   "name": "python",
   "nbconvert_exporter": "python",
   "pygments_lexer": "ipython3",
   "version": "3.13.3"
  }
 },
 "nbformat": 4,
 "nbformat_minor": 5
}
